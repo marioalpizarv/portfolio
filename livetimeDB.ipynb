{
 "cells": [
  {
   "cell_type": "code",
   "execution_count": 1,
   "id": "e2a82baa",
   "metadata": {},
   "outputs": [],
   "source": [
    "import json\n",
    "import re\n",
    "import couchdb\n",
    "\n",
    "import numpy as np\n",
    "import matplotlib.pyplot as pl\n",
    "import matplotlib as mpl"
   ]
  },
  {
   "cell_type": "code",
   "execution_count": 2,
   "id": "247f2bb8",
   "metadata": {},
   "outputs": [
    {
     "name": "stdout",
     "output_type": "stream",
     "text": [
      "24511  livetime[s]: 87094.10989859386\n"
     ]
    }
   ],
   "source": [
    "couch = couchdb.Server(\"https://deimos.physics.carleton.ca:6984\")\n",
    "db = couch[\"deapdb\"]\n",
    "\n",
    "tablename = \"RUNINFO\"\n",
    "tableindex = \"config\"    \n",
    "\n",
    "results = db.view('WebView/dbLivetime', include_docs=True)\n",
    "\n",
    "path = \"/home/malpizar/Documents/WIMPs/SinaCutsRadNeutrons/\"\n",
    "#file = \"Livetime_info_for_subruns_RunID\"+run_number+\".txt\"\n",
    "file = \"runlist2.txt\"\n",
    "f = open(path + file, \"r+\")\n",
    "slist = f.readlines()\n",
    "#print(slist)\n",
    "total_lt = 0.0\n",
    "\"\"\"\n",
    "for i in range(len(slist)):\n",
    "    slist[i] = float(slist[i])\n",
    "    runNumber = slist[i]\n",
    "    for row in results:\n",
    "        if row.key == runNumber:\n",
    "            total_lt = total_lt + row.value\n",
    "            print(row.value)#, total_lt)\n",
    "\n",
    "print(\"Total livetime in hours: \" + str(total_lt/3600))\n",
    "\"\"\"\n",
    "        \n",
    "      \n",
    "runNumber = 24511\n",
    "for row in results:\n",
    "    if row.key == runNumber:\n",
    "        print(row.key, \" livetime[s]:\", row.value)\n"
   ]
  },
  {
   "cell_type": "code",
   "execution_count": null,
   "id": "e22755c8",
   "metadata": {},
   "outputs": [],
   "source": []
  },
  {
   "cell_type": "code",
   "execution_count": null,
   "id": "2441ca5a",
   "metadata": {},
   "outputs": [],
   "source": []
  }
 ],
 "metadata": {
  "kernelspec": {
   "display_name": "Python 3 (ipykernel)",
   "language": "python",
   "name": "python3"
  },
  "language_info": {
   "codemirror_mode": {
    "name": "ipython",
    "version": 3
   },
   "file_extension": ".py",
   "mimetype": "text/x-python",
   "name": "python",
   "nbconvert_exporter": "python",
   "pygments_lexer": "ipython3",
   "version": "3.8.10"
  }
 },
 "nbformat": 4,
 "nbformat_minor": 5
}
