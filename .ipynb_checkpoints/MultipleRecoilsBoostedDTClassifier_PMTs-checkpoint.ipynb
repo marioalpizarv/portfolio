{
 "cells": [
  {
   "cell_type": "code",
   "execution_count": 62,
   "id": "e958e909",
   "metadata": {},
   "outputs": [],
   "source": [
    "import pandas as pd\n",
    "import numpy as np\n",
    "import matplotlib.pyplot as plt\n",
    "from sklearn.model_selection import train_test_split\n",
    "from sklearn.metrics import confusion_matrix\n",
    "from sklearn.metrics import plot_roc_curve\n",
    "from sklearn.metrics import roc_curve, auc\n",
    "import seaborn as sns\n",
    "import math\n",
    "\n",
    "#Import DecisionTree as a classifier\n",
    "from sklearn.ensemble import GradientBoostingClassifier\n",
    "from sklearn.model_selection import cross_val_score\n",
    "from sklearn.model_selection import cross_validate\n",
    "from sklearn.metrics import accuracy_score\n",
    "#https://scikit-learn.org/stable/modules/generated/sklearn.metrics.recall_score.html\n",
    "from sklearn.metrics import recall_score\n",
    "#https://scikit-learn.org/stable/modules/generated/sklearn.metrics.precision_score.html\n",
    "from sklearn.metrics import precision_score\n",
    "\n",
    "import ROOT"
   ]
  },
  {
   "cell_type": "code",
   "execution_count": 63,
   "id": "8fa78141",
   "metadata": {
    "scrolled": true
   },
   "outputs": [
    {
     "name": "stdout",
     "output_type": "stream",
     "text": [
      "(1209, 25)\n"
     ]
    }
   ],
   "source": [
    "path = '/home/malpizar/Documents/MultipleScattering/backup/'\n",
    "file = 'RecoilsData.csv'\n",
    "\n",
    "df = pd.read_csv(path + file)\n",
    "\n",
    "#drop events with no recoils at all\n",
    "df = df[df['ar40recoils'] != 0]\n",
    "\n",
    "#drop rows with the value -99999, these are outliers\n",
    "df = df.drop(index=df[df.eq(-99999).any(axis=1)].index)\n",
    "\n",
    "df.head()\n",
    "print(df.shape)"
   ]
  },
  {
   "cell_type": "code",
   "execution_count": 64,
   "id": "8e97e195",
   "metadata": {},
   "outputs": [
    {
     "name": "stdout",
     "output_type": "stream",
     "text": [
      "(1209, 24)\n"
     ]
    }
   ],
   "source": [
    "#drop the variable used to make the flags for multiple recoils\n",
    "df = df.drop(['ar40recoils'], axis=1) \n",
    "print(df.shape)"
   ]
  },
  {
   "cell_type": "code",
   "execution_count": 65,
   "id": "6eabf962",
   "metadata": {},
   "outputs": [
    {
     "name": "stdout",
     "output_type": "stream",
     "text": [
      "1    934\n",
      "0    275\n",
      "Name: multiplerecoils, dtype: int64\n",
      "1    934\n",
      "0    275\n",
      "Name: multiplerecoils, dtype: int64\n"
     ]
    }
   ],
   "source": [
    "# Count the occurrences of each value in multiplerecoils\n",
    "value_counts = df['multiplerecoils'].value_counts()\n",
    "print(value_counts)\n",
    "# Drop rows with multiplerecoils to make it more even between multiple and single\n",
    "#df = df.drop(df[df['multiplerecoils'] == 1].head(659).index) #50-50\n",
    "#df = df.drop(df[df['multiplerecoils'] == 1].head(300).index) #2-1\n",
    "# Count the occurrences of each value in multiplerecoils again\n",
    "value_counts = df['multiplerecoils'].value_counts()\n",
    "print(value_counts)"
   ]
  },
  {
   "cell_type": "code",
   "execution_count": 66,
   "id": "212a34ef",
   "metadata": {},
   "outputs": [],
   "source": [
    "# Get a random permutation of the DataFrame's index\n",
    "random_order = np.random.RandomState(seed=9).permutation(df.index)\n",
    "\n",
    "# Reorder the DataFrame randomly using the random permutation\n",
    "df = df.loc[random_order]"
   ]
  },
  {
   "cell_type": "code",
   "execution_count": 67,
   "id": "2cfb3e58",
   "metadata": {},
   "outputs": [
    {
     "name": "stdout",
     "output_type": "stream",
     "text": [
      "1    934\n",
      "0    275\n",
      "Name: multiplerecoils, dtype: int64\n"
     ]
    }
   ],
   "source": [
    "# Count the occurrences of each value in multiplerecoils again\n",
    "value_counts = df['multiplerecoils'].value_counts()\n",
    "print(value_counts)"
   ]
  },
  {
   "cell_type": "code",
   "execution_count": 68,
   "id": "f98df068",
   "metadata": {},
   "outputs": [
    {
     "name": "stdout",
     "output_type": "stream",
     "text": [
      "(1209, 23)\n",
      "(1209,)\n"
     ]
    }
   ],
   "source": [
    "#dependent variable that will be predicted\n",
    "var = 'multiplerecoils'\n",
    "\n",
    "X = df.drop([var], axis=1)\n",
    "\n",
    "# Select the dependent variable\n",
    "y = df[var] \n",
    "\n",
    "print(X.shape)\n",
    "print(y.shape)"
   ]
  },
  {
   "cell_type": "code",
   "execution_count": 69,
   "id": "088e2350",
   "metadata": {},
   "outputs": [
    {
     "name": "stdout",
     "output_type": "stream",
     "text": [
      "Created Boosted Decision Tree Classifier\n"
     ]
    }
   ],
   "source": [
    "# Create the GradientBoostingClassifier (Boosted Decision Tree)\n",
    "boosted_tree = GradientBoostingClassifier(n_estimators=100, learning_rate=0.1, random_state=42)\n",
    "\n",
    "print(\"Created Boosted Decision Tree Classifier\")"
   ]
  },
  {
   "cell_type": "code",
   "execution_count": 9,
   "id": "30235ec7",
   "metadata": {},
   "outputs": [
    {
     "name": "stdout",
     "output_type": "stream",
     "text": [
      "Cross-Validation Scores:\n",
      "Fold 1: 0.80\n",
      "Fold 2: 0.76\n",
      "Fold 3: 0.76\n",
      "Fold 4: 0.82\n",
      "Fold 5: 0.79\n",
      "Fold 6: 0.81\n",
      "Fold 7: 0.76\n",
      "Fold 8: 0.82\n",
      "Fold 9: 0.82\n",
      "Fold 10: 0.74\n",
      "\n",
      "Average Score: 0.79\n"
     ]
    }
   ],
   "source": [
    "# Perform cross-validation with 10 folds\n",
    "# 'cv' parameter specifies the number of folds\n",
    "# 'scoring' parameter specifies the evaluation metric (e.g., 'accuracy')\n",
    "cross_val_scores = cross_val_score(boosted_tree, X, y, cv=10, scoring='accuracy')\n",
    "\n",
    "# Print the cross-validation scores for each fold\n",
    "print(\"Cross-Validation Scores:\")\n",
    "for fold, score in enumerate(cross_val_scores, start=1):\n",
    "    print(f\"Fold {fold}: {score:.2f}\")\n",
    "\n",
    "# Calculate and print the average cross-validation score\n",
    "average_score = cross_val_scores.mean()\n",
    "print(f\"\\nAverage Score: {average_score:.2f}\")"
   ]
  },
  {
   "cell_type": "code",
   "execution_count": 10,
   "id": "3ae9a745",
   "metadata": {},
   "outputs": [
    {
     "data": {
      "text/plain": [
       "'\\nscores = cross_validate(boosted_tree, X, y, cv=10, scoring=\\'accuracy\\',return_train_score=True)\\n\\n# Print the cross-validation scores for each fold\\nprint(\"Cross-Validate Test Scores:\")\\nfor fold, score in enumerate(scores[\\'test_score\\'], start=1):\\n    print(f\"Fold {fold}: {score:.2f}\")\\n\\n# Calculate and print the average cross-validation score\\naverage_scoreval = scores[\\'test_score\\'].mean()\\nprint(f\"\\nAverage Test Score: {average_scoreval:.2f}\")\\n\\n# Print the cross-validation train scores for each fold\\nprint(\"\\nCross-Validate Train Scores:\")\\nfor fold, score in enumerate(scores[\\'train_score\\'], start=1):\\n    print(f\"Fold {fold}: {score:.2f}\")\\n\\n# Calculate and print the average cross-validation score\\naverage_scoreval = scores[\\'train_score\\'].mean()\\nprint(f\"\\nAverage Train Score: {average_scoreval:.2f}\")\\n\\n# Print the cross-validation fit times for each fold\\nprint(\"\\nFit Times (s):\")\\nfor fold, fit_time in enumerate(scores[\\'fit_time\\'], start=1):\\n    print(f\"Fold {fold}: {fit_time:.2f}\")\\n\\n# Calculate and print the average fit time\\naverage_fittime = scores[\\'fit_time\\'].mean()\\nprint(f\"\\nAverage fit time: {average_fittime:.2f}\")\\n\\n# Print the cross-validation score times for each fold\\nprint(\"\\nScore Times (s):\")\\nfor fold, score_time in enumerate(scores[\\'score_time\\'], start=1):\\n    print(f\"Fold {fold}: {score_time:.2f}\")\\n\\n# Calculate and print the average score time\\naverage_scoretime = scores[\\'score_time\\'].mean()\\nprint(f\"\\nAverage score time: {average_scoretime:.2f}\")\\n'"
      ]
     },
     "execution_count": 10,
     "metadata": {},
     "output_type": "execute_result"
    }
   ],
   "source": [
    "#optional\n",
    "#additional cross validation scores\n",
    "'''\n",
    "scores = cross_validate(boosted_tree, X, y, cv=10, scoring='accuracy',return_train_score=True)\n",
    "\n",
    "# Print the cross-validation scores for each fold\n",
    "print(\"Cross-Validate Test Scores:\")\n",
    "for fold, score in enumerate(scores['test_score'], start=1):\n",
    "    print(f\"Fold {fold}: {score:.2f}\")\n",
    "\n",
    "# Calculate and print the average cross-validation score\n",
    "average_scoreval = scores['test_score'].mean()\n",
    "print(f\"\\nAverage Test Score: {average_scoreval:.2f}\")\n",
    "\n",
    "# Print the cross-validation train scores for each fold\n",
    "print(\"\\nCross-Validate Train Scores:\")\n",
    "for fold, score in enumerate(scores['train_score'], start=1):\n",
    "    print(f\"Fold {fold}: {score:.2f}\")\n",
    "\n",
    "# Calculate and print the average cross-validation score\n",
    "average_scoreval = scores['train_score'].mean()\n",
    "print(f\"\\nAverage Train Score: {average_scoreval:.2f}\")\n",
    "\n",
    "# Print the cross-validation fit times for each fold\n",
    "print(\"\\nFit Times (s):\")\n",
    "for fold, fit_time in enumerate(scores['fit_time'], start=1):\n",
    "    print(f\"Fold {fold}: {fit_time:.2f}\")\n",
    "\n",
    "# Calculate and print the average fit time\n",
    "average_fittime = scores['fit_time'].mean()\n",
    "print(f\"\\nAverage fit time: {average_fittime:.2f}\")\n",
    "\n",
    "# Print the cross-validation score times for each fold\n",
    "print(\"\\nScore Times (s):\")\n",
    "for fold, score_time in enumerate(scores['score_time'], start=1):\n",
    "    print(f\"Fold {fold}: {score_time:.2f}\")\n",
    "\n",
    "# Calculate and print the average score time\n",
    "average_scoretime = scores['score_time'].mean()\n",
    "print(f\"\\nAverage score time: {average_scoretime:.2f}\")\n",
    "'''"
   ]
  },
  {
   "cell_type": "code",
   "execution_count": 70,
   "id": "501ab2f5",
   "metadata": {},
   "outputs": [
    {
     "name": "stdout",
     "output_type": "stream",
     "text": [
      "(967, 23)\n",
      "(967,)\n",
      "(242, 23)\n",
      "(242,)\n"
     ]
    }
   ],
   "source": [
    "# Splitting the dataset to Train and test\n",
    "X_train, X_test, y_train, y_test = train_test_split(X, y, test_size=0.2, random_state=0)\n",
    "\n",
    "print(X_train.shape)\n",
    "print(y_train.shape)\n",
    "print(X_test.shape)\n",
    "print(y_test.shape)"
   ]
  },
  {
   "cell_type": "code",
   "execution_count": 71,
   "id": "66b9a01e",
   "metadata": {},
   "outputs": [
    {
     "name": "stdout",
     "output_type": "stream",
     "text": [
      "Training set score: 0.927611\n",
      "Test set score: 0.814050\n"
     ]
    }
   ],
   "source": [
    "#Train DT\n",
    "boosted_tree.fit(X_train, y_train)\n",
    "print(\"Training set score: %f\" % boosted_tree.score(X_train, y_train))\n",
    "print(\"Test set score: %f\" % boosted_tree.score(X_test, y_test))"
   ]
  },
  {
   "cell_type": "code",
   "execution_count": 72,
   "id": "2a62c4b9",
   "metadata": {},
   "outputs": [],
   "source": [
    "# Make predictions on the test set\n",
    "y_pred = boosted_tree.predict(X_test)"
   ]
  },
  {
   "cell_type": "code",
   "execution_count": 73,
   "id": "a0c804f6",
   "metadata": {},
   "outputs": [
    {
     "name": "stdout",
     "output_type": "stream",
     "text": [
      "Accuracy: 0.81405\n"
     ]
    }
   ],
   "source": [
    "# Calculate the accuracy of the model\n",
    "accuracy = accuracy_score(y_test, y_pred)\n",
    "print(f\"Accuracy: {accuracy:.5f}\")"
   ]
  },
  {
   "cell_type": "code",
   "execution_count": 74,
   "id": "0148aace",
   "metadata": {},
   "outputs": [
    {
     "data": {
      "image/png": "[encoded data removed]",
      "text/plain": [
       "<Figure size 360x288 with 2 Axes>"
      ]
     },
     "metadata": {
      "needs_background": "light"
     },
     "output_type": "display_data"
    }
   ],
   "source": [
    "# Creating  a confusion matrix,which compares the y_test and y_pred\n",
    "cm = confusion_matrix(y_test, y_pred)\n",
    "\n",
    "# Define the class labels\n",
    "# Create a mapping dictionary to replace 0 with 'single' and 1 with 'multiple'\n",
    "#label_mapping = {0: 'single recoils', 1: 'multiple recoils'}\n",
    "\n",
    "# Replace the labels using the mapping dictionary\n",
    "#df[var] = df[var].replace(label_mapping)\n",
    "\n",
    "#class_labels = df[var].unique()\n",
    "#class_labels = ['single recoils', 'multiple recoils'] #negative, positive\n",
    "\n",
    "# Plot the confusion matrix\n",
    "plt.figure(figsize=(5, 4))\n",
    "sns.heatmap(cm, annot=True, cmap='Greens', fmt='d')\n",
    "\n",
    "# Add a legend\n",
    "tick_marks = np.arange(len(df[var].unique())) + 0.5\n",
    "plt.xticks(tick_marks, ['Single Recoils', 'Multiple Recoils'])\n",
    "plt.yticks(tick_marks, ['Single Recoils', 'Multiple Recoils'])\n",
    "plt.xlabel('Predicted')\n",
    "plt.ylabel('True')\n",
    "plt.title('Confusion Matrix for BDT Classifier')\n",
    "\n",
    "# Display the plot\n",
    "plt.show()"
   ]
  },
  {
   "cell_type": "code",
   "execution_count": 75,
   "id": "ffc4d2cf",
   "metadata": {},
   "outputs": [
    {
     "name": "stdout",
     "output_type": "stream",
     "text": [
      "The recall is:  0.9567567567567568\n",
      "The precision is:  0.8271028037383178\n",
      "The F1-score is:  0.8872180451127819\n",
      "\n",
      "The weighted recall is:  0.8140495867768595\n",
      "The weighted precision is:  0.8005301834953493\n",
      "The weighted F1-score is:  0.8072332839484601\n"
     ]
    }
   ],
   "source": [
    "#calculate recall, precision and F1 score\n",
    "\n",
    "rec = recall_score(y_test, y_pred)#, average='binary')\n",
    "#The recall is intuitively the ability of the classifier to find all the positive samples.\n",
    "pres = precision_score(y_test, y_pred)#, average='binary')\n",
    "#The precision is intuitively the ability of the classifier not to label as positive a sample that is negative.\n",
    "F1_score = 2/((1/rec) + (1/pres))\n",
    "#F1 is the harmmonic mean between recall and precision\n",
    "\n",
    "#weighted metrics\n",
    "wrec = recall_score(y_test, y_pred, average='weighted')\n",
    "wpres = precision_score(y_test, y_pred, average='weighted')\n",
    "wF1_score = 2/((1/wrec) + (1/wpres))\n",
    "\n",
    "print(\"The recall is: \", rec)\n",
    "print(\"The precision is: \", pres)\n",
    "print(\"The F1-score is: \", F1_score)\n",
    "\n",
    "print(\"\\nThe weighted recall is: \", wrec)\n",
    "print(\"The weighted precision is: \", wpres)\n",
    "print(\"The weighted F1-score is: \", wF1_score)"
   ]
  },
  {
   "cell_type": "code",
   "execution_count": 76,
   "id": "2c4ed3ce",
   "metadata": {},
   "outputs": [
    {
     "name": "stdout",
     "output_type": "stream",
     "text": [
      "True Negative: 20\n",
      "False Positive: 37\n",
      "False Negative: 8\n",
      "True Positive: 177\n",
      "\n",
      "Error rate: 0.1859504132231405\n",
      "Accuracy: 0.8140495867768595\n",
      "Recall: 0.9567567567567568\n",
      "Specificity: 0.3508771929824561\n",
      "Precision: 0.8271028037383178\n",
      "False positive rate: 0.6491228070175439\n",
      "Mathews correlation coefficient: 0.3954798878038077\n",
      "F1 score: 0.8872180451127819\n"
     ]
    }
   ],
   "source": [
    "#metrics by hand\n",
    "\n",
    "tn, fp, fn, tp = cm.ravel()\n",
    "\n",
    "err = (fp + fn)/(fp + fn + tn + tp)\n",
    "acc = (tp + tn)/(fp + fn + tn + tp)\n",
    "re = tp/(tp + fn)\n",
    "sp = tn/(tn + fp)\n",
    "prec = tp/(tp + fp)\n",
    "fpr = fp/(tn + fp)\n",
    "mcc = ((tp*tn) - (fp*fn))/math.sqrt((tp + fp)*(tp + tn)*(tn + fp)*(tn + fn))\n",
    "F1 = 2/((1/re) + (1/prec))\n",
    "\n",
    "print(\"True Negative:\", tn)\n",
    "print(\"False Positive:\", fp)\n",
    "print(\"False Negative:\", fn)\n",
    "print(\"True Positive:\", tp)\n",
    "print(\"\\nError rate:\", err)\n",
    "print(\"Accuracy:\", acc)\n",
    "print(\"Recall:\", re) #sensitivity, true positive rate\n",
    "print(\"Specificity:\", sp) #true negative rate\n",
    "print(\"Precision:\", prec) #positive predictive value\n",
    "print(\"False positive rate:\", fpr)\n",
    "print(\"Mathews correlation coefficient:\", mcc)\n",
    "print(\"F1 score:\", F1)"
   ]
  },
  {
   "cell_type": "code",
   "execution_count": 77,
   "id": "c54e7acb",
   "metadata": {},
   "outputs": [
    {
     "name": "stdout",
     "output_type": "stream",
     "text": [
      "                   Feature  Importance\n",
      "14          rprompt60Bayes    0.167773\n",
      "1                  fprompt    0.147616\n",
      "5                   fmaxpe    0.102000\n",
      "7            chargetopring    0.069379\n",
      "13                nSCBayes    0.064147\n",
      "17           mblikelihoodZ    0.063141\n",
      "18           mblikelihoodR    0.057841\n",
      "3                eventTime    0.047502\n",
      "0                      qPE    0.036011\n",
      "16           mblikelihoodY    0.033645\n",
      "10  chargesecondbottomring    0.029615\n",
      "11   chargethirdbottomring    0.028005\n",
      "12      pulseindexfirstgar    0.025253\n",
      "20               timefit2Y    0.024059\n",
      "8         chargesecondring    0.021808\n",
      "22                  deltat    0.021399\n",
      "15           mblikelihoodX    0.018589\n",
      "9         chargebottomring    0.017443\n",
      "19               timefit2X    0.012830\n",
      "21               timefit2Z    0.007597\n",
      "4           numEarlyPulses    0.004189\n",
      "2                subeventN    0.000158\n",
      "6                neckVetoN    0.000000\n",
      "\n",
      "Total Importance: 0.9999999999999998\n"
     ]
    }
   ],
   "source": [
    "# Get the feature importances\n",
    "importance = boosted_tree.feature_importances_\n",
    "\n",
    "# Create a DataFrame to display the feature importances\n",
    "feature_importances_df = pd.DataFrame({'Feature': X.columns, 'Importance': importance})\n",
    "\n",
    "# Sort the DataFrame by importance in descending order\n",
    "feature_importances_df = feature_importances_df.sort_values(by='Importance', ascending=False)\n",
    "\n",
    "print(feature_importances_df)\n",
    "\n",
    "# Sum all the importance values\n",
    "total_importance = feature_importances_df.sum()\n",
    "print(\"\")\n",
    "print(f\"Total Importance: {total_importance['Importance']}\")"
   ]
  },
  {
   "cell_type": "code",
   "execution_count": 78,
   "id": "77f053a1",
   "metadata": {},
   "outputs": [
    {
     "data": {
      "image/png": "[encoded data removed]",
      "text/plain": [
       "<Figure size 576x432 with 1 Axes>"
      ]
     },
     "metadata": {
      "needs_background": "light"
     },
     "output_type": "display_data"
    }
   ],
   "source": [
    "# Get predicted probabilities for the positive class (1) on the test set\n",
    "y_prob = boosted_tree.predict_proba(X_test)[:, 1]\n",
    "\n",
    "# Compute the ROC curve\n",
    "fpr, tpr, thresholds = roc_curve(y_test, y_prob)\n",
    "roc_auc = auc(fpr, tpr)\n",
    "\n",
    "# Plot the ROC curve\n",
    "plt.figure(figsize=(8, 6))\n",
    "plt.plot(fpr, tpr, color='g', lw=2, label='ROC curve (area under the curve (AUC) = {:.2f})'.format(roc_auc))\n",
    "plt.plot([0, 1], [0, 1], color='gray', lw=1, linestyle='--')\n",
    "plt.xlim([0.0, 1.0])\n",
    "plt.ylim([0.0, 1.05])\n",
    "plt.xlabel('False Positive Rate (Positive label: multiple)')\n",
    "plt.ylabel('True Positive Rate (Positive label: multiple)')\n",
    "plt.title('Receiver Operating Characteristic (ROC) Curve for BDT Classifier')\n",
    "plt.legend(loc='lower right')\n",
    "plt.grid(True)\n",
    "plt.show()"
   ]
  },
  {
   "cell_type": "code",
   "execution_count": 79,
   "id": "b4757d4e",
   "metadata": {},
   "outputs": [
    {
     "name": "stdout",
     "output_type": "stream",
     "text": [
      "         qPE   fprompt  subeventN  eventTime  numEarlyPulses    fmaxpe  \\\n",
      "0    151.599  0.633919          1    2474.63               0  0.085744   \n",
      "1     69.742  0.465750          1    2450.58               0  0.044789   \n",
      "2    421.432  0.657132          1    2479.66               1  0.044735   \n",
      "3  31930.600  0.262738          1    2536.49               0  0.058467   \n",
      "4   8530.490  0.282214          1    2477.92               1  0.026606   \n",
      "\n",
      "   neckVetoN  chargetopring  chargesecondring  chargebottomring  ...  \\\n",
      "0          0        0.00000          3.591040           2.85493  ...   \n",
      "1          0        1.55827          0.823304           0.00000  ...   \n",
      "2          0        7.77255          0.767053          12.17010  ...   \n",
      "3          0      378.18400        402.506000         374.69100  ...   \n",
      "4          0      133.76100        101.620000         126.95400  ...   \n",
      "\n",
      "     nSCBayes  rprompt60Bayes  mblikelihoodX  mblikelihoodY  mblikelihoodZ  \\\n",
      "0    139.3130        0.628437      -511.8220       553.4100        54.9167   \n",
      "1     63.0174        0.436010       553.1380        12.9661       226.7910   \n",
      "2    404.2190        0.663404       -49.8712       668.9500      -274.3900   \n",
      "3  28110.7000        0.241920       722.0900        27.4209       235.3810   \n",
      "4   7337.5700        0.271077      -382.7350       467.8650       266.7900   \n",
      "\n",
      "   mblikelihoodR  timefit2X  timefit2Y  timefit2Z        deltat  \n",
      "0        755.805  -508.7310   514.2900    213.468  6.165180e+08  \n",
      "1        597.966   774.1170  -181.3500    264.385  1.502770e+08  \n",
      "2        724.756   -83.3931   565.5720   -179.356  3.622940e+08  \n",
      "3        759.980   752.9170    33.5253    211.973  1.430180e+09  \n",
      "4        660.727  -425.0080   540.3130    296.225  7.033490e+09  \n",
      "\n",
      "[5 rows x 23 columns]\n"
     ]
    }
   ],
   "source": [
    "#pip install root-numpy #issue with root version ImportError: dynamic module does not define module export function (PyInit_libPyROOT)\n",
    "#save predicted multiple recoils to a .root file\n",
    "\n",
    "# Convert y_pred to a DataFrame with a column name\n",
    "y2_pred = pd.DataFrame(data = y_pred, index=X_test.index, columns = [var])\n",
    "\n",
    "prediction = pd.concat([X_test, y2_pred], axis=1)\n",
    "\n",
    "#keep only multiple recoils and drop that column\n",
    "prediction = prediction[prediction[var] == 1]\n",
    "prediction = prediction.drop([var], axis=1)\n",
    "\n",
    "#reset the indexes of prediction\n",
    "prediction.reset_index(drop=True, inplace=True)\n",
    "\n",
    "print(prediction.head())\n",
    "#save to csv\n",
    "#prediction.to_csv('prediction.csv', index=False)"
   ]
  },
  {
   "cell_type": "code",
   "execution_count": 81,
   "id": "a31998f9",
   "metadata": {},
   "outputs": [
    {
     "name": "stdout",
     "output_type": "stream",
     "text": [
      "There are 29 events in strip1.\n",
      "There are 21 events in strip2.\n",
      "There are 8 events in strip3.\n",
      "There are 6 events in the R.o.I.\n",
      "There are 8 events in the PLR R.o.I.\n"
     ]
    },
    {
     "name": "stderr",
     "output_type": "stream",
     "text": [
      "Warning in <TFile::Init>: file new_blinding_boxes.root probably not closed, trying to recover\n",
      "Info in <TFile::Recover>: new_blinding_boxes.root, recovered key TGraph:roi_gr at address 242\n",
      "Info in <TFile::Recover>: new_blinding_boxes.root, recovered key TGraph:strip2_gr at address 3281\n",
      "Info in <TFile::Recover>: new_blinding_boxes.root, recovered key TGraph:strip1_gr at address 4352\n",
      "Warning in <TFile::Init>: successfully recovered 3 keys\n",
      "Warning in <TFile::Init>: no StreamerInfo found in new_blinding_boxes.root therefore preventing schema evolution when reading this file. The file was produced with version 5.34/36 of ROOT.\n"
     ]
    }
   ],
   "source": [
    "# Path to the .root file\n",
    "root_file_path = 'roi_802_days_11March2020_nsc_rp60_all_tops.root'\n",
    "root_file_path2 = 'new_blinding_boxes.root'\n",
    "root_file_path3 = 'save_roi_PLR.root'\n",
    "\n",
    "# Name of the TCutG you want to use\n",
    "strip1_name = 'strip1_gr'\n",
    "strip2_name = 'strip2_gr'\n",
    "strip3_name = 'roi_gr'\n",
    "roi_name = 'roi_top30_cut'\n",
    "roi_plr_name = 'roi_plr_gr'\n",
    "\n",
    "root_file = ROOT.TFile.Open(root_file_path)\n",
    "root_file2 = ROOT.TFile.Open(root_file_path2)\n",
    "root_file3 = ROOT.TFile.Open(root_file_path3)\n",
    "\n",
    "roi = root_file.Get(roi_name)\n",
    "strip1 = root_file2.Get(strip1_name)\n",
    "strip2 = root_file2.Get(strip2_name)\n",
    "strip3 = root_file2.Get(strip3_name)\n",
    "roi_plr = root_file3.Get(roi_plr_name)\n",
    "\n",
    "# Step 2: Define a function to evaluate the TCutG for each event in the DataFrame\n",
    "def apply_tcutg(df, cutg, cut_name):\n",
    "    # Create a new column to store the result of the TCutG evaluation\n",
    "    column_name = 'passes_cut' + cut_name\n",
    "    df[column_name] = False\n",
    "\n",
    "    # Evaluate the TCutG for each event in the DataFrame\n",
    "    for i in range(df.shape[0]):\n",
    "        if cutg.IsInside(df['qPE'][i], df['fprompt'][i]):\n",
    "            df.loc[i, column_name] = True\n",
    "\n",
    "apply_tcutg(prediction, strip1, '_strip1')\n",
    "apply_tcutg(prediction, strip2, '_strip2')\n",
    "apply_tcutg(prediction, strip3, '_strip3')\n",
    "apply_tcutg(prediction, roi, '_roi')\n",
    "apply_tcutg(prediction, roi_plr, '_roi_plr')\n",
    "\n",
    "passed_s1 = prediction['passes_cut_strip1'].value_counts()[1]\n",
    "passed_s2 = prediction['passes_cut_strip2'].value_counts()[1]\n",
    "passed_s3 = prediction['passes_cut_strip3'].value_counts()[1]\n",
    "passed_roi = prediction['passes_cut_roi'].value_counts()[1]\n",
    "passed_roi_plr = prediction['passes_cut_roi_plr'].value_counts()[1]\n",
    "\n",
    "print('There are', passed_s1, 'events in strip1.')\n",
    "print('There are', passed_s2, 'events in strip2.')\n",
    "print('There are', passed_s3, 'events in strip3.')\n",
    "print('There are', passed_roi, 'events in the R.o.I.')\n",
    "print('There are', passed_roi_plr, 'events in the PLR R.o.I.')\n",
    "# Step 3: Print the DataFrame after applying the cut\n",
    "#print(prediction)\n",
    "\n",
    "# Close the ROOT file\n",
    "root_file.Close()\n",
    "root_file2.Close()\n",
    "root_file3.Close()"
   ]
  },
  {
   "cell_type": "code",
   "execution_count": null,
   "id": "acc27315",
   "metadata": {},
   "outputs": [],
   "source": []
  }
 ],
 "metadata": {
  "kernelspec": {
   "display_name": "Python 3 (ipykernel)",
   "language": "python",
   "name": "python3"
  },
  "language_info": {
   "codemirror_mode": {
    "name": "ipython",
    "version": 3
   },
   "file_extension": ".py",
   "mimetype": "text/x-python",
   "name": "python",
   "nbconvert_exporter": "python",
   "pygments_lexer": "ipython3",
   "version": "3.9.7"
  }
 },
 "nbformat": 4,
 "nbformat_minor": 5
}
