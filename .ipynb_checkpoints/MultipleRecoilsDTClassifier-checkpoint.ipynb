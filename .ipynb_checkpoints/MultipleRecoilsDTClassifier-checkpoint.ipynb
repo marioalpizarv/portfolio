{
 "cells": [
  {
   "cell_type": "code",
   "execution_count": 3,
   "id": "e958e909",
   "metadata": {},
   "outputs": [],
   "source": [
    "import pandas as pd\n",
    "import numpy as np\n",
    "import matplotlib.pyplot as plt\n",
    "from sklearn.model_selection import train_test_split\n",
    "from sklearn.metrics import confusion_matrix\n",
    "import seaborn as sns\n",
    "\n",
    "#Import MultiLayerPerceptron as a classifier\n",
    "from sklearn.datasets import fetch_openml\n",
    "from sklearn.neural_network import MLPClassifier\n",
    "#https://scikit-learn.org/stable/modules/generated/sklearn.metrics.recall_score.html\n",
    "from sklearn.metrics import recall_score\n",
    "#https://scikit-learn.org/stable/modules/generated/sklearn.metrics.precision_score.html\n",
    "from sklearn.metrics import precision_score"
   ]
  },
  {
   "cell_type": "code",
   "execution_count": 100,
   "id": "8fa78141",
   "metadata": {
    "scrolled": true
   },
   "outputs": [
    {
     "data": {
      "text/html": [
       "<div>\n",
       "<style scoped>\n",
       "    .dataframe tbody tr th:only-of-type {\n",
       "        vertical-align: middle;\n",
       "    }\n",
       "\n",
       "    .dataframe tbody tr th {\n",
       "        vertical-align: top;\n",
       "    }\n",
       "\n",
       "    .dataframe thead th {\n",
       "        text-align: right;\n",
       "    }\n",
       "</style>\n",
       "<table border=\"1\" class=\"dataframe\">\n",
       "  <thead>\n",
       "    <tr style=\"text-align: right;\">\n",
       "      <th></th>\n",
       "      <th>qPE</th>\n",
       "      <th>fprompt</th>\n",
       "      <th>subeventN</th>\n",
       "      <th>eventTime</th>\n",
       "      <th>numEarlyPulses</th>\n",
       "      <th>fmaxpe</th>\n",
       "      <th>neckVetoN</th>\n",
       "      <th>chargetopring</th>\n",
       "      <th>chargesecondring</th>\n",
       "      <th>chargebottomring</th>\n",
       "      <th>...</th>\n",
       "      <th>rprompt60Bayes</th>\n",
       "      <th>mblikelihoodX</th>\n",
       "      <th>mblikelihoodY</th>\n",
       "      <th>mblikelihoodZ</th>\n",
       "      <th>mblikelihoodR</th>\n",
       "      <th>timefit2X</th>\n",
       "      <th>timefit2Y</th>\n",
       "      <th>timefit2Z</th>\n",
       "      <th>deltat</th>\n",
       "      <th>multiplerecoils</th>\n",
       "    </tr>\n",
       "  </thead>\n",
       "  <tbody>\n",
       "    <tr>\n",
       "      <th>0</th>\n",
       "      <td>897.881</td>\n",
       "      <td>0.288192</td>\n",
       "      <td>3</td>\n",
       "      <td>6823.58</td>\n",
       "      <td>0</td>\n",
       "      <td>0.100060</td>\n",
       "      <td>0</td>\n",
       "      <td>8.997950</td>\n",
       "      <td>10.14460</td>\n",
       "      <td>7.16615</td>\n",
       "      <td>...</td>\n",
       "      <td>0.252861</td>\n",
       "      <td>-820.292</td>\n",
       "      <td>-21.3818</td>\n",
       "      <td>90.2634</td>\n",
       "      <td>825.520</td>\n",
       "      <td>-824.671</td>\n",
       "      <td>2.71637</td>\n",
       "      <td>123.9660</td>\n",
       "      <td>0.000000e+00</td>\n",
       "      <td>1</td>\n",
       "    </tr>\n",
       "    <tr>\n",
       "      <th>2</th>\n",
       "      <td>13220.700</td>\n",
       "      <td>0.263567</td>\n",
       "      <td>1</td>\n",
       "      <td>2518.48</td>\n",
       "      <td>0</td>\n",
       "      <td>0.147903</td>\n",
       "      <td>0</td>\n",
       "      <td>151.483000</td>\n",
       "      <td>170.06800</td>\n",
       "      <td>223.16400</td>\n",
       "      <td>...</td>\n",
       "      <td>0.245206</td>\n",
       "      <td>-426.294</td>\n",
       "      <td>366.4770</td>\n",
       "      <td>-629.0580</td>\n",
       "      <td>843.650</td>\n",
       "      <td>-400.105</td>\n",
       "      <td>351.84600</td>\n",
       "      <td>-572.9740</td>\n",
       "      <td>3.421160e+08</td>\n",
       "      <td>0</td>\n",
       "    </tr>\n",
       "    <tr>\n",
       "      <th>3</th>\n",
       "      <td>339.598</td>\n",
       "      <td>0.266796</td>\n",
       "      <td>1</td>\n",
       "      <td>2533.96</td>\n",
       "      <td>0</td>\n",
       "      <td>0.301061</td>\n",
       "      <td>0</td>\n",
       "      <td>0.548762</td>\n",
       "      <td>3.66632</td>\n",
       "      <td>3.03054</td>\n",
       "      <td>...</td>\n",
       "      <td>0.257810</td>\n",
       "      <td>265.740</td>\n",
       "      <td>728.3210</td>\n",
       "      <td>347.9990</td>\n",
       "      <td>849.807</td>\n",
       "      <td>333.280</td>\n",
       "      <td>706.96400</td>\n",
       "      <td>292.9060</td>\n",
       "      <td>1.882110e+09</td>\n",
       "      <td>0</td>\n",
       "    </tr>\n",
       "    <tr>\n",
       "      <th>4</th>\n",
       "      <td>8236.180</td>\n",
       "      <td>0.290964</td>\n",
       "      <td>1</td>\n",
       "      <td>2499.11</td>\n",
       "      <td>0</td>\n",
       "      <td>0.034612</td>\n",
       "      <td>0</td>\n",
       "      <td>95.239900</td>\n",
       "      <td>87.45680</td>\n",
       "      <td>128.78900</td>\n",
       "      <td>...</td>\n",
       "      <td>0.277564</td>\n",
       "      <td>-303.382</td>\n",
       "      <td>-645.5360</td>\n",
       "      <td>15.0821</td>\n",
       "      <td>713.432</td>\n",
       "      <td>-293.501</td>\n",
       "      <td>-642.85400</td>\n",
       "      <td>12.9752</td>\n",
       "      <td>1.761190e+09</td>\n",
       "      <td>1</td>\n",
       "    </tr>\n",
       "    <tr>\n",
       "      <th>5</th>\n",
       "      <td>23070.400</td>\n",
       "      <td>0.279670</td>\n",
       "      <td>1</td>\n",
       "      <td>2513.05</td>\n",
       "      <td>0</td>\n",
       "      <td>0.044565</td>\n",
       "      <td>0</td>\n",
       "      <td>291.771000</td>\n",
       "      <td>285.84700</td>\n",
       "      <td>829.75300</td>\n",
       "      <td>...</td>\n",
       "      <td>0.265905</td>\n",
       "      <td>361.525</td>\n",
       "      <td>-135.8020</td>\n",
       "      <td>-607.7710</td>\n",
       "      <td>720.089</td>\n",
       "      <td>391.899</td>\n",
       "      <td>-144.54800</td>\n",
       "      <td>-589.0730</td>\n",
       "      <td>7.663620e+08</td>\n",
       "      <td>1</td>\n",
       "    </tr>\n",
       "  </tbody>\n",
       "</table>\n",
       "<p>5 rows × 24 columns</p>\n",
       "</div>"
      ],
      "text/plain": [
       "         qPE   fprompt  subeventN  eventTime  numEarlyPulses    fmaxpe  \\\n",
       "0    897.881  0.288192          3    6823.58               0  0.100060   \n",
       "2  13220.700  0.263567          1    2518.48               0  0.147903   \n",
       "3    339.598  0.266796          1    2533.96               0  0.301061   \n",
       "4   8236.180  0.290964          1    2499.11               0  0.034612   \n",
       "5  23070.400  0.279670          1    2513.05               0  0.044565   \n",
       "\n",
       "   neckVetoN  chargetopring  chargesecondring  chargebottomring  ...  \\\n",
       "0          0       8.997950          10.14460           7.16615  ...   \n",
       "2          0     151.483000         170.06800         223.16400  ...   \n",
       "3          0       0.548762           3.66632           3.03054  ...   \n",
       "4          0      95.239900          87.45680         128.78900  ...   \n",
       "5          0     291.771000         285.84700         829.75300  ...   \n",
       "\n",
       "   rprompt60Bayes  mblikelihoodX  mblikelihoodY  mblikelihoodZ  mblikelihoodR  \\\n",
       "0        0.252861       -820.292       -21.3818        90.2634        825.520   \n",
       "2        0.245206       -426.294       366.4770      -629.0580        843.650   \n",
       "3        0.257810        265.740       728.3210       347.9990        849.807   \n",
       "4        0.277564       -303.382      -645.5360        15.0821        713.432   \n",
       "5        0.265905        361.525      -135.8020      -607.7710        720.089   \n",
       "\n",
       "   timefit2X  timefit2Y  timefit2Z        deltat  multiplerecoils  \n",
       "0   -824.671    2.71637   123.9660  0.000000e+00                1  \n",
       "2   -400.105  351.84600  -572.9740  3.421160e+08                0  \n",
       "3    333.280  706.96400   292.9060  1.882110e+09                0  \n",
       "4   -293.501 -642.85400    12.9752  1.761190e+09                1  \n",
       "5    391.899 -144.54800  -589.0730  7.663620e+08                1  \n",
       "\n",
       "[5 rows x 24 columns]"
      ]
     },
     "execution_count": 100,
     "metadata": {},
     "output_type": "execute_result"
    }
   ],
   "source": [
    "path = '/home/malpizar/Documents/MultipleScattering/backup/'\n",
    "file = 'RecoilsData.csv'\n",
    "\n",
    "df = pd.read_csv(path + file)\n",
    "\n",
    "#drop the variable used to make the flags for multiple recoils\n",
    "df = df.drop(['ar40recoils'], axis=1) \n",
    "\n",
    "#drop rows with the value -99999\n",
    "#score increases a little if I leave this, but loss greatly increases\n",
    "df = df.drop(index=df[df.eq(-99999).any(axis=1)].index)\n",
    "\n",
    "df.head()\n",
    "#print(df.shape)"
   ]
  },
  {
   "cell_type": "code",
   "execution_count": 93,
   "id": "f98df068",
   "metadata": {},
   "outputs": [
    {
     "name": "stdout",
     "output_type": "stream",
     "text": [
      "(2387, 24)\n",
      "(2387,)\n"
     ]
    }
   ],
   "source": [
    "#dependent variable that will be predicted\n",
    "var = 'multiplerecoils'\n",
    "\n",
    "X = df.drop([var], axis=1)\n",
    "#X = pd.get_dummies(X) #this is necessary because otherwise the SVC can not convert string to float\n",
    "\n",
    "# Select the dependent variable\n",
    "y = df[var] \n",
    "\n",
    "# print(X.head())\n",
    "print(X.shape)\n",
    "# print(y.head())\n",
    "print(y.shape)"
   ]
  },
  {
   "cell_type": "code",
   "execution_count": 94,
   "id": "501ab2f5",
   "metadata": {},
   "outputs": [],
   "source": [
    "# Splitting the dataset to Train and test\n",
    "X_train, X_test, y_train, y_test = train_test_split(X, y, test_size=0.2, random_state=0)"
   ]
  },
  {
   "cell_type": "code",
   "execution_count": 95,
   "id": "5cbadceb",
   "metadata": {},
   "outputs": [
    {
     "name": "stdout",
     "output_type": "stream",
     "text": [
      "Created MLP network\n"
     ]
    }
   ],
   "source": [
    "# This creates the MLP with 2 hidden layers with 100 and 50 neurons respectively\n",
    "#and sets it to run through the data 20 times\n",
    "mlp1 = MLPClassifier(hidden_layer_sizes=(100, 50,), max_iter=20, alpha=1e-4,\n",
    "#mlp1 = MLPClassifier(hidden_layer_sizes=(10,), max_iter=20, alpha=1e-4,\n",
    "                    solver='sgd', verbose=10, tol=1e-4, random_state=1,\n",
    "                    learning_rate_init=.1)\n",
    "\n",
    "print(\"Created MLP network\")"
   ]
  },
  {
   "cell_type": "code",
   "execution_count": 96,
   "id": "66b9a01e",
   "metadata": {},
   "outputs": [
    {
     "name": "stdout",
     "output_type": "stream",
     "text": [
      "Iteration 1, loss = 3405896211622524249532694457313543914081262539127221466885253567826437774908256562058719300408470562395899966085141350055936.00000000\n",
      "Iteration 2, loss = 26730569584216911405693964209056610535362201095259342437154237139933353017757441965499336093296189695892232878003642536296448.00000000\n",
      "Iteration 3, loss = 44057213352581376623304561401286733833775316743373239711592441846703954457358315619463889549655205861652734420160892513550336.00000000\n",
      "Iteration 4, loss = 51266662602413765319215528311847006980775034983140836841483079831531096150535165275603093500801286406455864749132772494278656.00000000\n",
      "Iteration 5, loss = 53922103498588398155822455665342627360834474283621604592879086523435782457226616542495211908334128260636727447489857443594240.00000000\n",
      "Iteration 6, loss = 54864877774124401264518215987789442749310503087960987262878669806768684176151415101424577174160091385249255947876111428354048.00000000\n",
      "Iteration 7, loss = 55195311609417048535320029094966999574077197056917982328555545560331509641379557814147092304203603360897573229751817935519744.00000000\n",
      "Iteration 8, loss = 55310391216857634921487633918303129318095238545215392226148904501310944433258197404638596475671377747031519810193763688513536.00000000\n",
      "Iteration 9, loss = 55350157250157421957102474185732231002409312457490004732225489776930224954399050802300596515060496501463913050522661502844928.00000000\n",
      "Iteration 10, loss = 55363635819410139507382899760911719675268020985638118986967864514511160299374762356189146960475778647076222862607584132595712.00000000\n",
      "Iteration 11, loss = 55367945211332587718015496398250903871028771577194974726711512319967103630479442525445150084686878526735266525109392743858176.00000000\n",
      "Iteration 12, loss = 55369057111793788624318730317869874262751317010607104065527301044281974814713741427248609991007988191798548049220846919614464.00000000\n",
      "Training loss did not improve more than tol=0.000100 for 10 consecutive epochs. Stopping.\n",
      "Training set score: 0.612886\n",
      "Test set score: 0.592050\n"
     ]
    }
   ],
   "source": [
    "#Train MLP\n",
    "mlp1.fit(X_train, y_train)\n",
    "print(\"Training set score: %f\" % mlp1.score(X_train, y_train))\n",
    "print(\"Test set score: %f\" % mlp1.score(X_test, y_test))"
   ]
  },
  {
   "cell_type": "code",
   "execution_count": 97,
   "id": "2a62c4b9",
   "metadata": {},
   "outputs": [],
   "source": [
    "# First let's initialize a list with all the predicted values from the training set\n",
    "y_pred = mlp1.predict(X_test)"
   ]
  },
  {
   "cell_type": "code",
   "execution_count": 98,
   "id": "0148aace",
   "metadata": {},
   "outputs": [
    {
     "data": {
      "image/png": "[encoded data removed]",
      "text/plain": [
       "<Figure size 360x288 with 2 Axes>"
      ]
     },
     "metadata": {
      "needs_background": "light"
     },
     "output_type": "display_data"
    }
   ],
   "source": [
    "# Creating  a confusion matrix,which compares the y_test and y_pred\n",
    "cm = confusion_matrix(y_test, y_pred)\n",
    "\n",
    "# Define the class labels\n",
    "#class_labels = df[var].unique()\n",
    "class_labels = ['multiple recoils', 'single recoils']\n",
    "\n",
    "#print(df[var].unique())\n",
    "\n",
    "# Plot the confusion matrix\n",
    "plt.figure(figsize=(5, 4))\n",
    "sns.heatmap(cm, annot=True, cmap='Greens', fmt='d')\n",
    "\n",
    "# Add a legend\n",
    "plt.xticks(ticks=np.arange(len(class_labels)) + 0.5, labels=class_labels)\n",
    "plt.yticks(ticks=np.arange(len(class_labels)) + 0.5, labels=class_labels)\n",
    "plt.xlabel('Predicted')\n",
    "plt.ylabel('True')\n",
    "plt.title('Confusion Matrix')\n",
    "\n",
    "# Display the plot\n",
    "plt.show()"
   ]
  },
  {
   "cell_type": "code",
   "execution_count": 99,
   "id": "ffc4d2cf",
   "metadata": {},
   "outputs": [
    {
     "name": "stdout",
     "output_type": "stream",
     "text": [
      "The recall is:  0.5920502092050209\n",
      "The precision is:  0.35052345021970904\n",
      "The F1-score is:  0.44034220553224945\n"
     ]
    },
    {
     "name": "stderr",
     "output_type": "stream",
     "text": [
      "/home/malpizar/Documents/notebook/jupyter_env/lib/python3.8/site-packages/sklearn/metrics/_classification.py:1327: UndefinedMetricWarning: Precision is ill-defined and being set to 0.0 in labels with no predicted samples. Use `zero_division` parameter to control this behavior.\n",
      "  _warn_prf(average, modifier, msg_start, len(result))\n"
     ]
    }
   ],
   "source": [
    "#calculate recall, precision and F1 score\n",
    "\n",
    "rec = recall_score(y_test, y_pred, average='weighted')\n",
    "pres = precision_score(y_test, y_pred, average='weighted')\n",
    "\n",
    "F1_score = 2/((1/rec) + (1/pres))\n",
    "\n",
    "print(\"The recall is: \", rec)\n",
    "print(\"The precision is: \", pres)\n",
    "print(\"The F1-score is: \", F1_score)"
   ]
  },
  {
   "cell_type": "code",
   "execution_count": null,
   "id": "55216c99",
   "metadata": {},
   "outputs": [],
   "source": []
  }
 ],
 "metadata": {
  "kernelspec": {
   "display_name": "Python 3 (ipykernel)",
   "language": "python",
   "name": "python3"
  },
  "language_info": {
   "codemirror_mode": {
    "name": "ipython",
    "version": 3
   },
   "file_extension": ".py",
   "mimetype": "text/x-python",
   "name": "python",
   "nbconvert_exporter": "python",
   "pygments_lexer": "ipython3",
   "version": "3.8.10"
  }
 },
 "nbformat": 4,
 "nbformat_minor": 5
}
