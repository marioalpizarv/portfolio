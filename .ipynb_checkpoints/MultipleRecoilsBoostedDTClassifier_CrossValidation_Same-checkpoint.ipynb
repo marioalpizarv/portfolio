{
 "cells": [
  {
   "cell_type": "code",
   "execution_count": 2,
   "id": "e958e909",
   "metadata": {},
   "outputs": [],
   "source": [
    "import pandas as pd\n",
    "import numpy as np\n",
    "import matplotlib.pyplot as plt\n",
    "from sklearn.model_selection import train_test_split\n",
    "from sklearn.metrics import confusion_matrix\n",
    "import seaborn as sns\n",
    "\n",
    "#Import DecisionTree as a classifier\n",
    "from sklearn.ensemble import GradientBoostingClassifier\n",
    "from sklearn.model_selection import cross_val_score\n",
    "from sklearn.metrics import accuracy_score\n",
    "#https://scikit-learn.org/stable/modules/generated/sklearn.metrics.recall_score.html\n",
    "from sklearn.metrics import recall_score\n",
    "#https://scikit-learn.org/stable/modules/generated/sklearn.metrics.precision_score.html\n",
    "from sklearn.metrics import precision_score"
   ]
  },
  {
   "cell_type": "code",
   "execution_count": 17,
   "id": "8fa78141",
   "metadata": {
    "scrolled": true
   },
   "outputs": [
    {
     "name": "stdout",
     "output_type": "stream",
     "text": [
      "(1209, 25)\n"
     ]
    }
   ],
   "source": [
    "path = '/home/malpizar/Documents/MultipleScattering/backup/'\n",
    "file = 'RecoilsData.csv'\n",
    "\n",
    "df = pd.read_csv(path + file)\n",
    "\n",
    "df = df[df['ar40recoils'] != 0]\n",
    "\n",
    "#drop rows with the value -99999, these are outliers\n",
    "df = df.drop(index=df[df.eq(-99999).any(axis=1)].index)\n",
    "\n",
    "df.head()\n",
    "print(df.shape)"
   ]
  },
  {
   "cell_type": "code",
   "execution_count": 18,
   "id": "8e97e195",
   "metadata": {},
   "outputs": [
    {
     "name": "stdout",
     "output_type": "stream",
     "text": [
      "(1209, 24)\n"
     ]
    }
   ],
   "source": [
    "#drop the variable used to make the flags for multiple recoils\n",
    "df = df.drop(['ar40recoils'], axis=1) \n",
    "print(df.shape)"
   ]
  },
  {
   "cell_type": "code",
   "execution_count": 4,
   "id": "f98df068",
   "metadata": {},
   "outputs": [
    {
     "name": "stdout",
     "output_type": "stream",
     "text": [
      "(2387, 23)\n",
      "(2387,)\n"
     ]
    }
   ],
   "source": [
    "#dependent variable that will be predicted\n",
    "var = 'multiplerecoils'\n",
    "\n",
    "X = df.drop([var], axis=1)\n",
    "\n",
    "# Select the dependent variable\n",
    "y = df[var] \n",
    "\n",
    "print(X.shape)\n",
    "print(y.shape)"
   ]
  },
  {
   "cell_type": "code",
   "execution_count": 6,
   "id": "088e2350",
   "metadata": {},
   "outputs": [
    {
     "name": "stdout",
     "output_type": "stream",
     "text": [
      "Created Boosted Decision Tree Classifier\n"
     ]
    }
   ],
   "source": [
    "# Create the GradientBoostingClassifier (Boosted Decision Tree)\n",
    "boosted_tree = GradientBoostingClassifier(n_estimators=100, learning_rate=0.1, random_state=42)\n",
    "\n",
    "print(\"Created Boosted Decision Tree Classifier\")"
   ]
  },
  {
   "cell_type": "code",
   "execution_count": 7,
   "id": "30235ec7",
   "metadata": {},
   "outputs": [
    {
     "name": "stdout",
     "output_type": "stream",
     "text": [
      "Cross-Validation Scores:\n",
      "Fold 1: 0.88\n",
      "Fold 2: 0.92\n",
      "Fold 3: 0.87\n",
      "Fold 4: 0.90\n",
      "Fold 5: 0.87\n",
      "Fold 6: 0.85\n",
      "Fold 7: 0.87\n",
      "Fold 8: 0.83\n",
      "Fold 9: 0.89\n",
      "Fold 10: 0.83\n",
      "\n",
      "Average Score: 0.87\n"
     ]
    }
   ],
   "source": [
    "# Perform cross-validation with 10 folds\n",
    "# 'cv' parameter specifies the number of folds\n",
    "# 'scoring' parameter specifies the evaluation metric (e.g., 'accuracy')\n",
    "cross_val_scores = cross_val_score(boosted_tree, X, y, cv=10, scoring='accuracy')\n",
    "\n",
    "# Print the cross-validation scores for each fold\n",
    "print(\"Cross-Validation Scores:\")\n",
    "for fold, score in enumerate(cross_val_scores, start=1):\n",
    "    print(f\"Fold {fold}: {score:.2f}\")\n",
    "\n",
    "# Calculate and print the average cross-validation score\n",
    "average_score = cross_val_scores.mean()\n",
    "print(f\"\\nAverage Score: {average_score:.2f}\")"
   ]
  },
  {
   "cell_type": "code",
   "execution_count": 8,
   "id": "501ab2f5",
   "metadata": {},
   "outputs": [
    {
     "name": "stdout",
     "output_type": "stream",
     "text": [
      "(1909, 23)\n",
      "(1909,)\n",
      "(478, 23)\n",
      "(478,)\n"
     ]
    }
   ],
   "source": [
    "# Splitting the dataset to Train and test\n",
    "X_train, X_test, y_train, y_test = train_test_split(X, y, test_size=0.2, random_state=0)\n",
    "\n",
    "print(X_train.shape)\n",
    "print(y_train.shape)\n",
    "print(X_test.shape)\n",
    "print(y_test.shape)"
   ]
  },
  {
   "cell_type": "code",
   "execution_count": 9,
   "id": "66b9a01e",
   "metadata": {},
   "outputs": [
    {
     "name": "stdout",
     "output_type": "stream",
     "text": [
      "Training set score: 0.922996\n",
      "Test set score: 0.870293\n"
     ]
    }
   ],
   "source": [
    "#Train DT\n",
    "boosted_tree.fit(X_train, y_train)\n",
    "print(\"Training set score: %f\" % boosted_tree.score(X_train, y_train))\n",
    "print(\"Test set score: %f\" % boosted_tree.score(X_test, y_test))"
   ]
  },
  {
   "cell_type": "code",
   "execution_count": 10,
   "id": "2a62c4b9",
   "metadata": {},
   "outputs": [],
   "source": [
    "# Make predictions on the test set\n",
    "y_pred = boosted_tree.predict(X_test)"
   ]
  },
  {
   "cell_type": "code",
   "execution_count": 11,
   "id": "a0c804f6",
   "metadata": {},
   "outputs": [
    {
     "name": "stdout",
     "output_type": "stream",
     "text": [
      "Accuracy: 0.87029\n"
     ]
    }
   ],
   "source": [
    "# Calculate the accuracy of the model\n",
    "accuracy = accuracy_score(y_test, y_pred)\n",
    "print(f\"Accuracy: {accuracy:.5f}\")"
   ]
  },
  {
   "cell_type": "code",
   "execution_count": 12,
   "id": "0148aace",
   "metadata": {},
   "outputs": [
    {
     "data": {
      "image/png": "[encoded data removed]",
      "text/plain": [
       "<Figure size 360x288 with 2 Axes>"
      ]
     },
     "metadata": {
      "needs_background": "light"
     },
     "output_type": "display_data"
    }
   ],
   "source": [
    "# Creating  a confusion matrix,which compares the y_test and y_pred\n",
    "cm = confusion_matrix(y_test, y_pred)\n",
    "\n",
    "# Define the class labels\n",
    "#class_labels = df[var].unique()\n",
    "class_labels = ['multiple recoils', 'single recoils']\n",
    "\n",
    "#print(df[var].unique())\n",
    "\n",
    "# Plot the confusion matrix\n",
    "plt.figure(figsize=(5, 4))\n",
    "sns.heatmap(cm, annot=True, cmap='Greens', fmt='d')\n",
    "\n",
    "# Add a legend\n",
    "plt.xticks(ticks=np.arange(len(class_labels)) + 0.5, labels=class_labels)\n",
    "plt.yticks(ticks=np.arange(len(class_labels)) + 0.5, labels=class_labels)\n",
    "plt.xlabel('Predicted')\n",
    "plt.ylabel('True')\n",
    "plt.title('Confusion Matrix')\n",
    "\n",
    "# Display the plot\n",
    "plt.show()"
   ]
  },
  {
   "cell_type": "code",
   "execution_count": 13,
   "id": "ffc4d2cf",
   "metadata": {},
   "outputs": [
    {
     "name": "stdout",
     "output_type": "stream",
     "text": [
      "The recall is:  0.8702928870292888\n",
      "The precision is:  0.8700120093796394\n",
      "The F1-score is:  0.8701524255382478\n"
     ]
    }
   ],
   "source": [
    "#calculate recall, precision and F1 score\n",
    "\n",
    "rec = recall_score(y_test, y_pred, average='weighted')\n",
    "pres = precision_score(y_test, y_pred, average='weighted')\n",
    "\n",
    "F1_score = 2/((1/rec) + (1/pres))\n",
    "\n",
    "print(\"The recall is: \", rec)\n",
    "print(\"The precision is: \", pres)\n",
    "print(\"The F1-score is: \", F1_score)"
   ]
  },
  {
   "cell_type": "code",
   "execution_count": 14,
   "id": "c54e7acb",
   "metadata": {},
   "outputs": [
    {
     "name": "stdout",
     "output_type": "stream",
     "text": [
      "                   Feature  Importance\n",
      "1                  fprompt    0.550673\n",
      "18           mblikelihoodR    0.082153\n",
      "0                      qPE    0.076596\n",
      "14          rprompt60Bayes    0.056451\n",
      "13                nSCBayes    0.037822\n",
      "17           mblikelihoodZ    0.034067\n",
      "5                   fmaxpe    0.031373\n",
      "10  chargesecondbottomring    0.025979\n",
      "8         chargesecondring    0.017632\n",
      "9         chargebottomring    0.016976\n",
      "3                eventTime    0.014005\n",
      "11   chargethirdbottomring    0.010478\n",
      "7            chargetopring    0.007940\n",
      "19               timefit2X    0.007132\n",
      "21               timefit2Z    0.005573\n",
      "2                subeventN    0.005533\n",
      "22                  deltat    0.005279\n",
      "12      pulseindexfirstgar    0.004305\n",
      "15           mblikelihoodX    0.003632\n",
      "16           mblikelihoodY    0.003239\n",
      "20               timefit2Y    0.003162\n",
      "6                neckVetoN    0.000000\n",
      "4           numEarlyPulses    0.000000\n"
     ]
    }
   ],
   "source": [
    "# Get the feature importances\n",
    "importance = boosted_tree.feature_importances_\n",
    "\n",
    "# Create a DataFrame to display the feature importances\n",
    "feature_importances_df = pd.DataFrame({'Feature': X.columns, 'Importance': importance})\n",
    "\n",
    "# Sort the DataFrame by importance in descending order\n",
    "feature_importances_df = feature_importances_df.sort_values(by='Importance', ascending=False)\n",
    "\n",
    "print(feature_importances_df)"
   ]
  },
  {
   "cell_type": "code",
   "execution_count": 15,
   "id": "90f28e01",
   "metadata": {},
   "outputs": [
    {
     "name": "stdout",
     "output_type": "stream",
     "text": [
      "Total Importance: Feature       fpromptmblikelihoodRqPErprompt60BayesnSCBayesm...\n",
      "Importance                                                  1.0\n",
      "dtype: object\n"
     ]
    }
   ],
   "source": [
    "# Sum all the importance values\n",
    "total_importance = feature_importances_df.sum()\n",
    "\n",
    "print(f\"Total Importance: {total_importance}\")"
   ]
  },
  {
   "cell_type": "code",
   "execution_count": null,
   "id": "77f053a1",
   "metadata": {},
   "outputs": [],
   "source": []
  }
 ],
 "metadata": {
  "kernelspec": {
   "display_name": "Python 3 (ipykernel)",
   "language": "python",
   "name": "python3"
  },
  "language_info": {
   "codemirror_mode": {
    "name": "ipython",
    "version": 3
   },
   "file_extension": ".py",
   "mimetype": "text/x-python",
   "name": "python",
   "nbconvert_exporter": "python",
   "pygments_lexer": "ipython3",
   "version": "3.8.10"
  }
 },
 "nbformat": 4,
 "nbformat_minor": 5
}
