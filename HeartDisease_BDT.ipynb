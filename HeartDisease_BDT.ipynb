{
 "cells": [
  {
   "cell_type": "code",
   "execution_count": 16,
   "id": "3fddc5f4",
   "metadata": {},
   "outputs": [],
   "source": [
    "#In this example, a boosted decision tree is used for binary classification. I perform\n",
    "#cross validation, and include confusion matrix, ROC and PR curves, as well as metrics \n",
    "#such as recall, accuracy, specificity and mathew's correlation coefficient to evaluate\n",
    "#the classifier's performance.\n",
    "\n",
    "import pandas as pd\n",
    "import numpy as np\n",
    "import matplotlib.pyplot as plt\n",
    "from sklearn.model_selection import train_test_split\n",
    "from sklearn.metrics import confusion_matrix\n",
    "from sklearn.metrics import roc_curve, auc\n",
    "from sklearn.metrics import precision_recall_curve, auc\n",
    "import seaborn as sns\n",
    "import math\n",
    "\n",
    "#Import DecisionTree as a classifier\n",
    "from sklearn.ensemble import GradientBoostingClassifier\n",
    "#https://scikit-learn.org/stable/modules/generated/sklearn.metrics.recall_score.html\n",
    "from sklearn.metrics import recall_score\n",
    "#https://scikit-learn.org/stable/modules/generated/sklearn.metrics.precision_score.html\n",
    "from sklearn.metrics import precision_score\n",
    "\n",
    "from sklearn.model_selection import cross_val_score\n",
    "from sklearn.metrics import accuracy_score\n",
    "#https://scikit-learn.org/stable/modules/generated/sklearn.metrics.recall_score.html\n",
    "from sklearn.metrics import recall_score\n",
    "#https://scikit-learn.org/stable/modules/generated/sklearn.metrics.precision_score.html\n",
    "from sklearn.metrics import precision_score"
   ]
  },
  {
   "cell_type": "code",
   "execution_count": 17,
   "id": "7750f058",
   "metadata": {},
   "outputs": [
    {
     "name": "stdout",
     "output_type": "stream",
     "text": [
      "Index(['age', 'sex', 'cp', 'trestbps', 'chol', 'fbs', 'restecg', 'thalach',\n",
      "       'exang', 'oldpeak', 'slope', 'ca', 'thal', 'target'],\n",
      "      dtype='object')\n"
     ]
    }
   ],
   "source": [
    "path = ''\n",
    "file = 'heart.csv'\n",
    "\n",
    "df = pd.read_csv(path + file)\n",
    "df = df.dropna()\n",
    "df.head()\n",
    "print(df.keys())"
   ]
  },
  {
   "cell_type": "code",
   "execution_count": 18,
   "id": "22bdfcb2",
   "metadata": {},
   "outputs": [
    {
     "name": "stdout",
     "output_type": "stream",
     "text": [
      "(1025, 13)\n",
      "(1025,)\n"
     ]
    }
   ],
   "source": [
    "#dependent variable that will be predicted\n",
    "var = 'target'\n",
    "\n",
    "X = df.drop([var], axis=1)\n",
    "X = pd.get_dummies(X) \n",
    "\n",
    "# Select the dependent variable\n",
    "y = df[var] \n",
    "\n",
    "# print(X.head())\n",
    "print(X.shape)\n",
    "# print(y.head())\n",
    "print(y.shape)"
   ]
  },
  {
   "cell_type": "code",
   "execution_count": 19,
   "id": "4a3f4a36",
   "metadata": {},
   "outputs": [
    {
     "name": "stdout",
     "output_type": "stream",
     "text": [
      "Created Boosted Decision Tree Classifier\n",
      "Default max_depth: 3\n"
     ]
    }
   ],
   "source": [
    "#initialize the boosted decision tree, with 100 estimators, a learning rate of 0.1\n",
    "#and I also verify what is the default maximum depth for each tree\n",
    "\n",
    "boosted_tree = GradientBoostingClassifier(n_estimators=100, learning_rate=0.1, random_state=42)\n",
    "\n",
    "print(\"Created Boosted Decision Tree Classifier\")\n",
    "\n",
    "# Access the default max_depth value\n",
    "default_max_depth = boosted_tree.get_params()['max_depth']\n",
    "\n",
    "print(\"Default max_depth:\", default_max_depth)"
   ]
  },
  {
   "cell_type": "code",
   "execution_count": 20,
   "id": "2e63355a",
   "metadata": {},
   "outputs": [
    {
     "name": "stdout",
     "output_type": "stream",
     "text": [
      "Cross-Validation Scores:\n",
      "Fold 1: 0.98\n",
      "Fold 2: 0.99\n",
      "Fold 3: 0.98\n",
      "Fold 4: 0.96\n",
      "Fold 5: 0.93\n",
      "Fold 6: 0.99\n",
      "Fold 7: 0.96\n",
      "Fold 8: 0.99\n",
      "Fold 9: 0.97\n",
      "Fold 10: 0.95\n",
      "\n",
      "Average Score: 0.97\n"
     ]
    }
   ],
   "source": [
    "# Perform cross-validation with 10 folds\n",
    "# 'cv' parameter specifies the number of folds\n",
    "# 'scoring' parameter specifies the evaluation metric (e.g., 'accuracy')\n",
    "\n",
    "cross_val_scores = cross_val_score(boosted_tree, X, y, cv=10, scoring='accuracy')\n",
    "\n",
    "# Print the cross-validation scores for each fold\n",
    "print(\"Cross-Validation Scores:\")\n",
    "for fold, score in enumerate(cross_val_scores, start=1):\n",
    "    print(f\"Fold {fold}: {score:.2f}\")\n",
    "\n",
    "# Calculate and print the average cross-validation score\n",
    "average_score = cross_val_scores.mean()\n",
    "print(f\"\\nAverage Score: {average_score:.2f}\")"
   ]
  },
  {
   "cell_type": "code",
   "execution_count": 21,
   "id": "94eb16f0",
   "metadata": {},
   "outputs": [
    {
     "name": "stdout",
     "output_type": "stream",
     "text": [
      "Accuracy: 0.99024\n"
     ]
    }
   ],
   "source": [
    "# Splitting the dataset to Train and test\n",
    "X_train, X_test, y_train, y_test = train_test_split(X, y, test_size=0.2, random_state=0)\n",
    "\n",
    "#training the classifier using X_Train and y_train \n",
    "boosted_tree.fit(X_train,y_train)\n",
    "\n",
    "#Testing the model using X_test and storing the output in y_pred\n",
    "y_pred = boosted_tree.predict(X_test)\n",
    "\n",
    "# Calculate the accuracy of the model\n",
    "accuracy = accuracy_score(y_test, y_pred)\n",
    "print(f\"Accuracy: {accuracy:.5f}\")"
   ]
  },
  {
   "cell_type": "code",
   "execution_count": 22,
   "id": "50e721a5",
   "metadata": {},
   "outputs": [
    {
     "name": "stdout",
     "output_type": "stream",
     "text": [
      "The weighted recall is:  0.9902439024390244\n",
      "The weighted precision is:  0.990422913403446\n",
      "The weighted F1-score is:  0.9903333998318068\n"
     ]
    }
   ],
   "source": [
    "#calculate recall, precision and F1 score\n",
    "\n",
    "rec = recall_score(y_test, y_pred, average='weighted')\n",
    "pres = precision_score(y_test, y_pred, average='weighted')\n",
    "\n",
    "F1_score = 2/((1/rec) + (1/pres))\n",
    "\n",
    "print(\"The weighted recall is: \", rec)\n",
    "print(\"The weighted precision is: \", pres)\n",
    "print(\"The weighted F1-score is: \", F1_score)"
   ]
  },
  {
   "cell_type": "code",
   "execution_count": 28,
   "id": "e6b535eb",
   "metadata": {},
   "outputs": [
    {
     "data": {
      "image/png": "[encoded data removed]",
      "text/plain": [
       "<Figure size 360x288 with 2 Axes>"
      ]
     },
     "metadata": {
      "needs_background": "light"
     },
     "output_type": "display_data"
    }
   ],
   "source": [
    "# Creating  a confusion matrix,which compares the y_test and y_pred\n",
    "cm = confusion_matrix(y_test, y_pred)\n",
    "\n",
    "# Define the class labels\n",
    "class_labels = ['no disease', 'disease']\n",
    "\n",
    "# Plot the confusion matrix\n",
    "plt.figure(figsize=(5, 4))\n",
    "sns.heatmap(cm, annot=True, cmap='Greens', fmt='d') #I added the format parameter so that the\n",
    "                                                    #cm shows values in integer format\n",
    "\n",
    "# Add a legend\n",
    "plt.xticks(ticks=np.arange(len(class_labels)) + 0.5, labels=class_labels)\n",
    "plt.yticks(ticks=np.arange(len(class_labels)) + 0.5, labels=class_labels)\n",
    "plt.xlabel('Predicted')\n",
    "plt.ylabel('True')\n",
    "plt.title('Confusion Matrix')\n",
    "\n",
    "# Display the plot\n",
    "plt.show()"
   ]
  },
  {
   "cell_type": "code",
   "execution_count": 24,
   "id": "d5a2cd1f",
   "metadata": {},
   "outputs": [
    {
     "name": "stdout",
     "output_type": "stream",
     "text": [
      "     Feature  Importance\n",
      "2         cp    0.257162\n",
      "11        ca    0.158787\n",
      "9    oldpeak    0.111369\n",
      "12      thal    0.107631\n",
      "0        age    0.085787\n",
      "7    thalach    0.060929\n",
      "4       chol    0.060384\n",
      "1        sex    0.051679\n",
      "10     slope    0.037041\n",
      "3   trestbps    0.032445\n",
      "8      exang    0.022789\n",
      "6    restecg    0.011885\n",
      "5        fbs    0.002112\n",
      "\n",
      "Total Importance: 1.0000000000000002\n"
     ]
    }
   ],
   "source": [
    "# Get the feature importances\n",
    "importance = boosted_tree.feature_importances_\n",
    "\n",
    "# Create a DataFrame to display the feature importances\n",
    "feature_importances_df = pd.DataFrame({'Feature': X.columns, 'Importance': importance})\n",
    "\n",
    "# Sort the DataFrame by importance in descending order\n",
    "feature_importances_df = feature_importances_df.sort_values(by='Importance', ascending=False)\n",
    "\n",
    "print(feature_importances_df)\n",
    "\n",
    "# Sum all the importance values\n",
    "total_importance = feature_importances_df.sum()\n",
    "print(\"\")\n",
    "print(f\"Total Importance: {total_importance['Importance']}\")"
   ]
  },
  {
   "cell_type": "code",
   "execution_count": 25,
   "id": "bcbf8b0a",
   "metadata": {},
   "outputs": [
    {
     "name": "stdout",
     "output_type": "stream",
     "text": [
      "True Positive: 96\n",
      "False Negative: 2\n",
      "False Positive: 0\n",
      "True Negative: 107\n",
      "\n",
      "Error rate: 0.00975609756097561\n",
      "Accuracy: 0.9902439024390244\n",
      "True positive rate: 0.9795918367346939\n",
      "Specificity: 1.0\n",
      "Precision: 1.0\n",
      "False positive rate: 0.0\n",
      "Mathews correlation coefficient: 0.6813436887630212\n",
      "Normalized Mathews correlation coefficient: 0.8406718443815107\n",
      "F1 score: 0.9896907216494847\n"
     ]
    }
   ],
   "source": [
    "#metrics by hand\n",
    "\n",
    "tp, fn, fp, tn = cm.ravel()\n",
    "\n",
    "err = (fp + fn)/(fp + fn + tn + tp)\n",
    "acc = (tp + tn)/(fp + fn + tn + tp)\n",
    "re = tp/(tp + fn)\n",
    "sp = tn/(tn + fp)\n",
    "prec = tp/(tp + fp)\n",
    "fpr = fp/(tn + fp)\n",
    "mcc = ((tp*tn) - (fp*fn))/math.sqrt((tp + fp)*(tp + tn)*(tn + fp)*(tn + fn))\n",
    "nmcc = (mcc + 1)/2\n",
    "F1 = 2/((1/re) + (1/prec))\n",
    "\n",
    "print(\"True Positive:\", tp)\n",
    "print(\"False Negative:\", fn)\n",
    "print(\"False Positive:\", fp)\n",
    "print(\"True Negative:\", tn)\n",
    "print(\"\\nError rate:\", err)\n",
    "print(\"Accuracy:\", acc)\n",
    "print(\"True positive rate:\", re) #sensitivity, recall\n",
    "print(\"Specificity:\", sp) #true negative rate\n",
    "print(\"Precision:\", prec) #positive predictive value\n",
    "print(\"False positive rate:\", fpr)\n",
    "print(\"Mathews correlation coefficient:\", mcc) #depends on al 4 cm values, ranges from +1 to -1, 0 is random\n",
    "print(\"Normalized Mathews correlation coefficient:\", nmcc) #depends on al 4 cm values,ranges from 0 to 1, 1/2 is random\n",
    "print(\"F1 score:\", F1)"
   ]
  },
  {
   "cell_type": "code",
   "execution_count": 26,
   "id": "63d12b59",
   "metadata": {},
   "outputs": [
    {
     "data": {
      "image/png": "[encoded data removed]",
      "text/plain": [
       "<Figure size 576x432 with 1 Axes>"
      ]
     },
     "metadata": {
      "needs_background": "light"
     },
     "output_type": "display_data"
    }
   ],
   "source": [
    "# Compute the ROC curve\n",
    "fpr, tpr, thresholds = roc_curve(y_test, y_pred)\n",
    "roc_auc = auc(fpr, tpr)\n",
    "\n",
    "# Plot the ROC curve\n",
    "plt.figure(figsize=(8, 6))\n",
    "plt.plot(fpr, tpr, color='g', lw=2, label='ROC curve, area under the curve (AUC) = {:.2f}'.format(roc_auc))\n",
    "plt.plot([0, 1], [0, 1], color='gray', lw=1, linestyle='--')\n",
    "plt.xlim([0.0, 1.0])\n",
    "plt.ylim([0.0, 1.05])\n",
    "#plt.xlabel('False Positive Rate (Positive label: multiple recoil)')\n",
    "#plt.ylabel('True Positive Rate (Positive label: multiple recoil)')\n",
    "plt.xlabel('False Positive Rate')\n",
    "plt.ylabel('True Positive Rate')\n",
    "plt.title('Receiver Operating Characteristic (ROC) Curve for BDT Classifier')\n",
    "plt.legend(loc='lower right')\n",
    "plt.grid(True)\n",
    "plt.show()"
   ]
  },
  {
   "cell_type": "code",
   "execution_count": 27,
   "id": "9c1aa017",
   "metadata": {},
   "outputs": [
    {
     "data": {
      "image/png": "[encoded data removed]",
      "text/plain": [
       "<Figure size 576x432 with 1 Axes>"
      ]
     },
     "metadata": {
      "needs_background": "light"
     },
     "output_type": "display_data"
    }
   ],
   "source": [
    "# Do a Precision-Recall curve\n",
    "\n",
    "# Compute precision and recall\n",
    "precision, recall, _ = precision_recall_curve(y_test, y_pred)\n",
    "\n",
    "# Calculate the AUC for the precision-recall curve\n",
    "pr_auc = auc(recall, precision)\n",
    "\n",
    "# Plot the precision-recall curve\n",
    "plt.figure(figsize=(8, 6))\n",
    "plt.step(recall, precision, color='g', where='post', label='PR curve, area under the curve (AUC) = {:.2f}'.format(pr_auc))\n",
    "#plt.fill_between(recall, precision, step='post', alpha=0.2, color='b')\n",
    "plt.plot([0, 1], [1, 0], color='gray', lw=1, linestyle='--')\n",
    "plt.xlabel('Recall')\n",
    "plt.ylabel('Precision')\n",
    "plt.ylim([0.0, 1.05])\n",
    "plt.xlim([0.0, 1.0])\n",
    "plt.title('Precision-Recall (PR) Curve for BDT Classifier')\n",
    "plt.legend(loc='lower right')\n",
    "plt.grid(True)\n",
    "plt.show()"
   ]
  },
  {
   "cell_type": "code",
   "execution_count": 30,
   "id": "5aadcc57",
   "metadata": {},
   "outputs": [
    {
     "name": "stdout",
     "output_type": "stream",
     "text": [
      "(205, 2)\n",
      "Number of predictions of 1s: 109\n",
      "Lower limit on predictions of 1s: 109\n",
      "Upper limit on predictions of 1s: 114\n",
      "Number of predictions of 0s: 96\n",
      "Lower limit on predictions of 0s: 91\n",
      "Upper limit on predictions of 0s: 96\n",
      "Total predictions: 205\n",
      "Total predictions (lower): 205\n",
      "Total predictions (upper): 205\n",
      "Are both methods of prediction equal? True\n"
     ]
    }
   ],
   "source": [
    "#Here I implement a way of calculating the uncertainty in the predictions\n",
    "#made by the BDT, using the staged probabilities for each iteration to \n",
    "#calculate a standard deviation for each probability, and then using\n",
    "#that to calculate upper and lower values for the prediction of \n",
    "#1s (positive results for heart disease) and 0s (negative results)\n",
    "\n",
    "#lower: the minimum amount of 1s, upper: the maximum amount of 1s. \n",
    "#for lower: subtract uncertainty from column of 1s and add to columns of 0s,\n",
    "#for upper: subtract uncertainty from column of 0s and add to column of 1s\n",
    "#then do argmax for each to obtain upper and lower predictions\n",
    "\n",
    "staged_probs = boosted_tree.staged_predict_proba(X_test)\n",
    "\n",
    "# Calculate the uncertainty as the standard deviation of the staged probabilities\n",
    "uncertainty = np.std(list(staged_probs), axis=0)\n",
    "\n",
    "pred_prob = boosted_tree.predict_proba(X_test)\n",
    "print(pred_prob.shape)\n",
    "\n",
    "pred_prob_lower = np.empty_like(pred_prob)\n",
    "pred_prob_upper = np.empty_like(pred_prob)\n",
    "\n",
    "# lower limit on predictions of 1s\n",
    "for i in range(pred_prob.shape[0]):\n",
    "    # Add uncertainty to the column of 0s \n",
    "    pred_prob_lower[i, 0] = pred_prob[i, 0] + uncertainty[i][1]\n",
    "    \n",
    "    # Subtract uncertainty from the column of 1s \n",
    "    pred_prob_lower[i, 1] = pred_prob[i, 1] - uncertainty[i][1]\n",
    "\n",
    "#upper limit on prediction of 1s    \n",
    "for i in range(pred_prob.shape[0]):\n",
    "    # Subtract uncertainty from the column of 0s \n",
    "    pred_prob_upper[i, 0] = pred_prob[i, 0] - uncertainty[i][1]\n",
    "    \n",
    "    # Add uncertainty to the column of 1s \n",
    "    pred_prob_upper[i, 1] = pred_prob[i, 1] + uncertainty[i][1]    \n",
    "\n",
    "# Get the final predictions by considering the class with the highest probability\n",
    "y_pred = np.argmax(pred_prob, axis=1)\n",
    "y_pred_lower = np.argmax(pred_prob_lower, axis=1)\n",
    "y_pred_upper = np.argmax(pred_prob_upper, axis=1)\n",
    "    \n",
    "count = np.count_nonzero(y_pred == 1)\n",
    "count_lower = np.count_nonzero(y_pred_lower == 1)\n",
    "count_upper = np.count_nonzero(y_pred_upper == 1)\n",
    "\n",
    "countz = np.count_nonzero(y_pred == 0)\n",
    "count_lowerz = np.count_nonzero(y_pred_lower == 0)\n",
    "count_upperz = np.count_nonzero(y_pred_upper == 0)\n",
    "\n",
    "print(\"Number of predictions of 1s:\", count, )\n",
    "print(\"Lower limit on predictions of 1s:\", count_lower)\n",
    "print(\"Upper limit on predictions of 1s:\", count_upper)\n",
    "\n",
    "#inverted order for prediction of 0s\n",
    "print(\"Number of predictions of 0s:\", countz)\n",
    "print(\"Lower limit on predictions of 0s:\", count_upperz)\n",
    "print(\"Upper limit on predictions of 0s:\", count_lowerz)\n",
    "    \n",
    "print(\"Total predictions:\", count + countz)\n",
    "print(\"Total predictions (lower):\", count_lower + count_lowerz)\n",
    "print(\"Total predictions (upper):\", count_upper + count_upperz) \n",
    "\n",
    "# Make predictions on the test set\n",
    "y_pred_conf = boosted_tree.predict(X_test)\n",
    "\n",
    "#confirmation that both methods of prediction give the same result\n",
    "are_equal = np.array_equal(y_pred, y_pred_conf)\n",
    "print('Are both methods of prediction equal?',are_equal)"
   ]
  },
  {
   "cell_type": "code",
   "execution_count": null,
   "id": "134b4813",
   "metadata": {},
   "outputs": [],
   "source": []
  }
 ],
 "metadata": {
  "kernelspec": {
   "display_name": "Python 3 (ipykernel)",
   "language": "python",
   "name": "python3"
  },
  "language_info": {
   "codemirror_mode": {
    "name": "ipython",
    "version": 3
   },
   "file_extension": ".py",
   "mimetype": "text/x-python",
   "name": "python",
   "nbconvert_exporter": "python",
   "pygments_lexer": "ipython3",
   "version": "3.8.10"
  }
 },
 "nbformat": 4,
 "nbformat_minor": 5
}
