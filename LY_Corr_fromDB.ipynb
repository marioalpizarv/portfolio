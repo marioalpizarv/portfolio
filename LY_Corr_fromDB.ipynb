{
 "cells": [
  {
   "cell_type": "code",
   "execution_count": 1,
   "id": "82394b87",
   "metadata": {},
   "outputs": [],
   "source": [
    "import pandas as pd\n",
    "import json\n",
    "import re\n",
    "import couchdb\n",
    "\n",
    "#!pip install requests\n",
    "\n",
    "import requests"
   ]
  },
  {
   "cell_type": "code",
   "execution_count": 2,
   "id": "7c9df1c2",
   "metadata": {},
   "outputs": [
    {
     "name": "stdout",
     "output_type": "stream",
     "text": [
      "RunID LY Uncertainty\n",
      "18721 1.0 0.000889974\n",
      "18725 1.00018 0.000797654\n"
     ]
    }
   ],
   "source": [
    "couch = couchdb.Server(\"https://deimos.physics.carleton.ca:6984\")\n",
    "db = couch[\"deapdb\"]\n",
    "\n",
    "\n",
    "# Specify the CouchDB server URL and the document ID\n",
    "couchdb_url = 'https://deimos.physics.carleton.ca:6984'\n",
    "database_name = 'deapdb'\n",
    "document_id = 'Kazmir_LY_Cor_num2_18721_27587'\n",
    "\n",
    "# Construct the URL to retrieve the document\n",
    "url = f'{couchdb_url}/{database_name}/{document_id}'\n",
    "\n",
    "# Send the GET request to retrieve the document\n",
    "response = requests.get(url)\n",
    "\n",
    "# Check if the request was successful (status code 200)\n",
    "if response.status_code == 200:\n",
    "    data = response.json()  # Parse the response JSON data\n",
    "    \n",
    "else:\n",
    "    print(f'Error: {response.status_code} - {response.text}')\n",
    "\n",
    "print('RunID LY Uncertainty')     \n",
    "    \n",
    "for i in range(18721, 18726):\n",
    "    try:\n",
    "        LY_value = data[str(i)][\"LY\"]\n",
    "        U_value = data[str(i)][\"Uncertainty\"] \n",
    "    \n",
    "    except KeyError:\n",
    "        continue #skip missing RunID   \n",
    "    print(i, LY_value, U_value)"
   ]
  },
  {
   "cell_type": "code",
   "execution_count": null,
   "id": "1dcd99a9",
   "metadata": {},
   "outputs": [],
   "source": []
  }
 ],
 "metadata": {
  "kernelspec": {
   "display_name": "Python 3 (ipykernel)",
   "language": "python",
   "name": "python3"
  },
  "language_info": {
   "codemirror_mode": {
    "name": "ipython",
    "version": 3
   },
   "file_extension": ".py",
   "mimetype": "text/x-python",
   "name": "python",
   "nbconvert_exporter": "python",
   "pygments_lexer": "ipython3",
   "version": "3.8.10"
  }
 },
 "nbformat": 4,
 "nbformat_minor": 5
}
