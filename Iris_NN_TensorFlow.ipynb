{
 "cells": [
  {
   "cell_type": "code",
   "execution_count": 17,
   "id": "0d00dcd1",
   "metadata": {},
   "outputs": [],
   "source": [
    "#In this example, a TensorFlow fully connected neural network is used as for multivariable classification\n",
    "#!pip install tensorflow\n",
    "import tensorflow as tf\n",
    "from sklearn.datasets import load_iris\n",
    "from sklearn.model_selection import train_test_split\n",
    "from sklearn.preprocessing import StandardScaler\n",
    "from sklearn.preprocessing import LabelEncoder\n",
    "from sklearn.metrics import confusion_matrix, classification_report\n",
    "import numpy as np\n",
    "import matplotlib.pyplot as plt\n",
    "import seaborn as sns"
   ]
  },
  {
   "cell_type": "code",
   "execution_count": 18,
   "id": "49b4f542",
   "metadata": {},
   "outputs": [],
   "source": [
    "# Load the Iris dataset\n",
    "iris = load_iris()\n",
    "X = iris.data\n",
    "y = iris.target"
   ]
  },
  {
   "cell_type": "code",
   "execution_count": 19,
   "id": "d49d525f",
   "metadata": {},
   "outputs": [],
   "source": [
    "# Convert labels to one-hot encoded format\n",
    "label_encoder = LabelEncoder()\n",
    "y = label_encoder.fit_transform(y)"
   ]
  },
  {
   "cell_type": "code",
   "execution_count": 20,
   "id": "fe6c5d07",
   "metadata": {},
   "outputs": [],
   "source": [
    "# Split the dataset\n",
    "X_train, X_test, y_train, y_test = train_test_split(X, y, test_size=0.2, random_state=42)"
   ]
  },
  {
   "cell_type": "code",
   "execution_count": 21,
   "id": "68f79fa1",
   "metadata": {},
   "outputs": [],
   "source": [
    "# Standardize features\n",
    "scaler = StandardScaler()\n",
    "X_train = scaler.fit_transform(X_train)\n",
    "X_test = scaler.transform(X_test)"
   ]
  },
  {
   "cell_type": "code",
   "execution_count": 22,
   "id": "680fe909",
   "metadata": {},
   "outputs": [],
   "source": [
    "# Define the neural network.\n",
    "# Layers:\n",
    "#Input: has as many neurons as features in the dataset\n",
    "#hidden layer 1: it has 64 neurons and a relu activation function\n",
    "#hidden layer 2: it has 32 neurons, and also a relu activation function\n",
    "#output layer: it has 3 neurons, as many as the classes to classify,\n",
    "#it uses softmax activation function to assign probabilities to each class\n",
    "\n",
    "model = tf.keras.Sequential([\n",
    "    tf.keras.layers.Input(shape=(X_train.shape[1],)),\n",
    "    tf.keras.layers.Dense(64, activation='relu'),\n",
    "    tf.keras.layers.Dense(32, activation='relu'),\n",
    "    tf.keras.layers.Dense(3, activation='softmax')\n",
    "])"
   ]
  },
  {
   "cell_type": "code",
   "execution_count": 23,
   "id": "d7565d5f",
   "metadata": {},
   "outputs": [],
   "source": [
    "# Compile the model specifing Adam as the algorithm for optimizing the weights and\n",
    "# sparse_categorical_crossentropy as the loss function\n",
    "model.compile(optimizer='adam', loss='sparse_categorical_crossentropy', metrics=['accuracy'])"
   ]
  },
  {
   "cell_type": "code",
   "execution_count": 24,
   "id": "8fa5872a",
   "metadata": {},
   "outputs": [
    {
     "name": "stdout",
     "output_type": "stream",
     "text": [
      "Epoch 1/100\n",
      "3/3 [==============================] - 1s 65ms/step - loss: 1.0804 - accuracy: 0.3229 - val_loss: 1.0518 - val_accuracy: 0.5833\n",
      "Epoch 2/100\n",
      "3/3 [==============================] - 0s 20ms/step - loss: 1.0107 - accuracy: 0.6458 - val_loss: 0.9920 - val_accuracy: 0.6250\n",
      "Epoch 3/100\n",
      "3/3 [==============================] - 0s 28ms/step - loss: 0.9484 - accuracy: 0.7083 - val_loss: 0.9377 - val_accuracy: 0.7083\n",
      "Epoch 4/100\n",
      "3/3 [==============================] - 0s 29ms/step - loss: 0.8924 - accuracy: 0.7708 - val_loss: 0.8875 - val_accuracy: 0.7500\n",
      "Epoch 5/100\n",
      "3/3 [==============================] - 0s 22ms/step - loss: 0.8424 - accuracy: 0.7812 - val_loss: 0.8425 - val_accuracy: 0.7500\n",
      "Epoch 6/100\n",
      "3/3 [==============================] - 0s 26ms/step - loss: 0.7939 - accuracy: 0.7917 - val_loss: 0.8041 - val_accuracy: 0.7500\n",
      "Epoch 7/100\n",
      "3/3 [==============================] - 0s 30ms/step - loss: 0.7520 - accuracy: 0.8021 - val_loss: 0.7705 - val_accuracy: 0.7500\n",
      "Epoch 8/100\n",
      "3/3 [==============================] - 0s 22ms/step - loss: 0.7155 - accuracy: 0.8021 - val_loss: 0.7391 - val_accuracy: 0.7500\n",
      "Epoch 9/100\n",
      "3/3 [==============================] - 0s 19ms/step - loss: 0.6804 - accuracy: 0.8125 - val_loss: 0.7115 - val_accuracy: 0.7500\n",
      "Epoch 10/100\n",
      "3/3 [==============================] - 0s 31ms/step - loss: 0.6489 - accuracy: 0.8125 - val_loss: 0.6854 - val_accuracy: 0.7500\n",
      "Epoch 11/100\n",
      "3/3 [==============================] - 0s 17ms/step - loss: 0.6215 - accuracy: 0.8125 - val_loss: 0.6614 - val_accuracy: 0.7500\n",
      "Epoch 12/100\n",
      "3/3 [==============================] - 0s 25ms/step - loss: 0.5962 - accuracy: 0.8125 - val_loss: 0.6388 - val_accuracy: 0.7500\n",
      "Epoch 13/100\n",
      "3/3 [==============================] - 0s 26ms/step - loss: 0.5722 - accuracy: 0.8229 - val_loss: 0.6184 - val_accuracy: 0.7500\n",
      "Epoch 14/100\n",
      "3/3 [==============================] - 0s 13ms/step - loss: 0.5516 - accuracy: 0.8229 - val_loss: 0.5997 - val_accuracy: 0.8333\n",
      "Epoch 15/100\n",
      "3/3 [==============================] - 0s 23ms/step - loss: 0.5328 - accuracy: 0.8125 - val_loss: 0.5813 - val_accuracy: 0.8333\n",
      "Epoch 16/100\n",
      "3/3 [==============================] - 0s 23ms/step - loss: 0.5153 - accuracy: 0.8125 - val_loss: 0.5631 - val_accuracy: 0.8333\n",
      "Epoch 17/100\n",
      "3/3 [==============================] - 0s 17ms/step - loss: 0.4985 - accuracy: 0.8125 - val_loss: 0.5471 - val_accuracy: 0.8750\n",
      "Epoch 18/100\n",
      "3/3 [==============================] - 0s 21ms/step - loss: 0.4833 - accuracy: 0.8229 - val_loss: 0.5314 - val_accuracy: 0.8750\n",
      "Epoch 19/100\n",
      "3/3 [==============================] - 0s 21ms/step - loss: 0.4689 - accuracy: 0.8229 - val_loss: 0.5164 - val_accuracy: 0.8750\n",
      "Epoch 20/100\n",
      "3/3 [==============================] - 0s 26ms/step - loss: 0.4549 - accuracy: 0.8229 - val_loss: 0.5020 - val_accuracy: 0.8750\n",
      "Epoch 21/100\n",
      "3/3 [==============================] - 0s 15ms/step - loss: 0.4424 - accuracy: 0.8229 - val_loss: 0.4890 - val_accuracy: 0.8750\n",
      "Epoch 22/100\n",
      "3/3 [==============================] - 0s 28ms/step - loss: 0.4297 - accuracy: 0.8333 - val_loss: 0.4766 - val_accuracy: 0.8750\n",
      "Epoch 23/100\n",
      "3/3 [==============================] - 0s 24ms/step - loss: 0.4180 - accuracy: 0.8333 - val_loss: 0.4637 - val_accuracy: 0.8750\n",
      "Epoch 24/100\n",
      "3/3 [==============================] - 0s 34ms/step - loss: 0.4062 - accuracy: 0.8333 - val_loss: 0.4529 - val_accuracy: 0.9167\n",
      "Epoch 25/100\n",
      "3/3 [==============================] - 0s 22ms/step - loss: 0.3952 - accuracy: 0.8438 - val_loss: 0.4411 - val_accuracy: 0.9167\n",
      "Epoch 26/100\n",
      "3/3 [==============================] - 0s 44ms/step - loss: 0.3839 - accuracy: 0.8438 - val_loss: 0.4303 - val_accuracy: 0.9167\n",
      "Epoch 27/100\n",
      "3/3 [==============================] - 0s 35ms/step - loss: 0.3736 - accuracy: 0.8438 - val_loss: 0.4210 - val_accuracy: 0.9167\n",
      "Epoch 28/100\n",
      "3/3 [==============================] - 0s 25ms/step - loss: 0.3638 - accuracy: 0.8438 - val_loss: 0.4123 - val_accuracy: 0.9167\n",
      "Epoch 29/100\n",
      "3/3 [==============================] - 0s 22ms/step - loss: 0.3546 - accuracy: 0.8438 - val_loss: 0.4019 - val_accuracy: 0.9167\n",
      "Epoch 30/100\n",
      "3/3 [==============================] - 0s 25ms/step - loss: 0.3451 - accuracy: 0.8438 - val_loss: 0.3939 - val_accuracy: 0.9167\n",
      "Epoch 31/100\n",
      "3/3 [==============================] - 0s 42ms/step - loss: 0.3361 - accuracy: 0.8542 - val_loss: 0.3856 - val_accuracy: 0.9167\n",
      "Epoch 32/100\n",
      "3/3 [==============================] - 0s 26ms/step - loss: 0.3277 - accuracy: 0.8750 - val_loss: 0.3769 - val_accuracy: 0.9167\n",
      "Epoch 33/100\n",
      "3/3 [==============================] - 0s 22ms/step - loss: 0.3189 - accuracy: 0.8750 - val_loss: 0.3694 - val_accuracy: 0.9167\n",
      "Epoch 34/100\n",
      "3/3 [==============================] - 0s 22ms/step - loss: 0.3107 - accuracy: 0.8958 - val_loss: 0.3611 - val_accuracy: 0.9167\n",
      "Epoch 35/100\n",
      "3/3 [==============================] - 0s 29ms/step - loss: 0.3022 - accuracy: 0.9062 - val_loss: 0.3544 - val_accuracy: 0.9167\n",
      "Epoch 36/100\n",
      "3/3 [==============================] - 0s 38ms/step - loss: 0.2945 - accuracy: 0.8958 - val_loss: 0.3490 - val_accuracy: 0.9167\n",
      "Epoch 37/100\n",
      "3/3 [==============================] - 0s 46ms/step - loss: 0.2857 - accuracy: 0.9271 - val_loss: 0.3412 - val_accuracy: 0.9167\n",
      "Epoch 38/100\n",
      "3/3 [==============================] - 0s 33ms/step - loss: 0.2784 - accuracy: 0.9479 - val_loss: 0.3338 - val_accuracy: 0.9167\n",
      "Epoch 39/100\n",
      "3/3 [==============================] - 0s 33ms/step - loss: 0.2710 - accuracy: 0.9479 - val_loss: 0.3255 - val_accuracy: 0.9167\n",
      "Epoch 40/100\n",
      "3/3 [==============================] - 0s 24ms/step - loss: 0.2635 - accuracy: 0.9479 - val_loss: 0.3192 - val_accuracy: 0.9583\n",
      "Epoch 41/100\n",
      "3/3 [==============================] - 0s 31ms/step - loss: 0.2566 - accuracy: 0.9479 - val_loss: 0.3106 - val_accuracy: 0.9583\n",
      "Epoch 42/100\n",
      "3/3 [==============================] - 0s 23ms/step - loss: 0.2491 - accuracy: 0.9583 - val_loss: 0.3045 - val_accuracy: 0.9583\n",
      "Epoch 43/100\n",
      "3/3 [==============================] - 0s 37ms/step - loss: 0.2419 - accuracy: 0.9479 - val_loss: 0.2979 - val_accuracy: 0.9583\n",
      "Epoch 44/100\n",
      "3/3 [==============================] - 0s 29ms/step - loss: 0.2358 - accuracy: 0.9479 - val_loss: 0.2899 - val_accuracy: 0.9583\n",
      "Epoch 45/100\n",
      "3/3 [==============================] - 0s 33ms/step - loss: 0.2283 - accuracy: 0.9479 - val_loss: 0.2875 - val_accuracy: 0.9583\n",
      "Epoch 46/100\n",
      "3/3 [==============================] - 0s 28ms/step - loss: 0.2210 - accuracy: 0.9479 - val_loss: 0.2825 - val_accuracy: 0.9583\n",
      "Epoch 47/100\n",
      "3/3 [==============================] - 0s 24ms/step - loss: 0.2146 - accuracy: 0.9479 - val_loss: 0.2801 - val_accuracy: 0.9583\n",
      "Epoch 48/100\n",
      "3/3 [==============================] - 0s 30ms/step - loss: 0.2080 - accuracy: 0.9479 - val_loss: 0.2757 - val_accuracy: 0.9583\n",
      "Epoch 49/100\n",
      "3/3 [==============================] - 0s 26ms/step - loss: 0.2021 - accuracy: 0.9479 - val_loss: 0.2713 - val_accuracy: 0.9583\n",
      "Epoch 50/100\n",
      "3/3 [==============================] - 0s 32ms/step - loss: 0.1965 - accuracy: 0.9479 - val_loss: 0.2662 - val_accuracy: 0.9583\n",
      "Epoch 51/100\n",
      "3/3 [==============================] - 0s 17ms/step - loss: 0.1911 - accuracy: 0.9479 - val_loss: 0.2651 - val_accuracy: 0.9583\n",
      "Epoch 52/100\n",
      "3/3 [==============================] - 0s 22ms/step - loss: 0.1847 - accuracy: 0.9479 - val_loss: 0.2602 - val_accuracy: 0.9583\n",
      "Epoch 53/100\n",
      "3/3 [==============================] - 0s 14ms/step - loss: 0.1794 - accuracy: 0.9479 - val_loss: 0.2548 - val_accuracy: 0.9583\n",
      "Epoch 54/100\n",
      "3/3 [==============================] - 0s 16ms/step - loss: 0.1742 - accuracy: 0.9479 - val_loss: 0.2500 - val_accuracy: 0.9583\n",
      "Epoch 55/100\n",
      "3/3 [==============================] - 0s 19ms/step - loss: 0.1700 - accuracy: 0.9583 - val_loss: 0.2442 - val_accuracy: 0.9583\n",
      "Epoch 56/100\n",
      "3/3 [==============================] - 0s 27ms/step - loss: 0.1646 - accuracy: 0.9583 - val_loss: 0.2428 - val_accuracy: 0.9583\n",
      "Epoch 57/100\n",
      "3/3 [==============================] - 0s 20ms/step - loss: 0.1596 - accuracy: 0.9583 - val_loss: 0.2412 - val_accuracy: 0.9583\n",
      "Epoch 58/100\n",
      "3/3 [==============================] - 0s 30ms/step - loss: 0.1561 - accuracy: 0.9479 - val_loss: 0.2437 - val_accuracy: 0.9583\n",
      "Epoch 59/100\n",
      "3/3 [==============================] - 0s 26ms/step - loss: 0.1517 - accuracy: 0.9479 - val_loss: 0.2396 - val_accuracy: 0.9583\n",
      "Epoch 60/100\n",
      "3/3 [==============================] - 0s 34ms/step - loss: 0.1465 - accuracy: 0.9583 - val_loss: 0.2362 - val_accuracy: 0.9583\n",
      "Epoch 61/100\n",
      "3/3 [==============================] - 0s 20ms/step - loss: 0.1424 - accuracy: 0.9583 - val_loss: 0.2326 - val_accuracy: 0.9583\n",
      "Epoch 62/100\n",
      "3/3 [==============================] - 0s 14ms/step - loss: 0.1388 - accuracy: 0.9583 - val_loss: 0.2300 - val_accuracy: 0.9583\n",
      "Epoch 63/100\n",
      "3/3 [==============================] - 0s 17ms/step - loss: 0.1355 - accuracy: 0.9583 - val_loss: 0.2274 - val_accuracy: 0.9583\n",
      "Epoch 64/100\n",
      "3/3 [==============================] - 0s 24ms/step - loss: 0.1316 - accuracy: 0.9583 - val_loss: 0.2274 - val_accuracy: 0.9583\n",
      "Epoch 65/100\n",
      "3/3 [==============================] - 0s 33ms/step - loss: 0.1278 - accuracy: 0.9583 - val_loss: 0.2273 - val_accuracy: 0.9583\n",
      "Epoch 66/100\n",
      "3/3 [==============================] - 0s 23ms/step - loss: 0.1253 - accuracy: 0.9583 - val_loss: 0.2297 - val_accuracy: 0.9583\n",
      "Epoch 67/100\n",
      "3/3 [==============================] - 0s 18ms/step - loss: 0.1226 - accuracy: 0.9583 - val_loss: 0.2314 - val_accuracy: 0.9583\n",
      "Epoch 68/100\n",
      "3/3 [==============================] - 0s 25ms/step - loss: 0.1199 - accuracy: 0.9583 - val_loss: 0.2236 - val_accuracy: 0.9583\n",
      "Epoch 69/100\n",
      "3/3 [==============================] - 0s 22ms/step - loss: 0.1161 - accuracy: 0.9583 - val_loss: 0.2216 - val_accuracy: 0.9583\n",
      "Epoch 70/100\n",
      "3/3 [==============================] - 0s 22ms/step - loss: 0.1136 - accuracy: 0.9583 - val_loss: 0.2189 - val_accuracy: 0.9583\n",
      "Epoch 71/100\n",
      "3/3 [==============================] - 0s 23ms/step - loss: 0.1117 - accuracy: 0.9583 - val_loss: 0.2171 - val_accuracy: 0.9583\n",
      "Epoch 72/100\n",
      "3/3 [==============================] - 0s 28ms/step - loss: 0.1086 - accuracy: 0.9583 - val_loss: 0.2169 - val_accuracy: 0.9583\n",
      "Epoch 73/100\n",
      "3/3 [==============================] - 0s 21ms/step - loss: 0.1067 - accuracy: 0.9583 - val_loss: 0.2202 - val_accuracy: 0.9583\n",
      "Epoch 74/100\n",
      "3/3 [==============================] - 0s 31ms/step - loss: 0.1045 - accuracy: 0.9583 - val_loss: 0.2214 - val_accuracy: 0.9583\n",
      "Epoch 75/100\n",
      "3/3 [==============================] - 0s 17ms/step - loss: 0.1024 - accuracy: 0.9583 - val_loss: 0.2201 - val_accuracy: 0.9583\n",
      "Epoch 76/100\n",
      "3/3 [==============================] - 0s 17ms/step - loss: 0.1003 - accuracy: 0.9583 - val_loss: 0.2186 - val_accuracy: 0.9583\n",
      "Epoch 77/100\n",
      "3/3 [==============================] - 0s 24ms/step - loss: 0.0988 - accuracy: 0.9583 - val_loss: 0.2145 - val_accuracy: 0.9583\n",
      "Epoch 78/100\n",
      "3/3 [==============================] - 0s 18ms/step - loss: 0.0969 - accuracy: 0.9583 - val_loss: 0.2132 - val_accuracy: 0.9583\n",
      "Epoch 79/100\n",
      "3/3 [==============================] - 0s 23ms/step - loss: 0.0959 - accuracy: 0.9583 - val_loss: 0.2182 - val_accuracy: 0.9583\n",
      "Epoch 80/100\n",
      "3/3 [==============================] - 0s 32ms/step - loss: 0.0938 - accuracy: 0.9688 - val_loss: 0.2199 - val_accuracy: 0.9583\n",
      "Epoch 81/100\n",
      "3/3 [==============================] - 0s 27ms/step - loss: 0.0925 - accuracy: 0.9688 - val_loss: 0.2157 - val_accuracy: 0.9583\n",
      "Epoch 82/100\n",
      "3/3 [==============================] - 0s 23ms/step - loss: 0.0903 - accuracy: 0.9688 - val_loss: 0.2162 - val_accuracy: 0.9583\n",
      "Epoch 83/100\n",
      "3/3 [==============================] - 0s 23ms/step - loss: 0.0890 - accuracy: 0.9688 - val_loss: 0.2143 - val_accuracy: 0.9583\n",
      "Epoch 84/100\n",
      "3/3 [==============================] - 0s 25ms/step - loss: 0.0877 - accuracy: 0.9688 - val_loss: 0.2128 - val_accuracy: 0.9583\n",
      "Epoch 85/100\n",
      "3/3 [==============================] - 0s 26ms/step - loss: 0.0865 - accuracy: 0.9688 - val_loss: 0.2152 - val_accuracy: 0.9583\n",
      "Epoch 86/100\n",
      "3/3 [==============================] - 0s 28ms/step - loss: 0.0849 - accuracy: 0.9792 - val_loss: 0.2179 - val_accuracy: 0.9583\n",
      "Epoch 87/100\n",
      "3/3 [==============================] - 0s 19ms/step - loss: 0.0837 - accuracy: 0.9792 - val_loss: 0.2183 - val_accuracy: 0.9583\n",
      "Epoch 88/100\n",
      "3/3 [==============================] - 0s 22ms/step - loss: 0.0825 - accuracy: 0.9792 - val_loss: 0.2188 - val_accuracy: 0.9583\n",
      "Epoch 89/100\n",
      "3/3 [==============================] - 0s 41ms/step - loss: 0.0817 - accuracy: 0.9792 - val_loss: 0.2146 - val_accuracy: 0.9583\n",
      "Epoch 90/100\n",
      "3/3 [==============================] - 0s 31ms/step - loss: 0.0804 - accuracy: 0.9792 - val_loss: 0.2126 - val_accuracy: 0.9583\n",
      "Epoch 91/100\n",
      "3/3 [==============================] - 0s 27ms/step - loss: 0.0790 - accuracy: 0.9792 - val_loss: 0.2131 - val_accuracy: 0.9583\n",
      "Epoch 92/100\n",
      "3/3 [==============================] - 0s 26ms/step - loss: 0.0791 - accuracy: 0.9792 - val_loss: 0.2202 - val_accuracy: 0.9583\n",
      "Epoch 93/100\n",
      "3/3 [==============================] - 0s 25ms/step - loss: 0.0768 - accuracy: 0.9896 - val_loss: 0.2201 - val_accuracy: 0.9583\n",
      "Epoch 94/100\n",
      "3/3 [==============================] - 0s 25ms/step - loss: 0.0765 - accuracy: 0.9792 - val_loss: 0.2154 - val_accuracy: 0.9583\n",
      "Epoch 95/100\n",
      "3/3 [==============================] - 0s 30ms/step - loss: 0.0749 - accuracy: 0.9792 - val_loss: 0.2143 - val_accuracy: 0.9583\n",
      "Epoch 96/100\n",
      "3/3 [==============================] - 0s 30ms/step - loss: 0.0739 - accuracy: 0.9896 - val_loss: 0.2161 - val_accuracy: 0.9583\n",
      "Epoch 97/100\n",
      "3/3 [==============================] - 0s 31ms/step - loss: 0.0731 - accuracy: 0.9896 - val_loss: 0.2172 - val_accuracy: 0.9583\n",
      "Epoch 98/100\n",
      "3/3 [==============================] - 0s 36ms/step - loss: 0.0723 - accuracy: 0.9896 - val_loss: 0.2185 - val_accuracy: 0.9583\n",
      "Epoch 99/100\n",
      "3/3 [==============================] - 0s 22ms/step - loss: 0.0713 - accuracy: 0.9896 - val_loss: 0.2154 - val_accuracy: 0.9583\n",
      "Epoch 100/100\n",
      "3/3 [==============================] - 0s 20ms/step - loss: 0.0705 - accuracy: 0.9896 - val_loss: 0.2135 - val_accuracy: 0.9583\n"
     ]
    }
   ],
   "source": [
    "# Train the model for 100 epochs using 'history' to show the loss function\n",
    "# and accuracy, as well as validation, at each epoch\n",
    "history = model.fit(X_train, y_train, epochs=100, validation_split=0.2)"
   ]
  },
  {
   "cell_type": "code",
   "execution_count": 25,
   "id": "86024558",
   "metadata": {},
   "outputs": [
    {
     "name": "stdout",
     "output_type": "stream",
     "text": [
      "1/1 [==============================] - 0s 26ms/step - loss: 0.0650 - accuracy: 1.0000\n",
      "\n",
      "Test accuracy: 1.0\n"
     ]
    }
   ],
   "source": [
    "# Evaluate the model with loss function and accuracy with the test split\n",
    "test_loss, test_acc = model.evaluate(X_test, y_test)\n",
    "print(\"\\nTest accuracy:\", test_acc)"
   ]
  },
  {
   "cell_type": "code",
   "execution_count": 26,
   "id": "5eea237d",
   "metadata": {},
   "outputs": [
    {
     "name": "stdout",
     "output_type": "stream",
     "text": [
      "1/1 [==============================] - 0s 58ms/step\n"
     ]
    }
   ],
   "source": [
    "# Make predictions\n",
    "y_pred = model.predict(X_test)\n",
    "y_pred_classes = np.argmax(y_pred, axis=1)"
   ]
  },
  {
   "cell_type": "code",
   "execution_count": 27,
   "id": "825c9867",
   "metadata": {},
   "outputs": [
    {
     "name": "stdout",
     "output_type": "stream",
     "text": [
      "\n",
      "Classification Report:\n",
      "               precision    recall  f1-score   support\n",
      "\n",
      "           0       1.00      1.00      1.00        10\n",
      "           1       1.00      1.00      1.00         9\n",
      "           2       1.00      1.00      1.00        11\n",
      "\n",
      "    accuracy                           1.00        30\n",
      "   macro avg       1.00      1.00      1.00        30\n",
      "weighted avg       1.00      1.00      1.00        30\n",
      "\n"
     ]
    }
   ],
   "source": [
    "# Print classification report that contains additional metrics\n",
    "print(\"\\nClassification Report:\\n\", classification_report(y_test, y_pred_classes))"
   ]
  },
  {
   "cell_type": "code",
   "execution_count": 28,
   "id": "b47b0f30",
   "metadata": {},
   "outputs": [
    {
     "data": {
      "image/png": "[encoded data removed]",
      "text/plain": [
       "<Figure size 500x400 with 2 Axes>"
      ]
     },
     "metadata": {},
     "output_type": "display_data"
    }
   ],
   "source": [
    "#plot the confusion matrix\n",
    "\n",
    "cm = confusion_matrix(y_test, y_pred_classes)\n",
    "\n",
    "class_labels = ['setosa', 'versicolor', 'virginica']\n",
    "\n",
    "# Plot the confusion matrix\n",
    "plt.figure(figsize=(5, 4))\n",
    "sns.heatmap(cm, annot=True, cmap='Greens')\n",
    "\n",
    "# Add a legend\n",
    "plt.xticks(ticks=np.arange(len(class_labels)) + 0.5, labels=class_labels)\n",
    "plt.yticks(ticks=np.arange(len(class_labels)) + 0.5, labels=class_labels)\n",
    "plt.xlabel('Predicted')\n",
    "plt.ylabel('True')\n",
    "plt.title('Confusion Matrix for TensorFlow FCNN')\n",
    "\n",
    "# Display the plot\n",
    "plt.show()"
   ]
  },
  {
   "cell_type": "code",
   "execution_count": null,
   "id": "1ea36829",
   "metadata": {},
   "outputs": [],
   "source": []
  }
 ],
 "metadata": {
  "kernelspec": {
   "display_name": "Python 3 (ipykernel)",
   "language": "python",
   "name": "python3"
  },
  "language_info": {
   "codemirror_mode": {
    "name": "ipython",
    "version": 3
   },
   "file_extension": ".py",
   "mimetype": "text/x-python",
   "name": "python",
   "nbconvert_exporter": "python",
   "pygments_lexer": "ipython3",
   "version": "3.8.10"
  }
 },
 "nbformat": 4,
 "nbformat_minor": 5
}
