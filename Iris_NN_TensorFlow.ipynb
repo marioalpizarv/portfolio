{
 "cells": [
  {
   "cell_type": "code",
   "execution_count": 19,
   "id": "0d00dcd1",
   "metadata": {},
   "outputs": [],
   "source": [
    "import tensorflow as tf\n",
    "from sklearn.datasets import load_iris\n",
    "from sklearn.model_selection import train_test_split\n",
    "from sklearn.preprocessing import StandardScaler\n",
    "from sklearn.preprocessing import LabelEncoder\n",
    "from sklearn.metrics import confusion_matrix, classification_report\n",
    "import numpy as np\n",
    "import matplotlib.pyplot as plt\n",
    "import seaborn as sns"
   ]
  },
  {
   "cell_type": "code",
   "execution_count": 2,
   "id": "49b4f542",
   "metadata": {},
   "outputs": [],
   "source": [
    "# Load the Iris dataset\n",
    "iris = load_iris()\n",
    "X = iris.data\n",
    "y = iris.target"
   ]
  },
  {
   "cell_type": "code",
   "execution_count": 3,
   "id": "d49d525f",
   "metadata": {},
   "outputs": [],
   "source": [
    "# Encode labels\n",
    "label_encoder = LabelEncoder()\n",
    "y = label_encoder.fit_transform(y)"
   ]
  },
  {
   "cell_type": "code",
   "execution_count": 4,
   "id": "fe6c5d07",
   "metadata": {},
   "outputs": [],
   "source": [
    "# Split the dataset\n",
    "X_train, X_test, y_train, y_test = train_test_split(X, y, test_size=0.2, random_state=42)"
   ]
  },
  {
   "cell_type": "code",
   "execution_count": 5,
   "id": "68f79fa1",
   "metadata": {},
   "outputs": [],
   "source": [
    "# Standardize features\n",
    "scaler = StandardScaler()\n",
    "X_train = scaler.fit_transform(X_train)\n",
    "X_test = scaler.transform(X_test)"
   ]
  },
  {
   "cell_type": "code",
   "execution_count": 6,
   "id": "680fe909",
   "metadata": {},
   "outputs": [],
   "source": [
    "# Build a neural network model\n",
    "model = tf.keras.Sequential([\n",
    "    tf.keras.layers.Input(shape=(X_train.shape[1],)),\n",
    "    tf.keras.layers.Dense(64, activation='relu'),\n",
    "    tf.keras.layers.Dense(32, activation='relu'),\n",
    "    tf.keras.layers.Dense(3, activation='softmax')\n",
    "])"
   ]
  },
  {
   "cell_type": "code",
   "execution_count": 7,
   "id": "d7565d5f",
   "metadata": {},
   "outputs": [],
   "source": [
    "# Compile the model\n",
    "model.compile(optimizer='adam', loss='sparse_categorical_crossentropy', metrics=['accuracy'])"
   ]
  },
  {
   "cell_type": "code",
   "execution_count": 21,
   "id": "8fa5872a",
   "metadata": {},
   "outputs": [
    {
     "name": "stdout",
     "output_type": "stream",
     "text": [
      "Epoch 1/100\n",
      "3/3 [==============================] - 0s 60ms/step - loss: 0.2301 - accuracy: 0.9167 - val_loss: 0.3172 - val_accuracy: 0.9167\n",
      "Epoch 2/100\n",
      "3/3 [==============================] - 0s 32ms/step - loss: 0.2258 - accuracy: 0.9167 - val_loss: 0.3161 - val_accuracy: 0.9167\n",
      "Epoch 3/100\n",
      "3/3 [==============================] - 0s 30ms/step - loss: 0.2211 - accuracy: 0.9375 - val_loss: 0.3132 - val_accuracy: 0.9583\n",
      "Epoch 4/100\n",
      "3/3 [==============================] - 0s 31ms/step - loss: 0.2172 - accuracy: 0.9479 - val_loss: 0.3126 - val_accuracy: 0.9583\n",
      "Epoch 5/100\n",
      "3/3 [==============================] - 0s 37ms/step - loss: 0.2118 - accuracy: 0.9583 - val_loss: 0.3081 - val_accuracy: 0.9583\n",
      "Epoch 6/100\n",
      "3/3 [==============================] - 0s 32ms/step - loss: 0.2077 - accuracy: 0.9479 - val_loss: 0.3022 - val_accuracy: 0.9583\n",
      "Epoch 7/100\n",
      "3/3 [==============================] - 0s 31ms/step - loss: 0.2033 - accuracy: 0.9479 - val_loss: 0.2991 - val_accuracy: 0.9583\n",
      "Epoch 8/100\n",
      "3/3 [==============================] - 0s 38ms/step - loss: 0.1993 - accuracy: 0.9479 - val_loss: 0.2930 - val_accuracy: 0.9583\n",
      "Epoch 9/100\n",
      "3/3 [==============================] - 0s 40ms/step - loss: 0.1944 - accuracy: 0.9479 - val_loss: 0.2912 - val_accuracy: 0.9583\n",
      "Epoch 10/100\n",
      "3/3 [==============================] - 0s 49ms/step - loss: 0.1900 - accuracy: 0.9479 - val_loss: 0.2884 - val_accuracy: 0.9583\n",
      "Epoch 11/100\n",
      "3/3 [==============================] - 0s 35ms/step - loss: 0.1854 - accuracy: 0.9479 - val_loss: 0.2847 - val_accuracy: 0.9583\n",
      "Epoch 12/100\n",
      "3/3 [==============================] - 0s 37ms/step - loss: 0.1813 - accuracy: 0.9479 - val_loss: 0.2840 - val_accuracy: 0.9583\n",
      "Epoch 13/100\n",
      "3/3 [==============================] - 0s 33ms/step - loss: 0.1766 - accuracy: 0.9479 - val_loss: 0.2809 - val_accuracy: 0.9583\n",
      "Epoch 14/100\n",
      "3/3 [==============================] - 0s 41ms/step - loss: 0.1725 - accuracy: 0.9479 - val_loss: 0.2770 - val_accuracy: 0.9583\n",
      "Epoch 15/100\n",
      "3/3 [==============================] - 0s 77ms/step - loss: 0.1682 - accuracy: 0.9479 - val_loss: 0.2730 - val_accuracy: 0.9583\n",
      "Epoch 16/100\n",
      "3/3 [==============================] - 0s 32ms/step - loss: 0.1645 - accuracy: 0.9479 - val_loss: 0.2726 - val_accuracy: 0.9583\n",
      "Epoch 17/100\n",
      "3/3 [==============================] - 0s 31ms/step - loss: 0.1606 - accuracy: 0.9479 - val_loss: 0.2665 - val_accuracy: 0.9583\n",
      "Epoch 18/100\n",
      "3/3 [==============================] - 0s 39ms/step - loss: 0.1556 - accuracy: 0.9479 - val_loss: 0.2658 - val_accuracy: 0.9583\n",
      "Epoch 19/100\n",
      "3/3 [==============================] - 0s 39ms/step - loss: 0.1513 - accuracy: 0.9479 - val_loss: 0.2627 - val_accuracy: 0.9583\n",
      "Epoch 20/100\n",
      "3/3 [==============================] - 0s 30ms/step - loss: 0.1473 - accuracy: 0.9479 - val_loss: 0.2612 - val_accuracy: 0.9583\n",
      "Epoch 21/100\n",
      "3/3 [==============================] - 0s 60ms/step - loss: 0.1437 - accuracy: 0.9479 - val_loss: 0.2568 - val_accuracy: 0.9583\n",
      "Epoch 22/100\n",
      "3/3 [==============================] - 0s 29ms/step - loss: 0.1392 - accuracy: 0.9583 - val_loss: 0.2534 - val_accuracy: 0.9583\n",
      "Epoch 23/100\n",
      "3/3 [==============================] - 0s 30ms/step - loss: 0.1364 - accuracy: 0.9583 - val_loss: 0.2560 - val_accuracy: 0.9583\n",
      "Epoch 24/100\n",
      "3/3 [==============================] - 0s 32ms/step - loss: 0.1321 - accuracy: 0.9583 - val_loss: 0.2512 - val_accuracy: 0.9583\n",
      "Epoch 25/100\n",
      "3/3 [==============================] - 0s 35ms/step - loss: 0.1296 - accuracy: 0.9583 - val_loss: 0.2519 - val_accuracy: 0.9583\n",
      "Epoch 26/100\n",
      "3/3 [==============================] - 0s 33ms/step - loss: 0.1256 - accuracy: 0.9792 - val_loss: 0.2491 - val_accuracy: 0.9583\n",
      "Epoch 27/100\n",
      "3/3 [==============================] - 0s 40ms/step - loss: 0.1235 - accuracy: 0.9688 - val_loss: 0.2415 - val_accuracy: 0.9583\n",
      "Epoch 28/100\n",
      "3/3 [==============================] - 0s 35ms/step - loss: 0.1200 - accuracy: 0.9688 - val_loss: 0.2397 - val_accuracy: 0.9583\n",
      "Epoch 29/100\n",
      "3/3 [==============================] - 0s 31ms/step - loss: 0.1170 - accuracy: 0.9688 - val_loss: 0.2403 - val_accuracy: 0.9583\n",
      "Epoch 30/100\n",
      "3/3 [==============================] - 0s 30ms/step - loss: 0.1141 - accuracy: 0.9688 - val_loss: 0.2390 - val_accuracy: 0.9583\n",
      "Epoch 31/100\n",
      "3/3 [==============================] - 0s 34ms/step - loss: 0.1120 - accuracy: 0.9688 - val_loss: 0.2349 - val_accuracy: 0.9583\n",
      "Epoch 32/100\n",
      "3/3 [==============================] - 0s 36ms/step - loss: 0.1098 - accuracy: 0.9688 - val_loss: 0.2387 - val_accuracy: 0.9583\n",
      "Epoch 33/100\n",
      "3/3 [==============================] - 0s 43ms/step - loss: 0.1073 - accuracy: 0.9792 - val_loss: 0.2408 - val_accuracy: 0.9583\n",
      "Epoch 34/100\n",
      "3/3 [==============================] - 0s 36ms/step - loss: 0.1048 - accuracy: 0.9688 - val_loss: 0.2360 - val_accuracy: 0.9583\n",
      "Epoch 35/100\n",
      "3/3 [==============================] - 0s 37ms/step - loss: 0.1031 - accuracy: 0.9688 - val_loss: 0.2302 - val_accuracy: 0.9583\n",
      "Epoch 36/100\n",
      "3/3 [==============================] - 0s 32ms/step - loss: 0.1009 - accuracy: 0.9688 - val_loss: 0.2273 - val_accuracy: 0.9583\n",
      "Epoch 37/100\n",
      "3/3 [==============================] - 0s 36ms/step - loss: 0.0987 - accuracy: 0.9688 - val_loss: 0.2289 - val_accuracy: 0.9583\n",
      "Epoch 38/100\n",
      "3/3 [==============================] - 0s 34ms/step - loss: 0.0971 - accuracy: 0.9792 - val_loss: 0.2311 - val_accuracy: 0.9583\n",
      "Epoch 39/100\n",
      "3/3 [==============================] - 0s 27ms/step - loss: 0.0960 - accuracy: 0.9688 - val_loss: 0.2317 - val_accuracy: 0.9583\n",
      "Epoch 40/100\n",
      "3/3 [==============================] - 0s 35ms/step - loss: 0.0938 - accuracy: 0.9688 - val_loss: 0.2262 - val_accuracy: 0.9583\n",
      "Epoch 41/100\n",
      "3/3 [==============================] - 0s 56ms/step - loss: 0.0921 - accuracy: 0.9583 - val_loss: 0.2197 - val_accuracy: 0.9583\n",
      "Epoch 42/100\n",
      "3/3 [==============================] - 0s 34ms/step - loss: 0.0909 - accuracy: 0.9688 - val_loss: 0.2151 - val_accuracy: 0.9583\n",
      "Epoch 43/100\n",
      "3/3 [==============================] - 0s 50ms/step - loss: 0.0895 - accuracy: 0.9688 - val_loss: 0.2165 - val_accuracy: 0.9583\n",
      "Epoch 44/100\n",
      "3/3 [==============================] - 0s 37ms/step - loss: 0.0878 - accuracy: 0.9583 - val_loss: 0.2204 - val_accuracy: 0.9583\n",
      "Epoch 45/100\n",
      "3/3 [==============================] - 0s 25ms/step - loss: 0.0868 - accuracy: 0.9583 - val_loss: 0.2185 - val_accuracy: 0.9583\n",
      "Epoch 46/100\n",
      "3/3 [==============================] - 0s 45ms/step - loss: 0.0852 - accuracy: 0.9688 - val_loss: 0.2198 - val_accuracy: 0.9583\n",
      "Epoch 47/100\n",
      "3/3 [==============================] - 0s 25ms/step - loss: 0.0844 - accuracy: 0.9688 - val_loss: 0.2183 - val_accuracy: 0.9583\n",
      "Epoch 48/100\n",
      "3/3 [==============================] - 0s 29ms/step - loss: 0.0832 - accuracy: 0.9688 - val_loss: 0.2210 - val_accuracy: 0.9583\n",
      "Epoch 49/100\n",
      "3/3 [==============================] - 0s 18ms/step - loss: 0.0822 - accuracy: 0.9688 - val_loss: 0.2196 - val_accuracy: 0.9583\n",
      "Epoch 50/100\n",
      "3/3 [==============================] - 0s 24ms/step - loss: 0.0813 - accuracy: 0.9688 - val_loss: 0.2163 - val_accuracy: 0.9583\n",
      "Epoch 51/100\n",
      "3/3 [==============================] - 0s 25ms/step - loss: 0.0802 - accuracy: 0.9688 - val_loss: 0.2159 - val_accuracy: 0.9583\n",
      "Epoch 52/100\n",
      "3/3 [==============================] - 0s 38ms/step - loss: 0.0798 - accuracy: 0.9688 - val_loss: 0.2126 - val_accuracy: 0.9583\n",
      "Epoch 53/100\n",
      "3/3 [==============================] - 0s 25ms/step - loss: 0.0785 - accuracy: 0.9688 - val_loss: 0.2160 - val_accuracy: 0.9583\n",
      "Epoch 54/100\n",
      "3/3 [==============================] - 0s 31ms/step - loss: 0.0776 - accuracy: 0.9688 - val_loss: 0.2162 - val_accuracy: 0.9583\n",
      "Epoch 55/100\n",
      "3/3 [==============================] - 0s 34ms/step - loss: 0.0771 - accuracy: 0.9688 - val_loss: 0.2203 - val_accuracy: 0.9583\n",
      "Epoch 56/100\n",
      "3/3 [==============================] - 0s 31ms/step - loss: 0.0761 - accuracy: 0.9688 - val_loss: 0.2183 - val_accuracy: 0.9583\n",
      "Epoch 57/100\n",
      "3/3 [==============================] - 0s 52ms/step - loss: 0.0752 - accuracy: 0.9688 - val_loss: 0.2175 - val_accuracy: 0.9583\n",
      "Epoch 58/100\n",
      "3/3 [==============================] - 0s 30ms/step - loss: 0.0751 - accuracy: 0.9688 - val_loss: 0.2134 - val_accuracy: 0.9583\n",
      "Epoch 59/100\n"
     ]
    },
    {
     "name": "stdout",
     "output_type": "stream",
     "text": [
      "3/3 [==============================] - 0s 58ms/step - loss: 0.0742 - accuracy: 0.9688 - val_loss: 0.2127 - val_accuracy: 0.9583\n",
      "Epoch 60/100\n",
      "3/3 [==============================] - 0s 51ms/step - loss: 0.0732 - accuracy: 0.9688 - val_loss: 0.2190 - val_accuracy: 0.9583\n",
      "Epoch 61/100\n",
      "3/3 [==============================] - 0s 42ms/step - loss: 0.0729 - accuracy: 0.9688 - val_loss: 0.2228 - val_accuracy: 0.9583\n",
      "Epoch 62/100\n",
      "3/3 [==============================] - 0s 42ms/step - loss: 0.0720 - accuracy: 0.9688 - val_loss: 0.2237 - val_accuracy: 0.9167\n",
      "Epoch 63/100\n",
      "3/3 [==============================] - 0s 29ms/step - loss: 0.0722 - accuracy: 0.9792 - val_loss: 0.2276 - val_accuracy: 0.9167\n",
      "Epoch 64/100\n",
      "3/3 [==============================] - 0s 34ms/step - loss: 0.0706 - accuracy: 0.9792 - val_loss: 0.2233 - val_accuracy: 0.9583\n",
      "Epoch 65/100\n",
      "3/3 [==============================] - 0s 25ms/step - loss: 0.0699 - accuracy: 0.9792 - val_loss: 0.2211 - val_accuracy: 0.9583\n",
      "Epoch 66/100\n",
      "3/3 [==============================] - 0s 25ms/step - loss: 0.0695 - accuracy: 0.9688 - val_loss: 0.2170 - val_accuracy: 0.9583\n",
      "Epoch 67/100\n",
      "3/3 [==============================] - 0s 37ms/step - loss: 0.0698 - accuracy: 0.9688 - val_loss: 0.2194 - val_accuracy: 0.9583\n",
      "Epoch 68/100\n",
      "3/3 [==============================] - 0s 26ms/step - loss: 0.0691 - accuracy: 0.9688 - val_loss: 0.2189 - val_accuracy: 0.9583\n",
      "Epoch 69/100\n",
      "3/3 [==============================] - 0s 31ms/step - loss: 0.0679 - accuracy: 0.9688 - val_loss: 0.2209 - val_accuracy: 0.9583\n",
      "Epoch 70/100\n",
      "3/3 [==============================] - 0s 41ms/step - loss: 0.0692 - accuracy: 0.9792 - val_loss: 0.2320 - val_accuracy: 0.9167\n",
      "Epoch 71/100\n",
      "3/3 [==============================] - 0s 31ms/step - loss: 0.0669 - accuracy: 0.9792 - val_loss: 0.2296 - val_accuracy: 0.9167\n",
      "Epoch 72/100\n",
      "3/3 [==============================] - 0s 35ms/step - loss: 0.0673 - accuracy: 0.9792 - val_loss: 0.2283 - val_accuracy: 0.9167\n",
      "Epoch 73/100\n",
      "3/3 [==============================] - 0s 42ms/step - loss: 0.0663 - accuracy: 0.9792 - val_loss: 0.2289 - val_accuracy: 0.9167\n",
      "Epoch 74/100\n",
      "3/3 [==============================] - 0s 16ms/step - loss: 0.0657 - accuracy: 0.9792 - val_loss: 0.2229 - val_accuracy: 0.9583\n",
      "Epoch 75/100\n",
      "3/3 [==============================] - 0s 20ms/step - loss: 0.0651 - accuracy: 0.9792 - val_loss: 0.2245 - val_accuracy: 0.9583\n",
      "Epoch 76/100\n",
      "3/3 [==============================] - 0s 23ms/step - loss: 0.0653 - accuracy: 0.9792 - val_loss: 0.2272 - val_accuracy: 0.9583\n",
      "Epoch 77/100\n",
      "3/3 [==============================] - 0s 19ms/step - loss: 0.0649 - accuracy: 0.9792 - val_loss: 0.2223 - val_accuracy: 0.9583\n",
      "Epoch 78/100\n",
      "3/3 [==============================] - 0s 27ms/step - loss: 0.0644 - accuracy: 0.9792 - val_loss: 0.2236 - val_accuracy: 0.9583\n",
      "Epoch 79/100\n",
      "3/3 [==============================] - 0s 10ms/step - loss: 0.0635 - accuracy: 0.9792 - val_loss: 0.2258 - val_accuracy: 0.9583\n",
      "Epoch 80/100\n",
      "3/3 [==============================] - 0s 47ms/step - loss: 0.0630 - accuracy: 0.9792 - val_loss: 0.2319 - val_accuracy: 0.9167\n",
      "Epoch 81/100\n",
      "3/3 [==============================] - 0s 32ms/step - loss: 0.0623 - accuracy: 0.9792 - val_loss: 0.2362 - val_accuracy: 0.9167\n",
      "Epoch 82/100\n",
      "3/3 [==============================] - 0s 32ms/step - loss: 0.0624 - accuracy: 0.9792 - val_loss: 0.2388 - val_accuracy: 0.9167\n",
      "Epoch 83/100\n",
      "3/3 [==============================] - 0s 42ms/step - loss: 0.0619 - accuracy: 0.9792 - val_loss: 0.2369 - val_accuracy: 0.9167\n",
      "Epoch 84/100\n",
      "3/3 [==============================] - 0s 34ms/step - loss: 0.0614 - accuracy: 0.9792 - val_loss: 0.2382 - val_accuracy: 0.9167\n",
      "Epoch 85/100\n",
      "3/3 [==============================] - 0s 31ms/step - loss: 0.0611 - accuracy: 0.9792 - val_loss: 0.2367 - val_accuracy: 0.9167\n",
      "Epoch 86/100\n",
      "3/3 [==============================] - 0s 22ms/step - loss: 0.0609 - accuracy: 0.9792 - val_loss: 0.2331 - val_accuracy: 0.9167\n",
      "Epoch 87/100\n",
      "3/3 [==============================] - 0s 31ms/step - loss: 0.0605 - accuracy: 0.9792 - val_loss: 0.2325 - val_accuracy: 0.9167\n",
      "Epoch 88/100\n",
      "3/3 [==============================] - 0s 31ms/step - loss: 0.0603 - accuracy: 0.9792 - val_loss: 0.2354 - val_accuracy: 0.9167\n",
      "Epoch 89/100\n",
      "3/3 [==============================] - 0s 30ms/step - loss: 0.0600 - accuracy: 0.9792 - val_loss: 0.2384 - val_accuracy: 0.9167\n",
      "Epoch 90/100\n",
      "3/3 [==============================] - 0s 45ms/step - loss: 0.0596 - accuracy: 0.9792 - val_loss: 0.2369 - val_accuracy: 0.9167\n",
      "Epoch 91/100\n",
      "3/3 [==============================] - 0s 17ms/step - loss: 0.0597 - accuracy: 0.9792 - val_loss: 0.2347 - val_accuracy: 0.9167\n",
      "Epoch 92/100\n",
      "3/3 [==============================] - 0s 17ms/step - loss: 0.0592 - accuracy: 0.9792 - val_loss: 0.2379 - val_accuracy: 0.9167\n",
      "Epoch 93/100\n",
      "3/3 [==============================] - 0s 29ms/step - loss: 0.0588 - accuracy: 0.9792 - val_loss: 0.2375 - val_accuracy: 0.9167\n",
      "Epoch 94/100\n",
      "3/3 [==============================] - 0s 34ms/step - loss: 0.0589 - accuracy: 0.9792 - val_loss: 0.2408 - val_accuracy: 0.9167\n",
      "Epoch 95/100\n",
      "3/3 [==============================] - 0s 33ms/step - loss: 0.0583 - accuracy: 0.9792 - val_loss: 0.2418 - val_accuracy: 0.9167\n",
      "Epoch 96/100\n",
      "3/3 [==============================] - 0s 30ms/step - loss: 0.0599 - accuracy: 0.9792 - val_loss: 0.2329 - val_accuracy: 0.9583\n",
      "Epoch 97/100\n",
      "3/3 [==============================] - 0s 44ms/step - loss: 0.0579 - accuracy: 0.9792 - val_loss: 0.2368 - val_accuracy: 0.9167\n",
      "Epoch 98/100\n",
      "3/3 [==============================] - 0s 39ms/step - loss: 0.0579 - accuracy: 0.9792 - val_loss: 0.2447 - val_accuracy: 0.9167\n",
      "Epoch 99/100\n",
      "3/3 [==============================] - 0s 41ms/step - loss: 0.0585 - accuracy: 0.9792 - val_loss: 0.2528 - val_accuracy: 0.9167\n",
      "Epoch 100/100\n",
      "3/3 [==============================] - 0s 48ms/step - loss: 0.0573 - accuracy: 0.9792 - val_loss: 0.2507 - val_accuracy: 0.9167\n"
     ]
    }
   ],
   "source": [
    "# Train the model\n",
    "history = model.fit(X_train, y_train, epochs=100, validation_split=0.2)"
   ]
  },
  {
   "cell_type": "code",
   "execution_count": 22,
   "id": "86024558",
   "metadata": {},
   "outputs": [
    {
     "name": "stdout",
     "output_type": "stream",
     "text": [
      "1/1 [==============================] - 0s 25ms/step - loss: 0.0373 - accuracy: 1.0000\n",
      "\n",
      "Test accuracy: 1.0\n"
     ]
    }
   ],
   "source": [
    "# Evaluate the model\n",
    "test_loss, test_acc = model.evaluate(X_test, y_test)\n",
    "print(\"\\nTest accuracy:\", test_acc)"
   ]
  },
  {
   "cell_type": "code",
   "execution_count": 23,
   "id": "5eea237d",
   "metadata": {},
   "outputs": [
    {
     "name": "stdout",
     "output_type": "stream",
     "text": [
      "1/1 [==============================] - 0s 37ms/step\n"
     ]
    }
   ],
   "source": [
    "# Make predictions\n",
    "y_pred = model.predict(X_test)\n",
    "y_pred_classes = np.argmax(y_pred, axis=1)"
   ]
  },
  {
   "cell_type": "code",
   "execution_count": 24,
   "id": "825c9867",
   "metadata": {},
   "outputs": [
    {
     "name": "stdout",
     "output_type": "stream",
     "text": [
      "\n",
      "Classification Report:\n",
      "               precision    recall  f1-score   support\n",
      "\n",
      "           0       1.00      1.00      1.00        10\n",
      "           1       1.00      1.00      1.00         9\n",
      "           2       1.00      1.00      1.00        11\n",
      "\n",
      "    accuracy                           1.00        30\n",
      "   macro avg       1.00      1.00      1.00        30\n",
      "weighted avg       1.00      1.00      1.00        30\n",
      "\n"
     ]
    }
   ],
   "source": [
    "# Print classification report\n",
    "print(\"\\nClassification Report:\\n\", classification_report(y_test, y_pred_classes))"
   ]
  },
  {
   "cell_type": "code",
   "execution_count": 26,
   "id": "b47b0f30",
   "metadata": {},
   "outputs": [
    {
     "data": {
      "image/png": "[encoded data removed]",
      "text/plain": [
       "<Figure size 360x288 with 2 Axes>"
      ]
     },
     "metadata": {
      "needs_background": "light"
     },
     "output_type": "display_data"
    }
   ],
   "source": [
    "#plot the confusion matrix\n",
    "\n",
    "cm = confusion_matrix(y_test, y_pred_classes)\n",
    "\n",
    "class_labels = ['setosa', 'versicolor', 'virginica']\n",
    "\n",
    "# Plot the confusion matrix\n",
    "plt.figure(figsize=(5, 4))\n",
    "sns.heatmap(cm, annot=True, cmap='Greens')\n",
    "\n",
    "# Add a legend\n",
    "plt.xticks(ticks=np.arange(len(class_labels)) + 0.5, labels=class_labels)\n",
    "plt.yticks(ticks=np.arange(len(class_labels)) + 0.5, labels=class_labels)\n",
    "plt.xlabel('Predicted')\n",
    "plt.ylabel('True')\n",
    "plt.title('Confusion Matrix for TensorFlow NN')\n",
    "\n",
    "# Display the plot\n",
    "plt.show()"
   ]
  },
  {
   "cell_type": "code",
   "execution_count": null,
   "id": "1ea36829",
   "metadata": {},
   "outputs": [],
   "source": []
  }
 ],
 "metadata": {
  "kernelspec": {
   "display_name": "Python 3 (ipykernel)",
   "language": "python",
   "name": "python3"
  },
  "language_info": {
   "codemirror_mode": {
    "name": "ipython",
    "version": 3
   },
   "file_extension": ".py",
   "mimetype": "text/x-python",
   "name": "python",
   "nbconvert_exporter": "python",
   "pygments_lexer": "ipython3",
   "version": "3.8.10"
  }
 },
 "nbformat": 4,
 "nbformat_minor": 5
}
