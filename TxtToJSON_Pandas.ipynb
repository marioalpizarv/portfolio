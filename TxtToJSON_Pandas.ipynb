{
 "cells": [
  {
   "cell_type": "code",
   "execution_count": 1,
   "id": "82394b87",
   "metadata": {},
   "outputs": [],
   "source": [
    "import pandas as pd\n",
    "import json"
   ]
  },
  {
   "cell_type": "code",
   "execution_count": 3,
   "id": "7c9df1c2",
   "metadata": {},
   "outputs": [],
   "source": [
    "#json_file_path = '/home/malpizar/Documents/DB/Kazmir_LY_Cor.json' \n",
    "#txt_file_path = '/home/malpizar/Documents/DB/Kazmir_LY_Cor.txt'\n",
    "\n",
    "json_file_path = '/home/malpizar/Downloads/Kazmir_LY_Cor.json'\n",
    "txt_file_path = '/home/malpizar/Downloads/Kazmir_LY_Cor.txt'\n",
    "df= pd.read_csv(txt_file_path, delimiter=' ')\n",
    "\n",
    "'''\n",
    "Here, we set the 'runID' column as the index and convert the dataframe \n",
    "to a nested dictionary structure using the to_dict() method with orient='index'.\n",
    "This will create a dictionary where each key is a runID and the corresponding \n",
    "value is a dictionary of the other columns.\n",
    "'''\n",
    "json_data = df.set_index('runID').to_dict(orient='index')\n",
    "\n",
    "#write to .json file\n",
    "with open(json_file_path, 'w') as file:\n",
    "    json.dump(json_data, file, indent=4)"
   ]
  },
  {
   "cell_type": "code",
   "execution_count": 4,
   "id": "135a5112",
   "metadata": {},
   "outputs": [
    {
     "name": "stdout",
     "output_type": "stream",
     "text": [
      "1.0 0.000889974\n",
      "1.00018 0.000797654\n",
      "1.00028 0.000994924\n",
      "1.0003 0.000918922\n",
      "1.00045 0.000725973\n",
      "1.00046 0.00153487\n",
      "1.00051 0.000729814\n",
      "1.00057 0.000653159\n",
      "1.00062 0.00073062\n",
      "1.00073 0.000652483\n",
      "1.00087 0.0006465\n",
      "1.00103 0.00114645\n",
      "1.0012 0.00115937\n",
      "1.00142 0.000639597\n",
      "1.00151 0.000904627\n",
      "1.00159 0.000798235\n",
      "1.0017 0.00166508\n",
      "1.00187 0.00144739\n",
      "1.00205 0.00126258\n",
      "1.00206 0.000690248\n",
      "1.00223 0.000727624\n",
      "1.00234 0.000631049\n",
      "1.00259 0.000768556\n",
      "1.00267 0.000796191\n",
      "1.00284 0.00130859\n",
      "1.003 0.00132967\n",
      "1.00301 0.000713472\n"
     ]
    }
   ],
   "source": [
    "#load .json file\n",
    "with open(json_file_path) as file:\n",
    "    data = json.load(file)\n",
    "\n",
    "for i in range(18721, 18923):\n",
    "    try:\n",
    "        LY_value = data[str(i)][\"LY\"]\n",
    "        U_value = data[str(i)][\"Uncertainty\"] \n",
    "    \n",
    "    except KeyError:\n",
    "        continue #skip key\n",
    "        \n",
    "    print(LY_value, U_value)"
   ]
  },
  {
   "cell_type": "code",
   "execution_count": null,
   "id": "1dcd99a9",
   "metadata": {},
   "outputs": [],
   "source": []
  }
 ],
 "metadata": {
  "kernelspec": {
   "display_name": "Python 3 (ipykernel)",
   "language": "python",
   "name": "python3"
  },
  "language_info": {
   "codemirror_mode": {
    "name": "ipython",
    "version": 3
   },
   "file_extension": ".py",
   "mimetype": "text/x-python",
   "name": "python",
   "nbconvert_exporter": "python",
   "pygments_lexer": "ipython3",
   "version": "3.8.10"
  }
 },
 "nbformat": 4,
 "nbformat_minor": 5
}
