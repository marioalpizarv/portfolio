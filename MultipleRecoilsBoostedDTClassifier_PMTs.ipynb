{
 "cells": [
  {
   "cell_type": "code",
   "execution_count": 91,
   "id": "e958e909",
   "metadata": {},
   "outputs": [],
   "source": [
    "import pandas as pd\n",
    "import numpy as np\n",
    "import matplotlib.pyplot as plt\n",
    "from sklearn.model_selection import train_test_split\n",
    "from sklearn.metrics import confusion_matrix\n",
    "from sklearn.metrics import plot_roc_curve\n",
    "from sklearn.metrics import roc_curve, auc\n",
    "import seaborn as sns\n",
    "import math\n",
    "\n",
    "#Import DecisionTree as a classifier\n",
    "from sklearn.ensemble import GradientBoostingClassifier\n",
    "from sklearn.model_selection import cross_val_score\n",
    "from sklearn.model_selection import cross_validate\n",
    "from sklearn.metrics import accuracy_score\n",
    "#https://scikit-learn.org/stable/modules/generated/sklearn.metrics.recall_score.html\n",
    "from sklearn.metrics import recall_score\n",
    "#https://scikit-learn.org/stable/modules/generated/sklearn.metrics.precision_score.html\n",
    "from sklearn.metrics import precision_score\n",
    "\n",
    "import ROOT\n",
    "\n",
    "from IPython.display import display, Math"
   ]
  },
  {
   "cell_type": "code",
   "execution_count": 2,
   "id": "8fa78141",
   "metadata": {
    "scrolled": true
   },
   "outputs": [
    {
     "name": "stdout",
     "output_type": "stream",
     "text": [
      "(11162, 25)\n",
      "(11162, 25)\n",
      "(9641, 25)\n"
     ]
    }
   ],
   "source": [
    "path = ''\n",
    "file = 'RecoilsData_PMT.csv'\n",
    "\n",
    "df = pd.read_csv(path + file)\n",
    "df.head()\n",
    "print(df.shape)\n",
    "#drop events with no recoils at all\n",
    "df = df[df['ar40recoils'] != 0]\n",
    "df.head()\n",
    "print(df.shape)\n",
    "#drop rows with the value -99999, these are outliers\n",
    "df = df.drop(index=df[df.eq(-99999).any(axis=1)].index)\n",
    "\n",
    "df.head()\n",
    "print(df.shape)"
   ]
  },
  {
   "cell_type": "code",
   "execution_count": 3,
   "id": "8e97e195",
   "metadata": {},
   "outputs": [
    {
     "name": "stdout",
     "output_type": "stream",
     "text": [
      "(9641, 24)\n"
     ]
    }
   ],
   "source": [
    "#drop the variable used to make the flags for multiple recoils\n",
    "df = df.drop(['ar40recoils'], axis=1) \n",
    "print(df.shape)"
   ]
  },
  {
   "cell_type": "code",
   "execution_count": 4,
   "id": "6eabf962",
   "metadata": {},
   "outputs": [
    {
     "name": "stdout",
     "output_type": "stream",
     "text": [
      "1    7754\n",
      "0    1887\n",
      "Name: multiplerecoils, dtype: int64\n",
      "1    7754\n",
      "0    1887\n",
      "Name: multiplerecoils, dtype: int64\n"
     ]
    }
   ],
   "source": [
    "# Count the occurrences of each value in multiplerecoils\n",
    "value_counts = df['multiplerecoils'].value_counts()\n",
    "print(value_counts)\n",
    "# Drop rows with multiplerecoils to make it more even between multiple and single\n",
    "#df = df.drop(df[df['multiplerecoils'] == 1].head(659).index) #50-50\n",
    "#df = df.drop(df[df['multiplerecoils'] == 1].head(300).index) #2-1\n",
    "# Count the occurrences of each value in multiplerecoils again\n",
    "value_counts = df['multiplerecoils'].value_counts()\n",
    "print(value_counts)"
   ]
  },
  {
   "cell_type": "code",
   "execution_count": 5,
   "id": "212a34ef",
   "metadata": {},
   "outputs": [],
   "source": [
    "# Get a random permutation of the DataFrame's index\n",
    "random_order = np.random.RandomState(seed=9).permutation(df.index)\n",
    "\n",
    "# Reorder the DataFrame randomly using the random permutation\n",
    "df = df.loc[random_order]"
   ]
  },
  {
   "cell_type": "code",
   "execution_count": 7,
   "id": "f98df068",
   "metadata": {},
   "outputs": [
    {
     "name": "stdout",
     "output_type": "stream",
     "text": [
      "(9641, 23)\n",
      "(9641,)\n"
     ]
    }
   ],
   "source": [
    "#dependent variable that will be predicted\n",
    "var = 'multiplerecoils'\n",
    "\n",
    "X = df.drop([var], axis=1)\n",
    "\n",
    "# Select the dependent variable\n",
    "y = df[var] \n",
    "\n",
    "print(X.shape)\n",
    "print(y.shape)"
   ]
  },
  {
   "cell_type": "code",
   "execution_count": 8,
   "id": "088e2350",
   "metadata": {},
   "outputs": [
    {
     "name": "stdout",
     "output_type": "stream",
     "text": [
      "Created Boosted Decision Tree Classifier\n"
     ]
    }
   ],
   "source": [
    "# Create the GradientBoostingClassifier (Boosted Decision Tree)\n",
    "boosted_tree = GradientBoostingClassifier(n_estimators=100, learning_rate=0.1, random_state=42)\n",
    "\n",
    "print(\"Created Boosted Decision Tree Classifier\")"
   ]
  },
  {
   "cell_type": "code",
   "execution_count": 9,
   "id": "30235ec7",
   "metadata": {},
   "outputs": [
    {
     "name": "stdout",
     "output_type": "stream",
     "text": [
      "Cross-Validation Scores:\n",
      "Fold 1: 0.83\n",
      "Fold 2: 0.82\n",
      "Fold 3: 0.82\n",
      "Fold 4: 0.84\n",
      "Fold 5: 0.83\n",
      "Fold 6: 0.82\n",
      "Fold 7: 0.84\n",
      "Fold 8: 0.83\n",
      "Fold 9: 0.82\n",
      "Fold 10: 0.83\n",
      "\n",
      "Average Score: 0.83\n"
     ]
    }
   ],
   "source": [
    "# Perform cross-validation with 10 folds\n",
    "# 'cv' parameter specifies the number of folds\n",
    "# 'scoring' parameter specifies the evaluation metric (e.g., 'accuracy')\n",
    "\n",
    "#aprox runtime: 1 minute\n",
    "\n",
    "cross_val_scores = cross_val_score(boosted_tree, X, y, cv=10, scoring='accuracy')\n",
    "\n",
    "# Print the cross-validation scores for each fold\n",
    "print(\"Cross-Validation Scores:\")\n",
    "for fold, score in enumerate(cross_val_scores, start=1):\n",
    "    print(f\"Fold {fold}: {score:.2f}\")\n",
    "\n",
    "# Calculate and print the average cross-validation score\n",
    "average_score = cross_val_scores.mean()\n",
    "print(f\"\\nAverage Score: {average_score:.2f}\")"
   ]
  },
  {
   "cell_type": "code",
   "execution_count": 10,
   "id": "3ae9a745",
   "metadata": {},
   "outputs": [
    {
     "data": {
      "text/plain": [
       "'\\nscores = cross_validate(boosted_tree, X, y, cv=10, scoring=\\'accuracy\\',return_train_score=True)\\n\\n# Print the cross-validation scores for each fold\\nprint(\"Cross-Validate Test Scores:\")\\nfor fold, score in enumerate(scores[\\'test_score\\'], start=1):\\n    print(f\"Fold {fold}: {score:.2f}\")\\n\\n# Calculate and print the average cross-validation score\\naverage_scoreval = scores[\\'test_score\\'].mean()\\nprint(f\"\\nAverage Test Score: {average_scoreval:.2f}\")\\n\\n# Print the cross-validation train scores for each fold\\nprint(\"\\nCross-Validate Train Scores:\")\\nfor fold, score in enumerate(scores[\\'train_score\\'], start=1):\\n    print(f\"Fold {fold}: {score:.2f}\")\\n\\n# Calculate and print the average cross-validation score\\naverage_scoreval = scores[\\'train_score\\'].mean()\\nprint(f\"\\nAverage Train Score: {average_scoreval:.2f}\")\\n\\n# Print the cross-validation fit times for each fold\\nprint(\"\\nFit Times (s):\")\\nfor fold, fit_time in enumerate(scores[\\'fit_time\\'], start=1):\\n    print(f\"Fold {fold}: {fit_time:.2f}\")\\n\\n# Calculate and print the average fit time\\naverage_fittime = scores[\\'fit_time\\'].mean()\\nprint(f\"\\nAverage fit time: {average_fittime:.2f}\")\\n\\n# Print the cross-validation score times for each fold\\nprint(\"\\nScore Times (s):\")\\nfor fold, score_time in enumerate(scores[\\'score_time\\'], start=1):\\n    print(f\"Fold {fold}: {score_time:.2f}\")\\n\\n# Calculate and print the average score time\\naverage_scoretime = scores[\\'score_time\\'].mean()\\nprint(f\"\\nAverage score time: {average_scoretime:.2f}\")\\n'"
      ]
     },
     "execution_count": 10,
     "metadata": {},
     "output_type": "execute_result"
    }
   ],
   "source": [
    "#optional\n",
    "#additional cross validation scores\n",
    "'''\n",
    "scores = cross_validate(boosted_tree, X, y, cv=10, scoring='accuracy',return_train_score=True)\n",
    "\n",
    "# Print the cross-validation scores for each fold\n",
    "print(\"Cross-Validate Test Scores:\")\n",
    "for fold, score in enumerate(scores['test_score'], start=1):\n",
    "    print(f\"Fold {fold}: {score:.2f}\")\n",
    "\n",
    "# Calculate and print the average cross-validation score\n",
    "average_scoreval = scores['test_score'].mean()\n",
    "print(f\"\\nAverage Test Score: {average_scoreval:.2f}\")\n",
    "\n",
    "# Print the cross-validation train scores for each fold\n",
    "print(\"\\nCross-Validate Train Scores:\")\n",
    "for fold, score in enumerate(scores['train_score'], start=1):\n",
    "    print(f\"Fold {fold}: {score:.2f}\")\n",
    "\n",
    "# Calculate and print the average cross-validation score\n",
    "average_scoreval = scores['train_score'].mean()\n",
    "print(f\"\\nAverage Train Score: {average_scoreval:.2f}\")\n",
    "\n",
    "# Print the cross-validation fit times for each fold\n",
    "print(\"\\nFit Times (s):\")\n",
    "for fold, fit_time in enumerate(scores['fit_time'], start=1):\n",
    "    print(f\"Fold {fold}: {fit_time:.2f}\")\n",
    "\n",
    "# Calculate and print the average fit time\n",
    "average_fittime = scores['fit_time'].mean()\n",
    "print(f\"\\nAverage fit time: {average_fittime:.2f}\")\n",
    "\n",
    "# Print the cross-validation score times for each fold\n",
    "print(\"\\nScore Times (s):\")\n",
    "for fold, score_time in enumerate(scores['score_time'], start=1):\n",
    "    print(f\"Fold {fold}: {score_time:.2f}\")\n",
    "\n",
    "# Calculate and print the average score time\n",
    "average_scoretime = scores['score_time'].mean()\n",
    "print(f\"\\nAverage score time: {average_scoretime:.2f}\")\n",
    "'''"
   ]
  },
  {
   "cell_type": "code",
   "execution_count": 10,
   "id": "501ab2f5",
   "metadata": {},
   "outputs": [
    {
     "name": "stdout",
     "output_type": "stream",
     "text": [
      "(7712, 23)\n",
      "(7712,)\n",
      "(1929, 23)\n",
      "(1929,)\n"
     ]
    }
   ],
   "source": [
    "# Splitting the dataset to Train and test\n",
    "X_train, X_test, y_train, y_test = train_test_split(X, y, test_size=0.2, random_state=0)\n",
    "\n",
    "print(X_train.shape)\n",
    "print(y_train.shape)\n",
    "print(X_test.shape)\n",
    "print(y_test.shape)"
   ]
  },
  {
   "cell_type": "code",
   "execution_count": 11,
   "id": "66b9a01e",
   "metadata": {},
   "outputs": [
    {
     "name": "stdout",
     "output_type": "stream",
     "text": [
      "Training set score: 0.866961\n",
      "Test set score: 0.821669\n"
     ]
    }
   ],
   "source": [
    "#Train DT\n",
    "boosted_tree.fit(X_train, y_train)\n",
    "print(\"Training set score: %f\" % boosted_tree.score(X_train, y_train))\n",
    "print(\"Test set score: %f\" % boosted_tree.score(X_test, y_test))"
   ]
  },
  {
   "cell_type": "code",
   "execution_count": 31,
   "id": "2a62c4b9",
   "metadata": {},
   "outputs": [
    {
     "name": "stdout",
     "output_type": "stream",
     "text": [
      "Number of predictions of 1s: 1742\n",
      "Lower limit on predictions of 1s: 1679\n",
      "Upper limit on predictions of 1s: 1809\n",
      "Number of predictions of 0s: 187\n",
      "Lower limit on predictions of 0s: 120\n",
      "Upper limit on predictions of 0s: 250\n",
      "Total predictions: 1929\n",
      "Total predictions (lower): 1929\n",
      "Total predictions (upper): 1929\n",
      "Are both predictions equal? True\n"
     ]
    }
   ],
   "source": [
    "#lower: the minimum amount of 1s, upper: the maximum amount of 1s. \n",
    "#for lower: subtract uncertainty from column of 1s and add to columns of 0s,\n",
    "#for upper: subtract uncertainty from column of 0s and add to column of 1s\n",
    "#then do argmax for each to obtain upper and lower predictions\n",
    "\n",
    "staged_probs = boosted_tree.staged_predict_proba(X_test)\n",
    "\n",
    "# Calculate the uncertainty as the standard deviation of the staged probabilities\n",
    "uncertainty = np.std(list(staged_probs), axis=0)\n",
    "\n",
    "pred_prob = boosted_tree.predict_proba(X_test)\n",
    "\n",
    "pred_prob_lower = np.empty_like(pred_prob)\n",
    "pred_prob_upper = np.empty_like(pred_prob)\n",
    "\n",
    "# lower limit on predictions of 1s\n",
    "for i in range(pred_prob.shape[0]):\n",
    "    # Add uncertainty to the column of 0s \n",
    "    pred_prob_lower[i, 0] = pred_prob[i, 0] + uncertainty[i][1]\n",
    "    \n",
    "    # Subtract uncertainty from the column of 1s \n",
    "    pred_prob_lower[i, 1] = pred_prob[i, 1] - uncertainty[i][1]\n",
    "\n",
    "#upper limit on prediction of 1s    \n",
    "for i in range(pred_prob.shape[0]):\n",
    "    # Subtract uncertainty from the column of 0s \n",
    "    pred_prob_upper[i, 0] = pred_prob[i, 0] - uncertainty[i][1]\n",
    "    \n",
    "    # Add uncertainty to the column of 1s \n",
    "    pred_prob_upper[i, 1] = pred_prob[i, 1] + uncertainty[i][1]    \n",
    "\n",
    "# Get the final predictions by considering the class with the highest probability\n",
    "y_pred = np.argmax(pred_prob, axis=1)\n",
    "y_pred_lower = np.argmax(pred_prob_lower, axis=1)\n",
    "y_pred_upper = np.argmax(pred_prob_upper, axis=1)\n",
    "    \n",
    "count = np.count_nonzero(y_pred == 1)\n",
    "count_lower = np.count_nonzero(y_pred_lower == 1)\n",
    "count_upper = np.count_nonzero(y_pred_upper == 1)\n",
    "\n",
    "countz = np.count_nonzero(y_pred == 0)\n",
    "count_lowerz = np.count_nonzero(y_pred_lower == 0)\n",
    "count_upperz = np.count_nonzero(y_pred_upper == 0)\n",
    "\n",
    "print(\"Number of predictions of 1s:\", count, )\n",
    "print(\"Lower limit on predictions of 1s:\", count_lower)\n",
    "print(\"Upper limit on predictions of 1s:\", count_upper)\n",
    "\n",
    "#inverted order for prediction of 0s\n",
    "print(\"Number of predictions of 0s:\", countz)\n",
    "print(\"Lower limit on predictions of 0s:\", count_upperz)\n",
    "print(\"Upper limit on predictions of 0s:\", count_lowerz)\n",
    "    \n",
    "print(\"Total predictions:\", count + countz)\n",
    "print(\"Total predictions (lower):\", count_lower + count_lowerz)\n",
    "print(\"Total predictions (upper):\", count_upper + count_upperz) \n",
    "\n",
    "# Make predictions on the test set\n",
    "y_pred_conf = boosted_tree.predict(X_test)\n",
    "\n",
    "#confirmation that both methods of prediction give the same result\n",
    "are_equal = np.array_equal(y_pred, y_pred_conf)\n",
    "print('Are both predictions equal?',are_equal)"
   ]
  },
  {
   "cell_type": "code",
   "execution_count": 13,
   "id": "a0c804f6",
   "metadata": {},
   "outputs": [
    {
     "name": "stdout",
     "output_type": "stream",
     "text": [
      "Accuracy: 0.82167\n"
     ]
    }
   ],
   "source": [
    "# Calculate the accuracy of the model\n",
    "accuracy = accuracy_score(y_test, y_pred)\n",
    "print(f\"Accuracy: {accuracy:.5f}\")"
   ]
  },
  {
   "cell_type": "code",
   "execution_count": 14,
   "id": "0148aace",
   "metadata": {},
   "outputs": [
    {
     "data": {
      "image/png": "[encoded data removed]",
      "text/plain": [
       "<Figure size 360x288 with 2 Axes>"
      ]
     },
     "metadata": {
      "needs_background": "light"
     },
     "output_type": "display_data"
    }
   ],
   "source": [
    "# Creating  a confusion matrix,which compares the y_test and y_pred\n",
    "cm = confusion_matrix(y_test, y_pred)\n",
    "\n",
    "# Define the class labels\n",
    "# Create a mapping dictionary to replace 0 with 'single' and 1 with 'multiple'\n",
    "#label_mapping = {0: 'single recoils', 1: 'multiple recoils'}\n",
    "\n",
    "# Replace the labels using the mapping dictionary\n",
    "#df[var] = df[var].replace(label_mapping)\n",
    "\n",
    "#class_labels = df[var].unique()\n",
    "#class_labels = ['single recoils', 'multiple recoils'] #negative, positive\n",
    "\n",
    "# Plot the confusion matrix\n",
    "plt.figure(figsize=(5, 4))\n",
    "sns.heatmap(cm, annot=True, cmap='Greens', fmt='d')\n",
    "\n",
    "# Add a legend\n",
    "tick_marks = np.arange(len(df[var].unique())) + 0.5\n",
    "plt.xticks(tick_marks, ['Single Recoils', 'Multiple Recoils'])\n",
    "plt.yticks(tick_marks, ['Single Recoils', 'Multiple Recoils'])\n",
    "plt.xlabel('Predicted')\n",
    "plt.ylabel('True')\n",
    "plt.title('Confusion Matrix for BDT Classifier')\n",
    "\n",
    "# Display the plot\n",
    "plt.show()"
   ]
  },
  {
   "cell_type": "code",
   "execution_count": 15,
   "id": "ffc4d2cf",
   "metadata": {},
   "outputs": [
    {
     "name": "stdout",
     "output_type": "stream",
     "text": [
      "The recall is:  0.9580602883355177\n",
      "The precision is:  0.8392652123995408\n",
      "The F1-score is:  0.8947368421052632\n",
      "\n",
      "The weighted recall is:  0.8216692586832556\n",
      "The weighted precision is:  0.8013445207008084\n",
      "The weighted F1-score is:  0.8113796279955194\n"
     ]
    }
   ],
   "source": [
    "#calculate recall, precision and F1 score\n",
    "\n",
    "rec = recall_score(y_test, y_pred)#, average='binary')\n",
    "#The recall is intuitively the ability of the classifier to find all the positive samples.\n",
    "pres = precision_score(y_test, y_pred)#, average='binary')\n",
    "#The precision is intuitively the ability of the classifier not to label as positive a sample that is negative.\n",
    "F1_score = 2/((1/rec) + (1/pres))\n",
    "#F1 is the harmmonic mean between recall and precision\n",
    "\n",
    "#weighted metrics\n",
    "wrec = recall_score(y_test, y_pred, average='weighted')\n",
    "wpres = precision_score(y_test, y_pred, average='weighted')\n",
    "wF1_score = 2/((1/wrec) + (1/wpres))\n",
    "\n",
    "print(\"The recall is: \", rec)\n",
    "print(\"The precision is: \", pres)\n",
    "print(\"The F1-score is: \", F1_score)\n",
    "\n",
    "print(\"\\nThe weighted recall is: \", wrec)\n",
    "print(\"The weighted precision is: \", wpres)\n",
    "print(\"The weighted F1-score is: \", wF1_score)"
   ]
  },
  {
   "cell_type": "code",
   "execution_count": 16,
   "id": "2c4ed3ce",
   "metadata": {},
   "outputs": [
    {
     "name": "stdout",
     "output_type": "stream",
     "text": [
      "True Negative: 123\n",
      "False Positive: 280\n",
      "False Negative: 64\n",
      "True Positive: 1462\n",
      "\n",
      "Error rate: 0.17833074131674442\n",
      "Accuracy: 0.8216692586832556\n",
      "Recall: 0.9580602883355177\n",
      "Specificity: 0.3052109181141439\n",
      "Precision: 0.8392652123995408\n",
      "False positive rate: 0.6947890818858561\n",
      "Mathews correlation coefficient: 0.35493670102753166\n",
      "F1 score: 0.8947368421052632\n"
     ]
    }
   ],
   "source": [
    "#metrics by hand\n",
    "\n",
    "tn, fp, fn, tp = cm.ravel()\n",
    "\n",
    "err = (fp + fn)/(fp + fn + tn + tp)\n",
    "acc = (tp + tn)/(fp + fn + tn + tp)\n",
    "re = tp/(tp + fn)\n",
    "sp = tn/(tn + fp)\n",
    "prec = tp/(tp + fp)\n",
    "fpr = fp/(tn + fp)\n",
    "mcc = ((tp*tn) - (fp*fn))/math.sqrt((tp + fp)*(tp + tn)*(tn + fp)*(tn + fn))\n",
    "F1 = 2/((1/re) + (1/prec))\n",
    "\n",
    "print(\"True Negative:\", tn)\n",
    "print(\"False Positive:\", fp)\n",
    "print(\"False Negative:\", fn)\n",
    "print(\"True Positive:\", tp)\n",
    "print(\"\\nError rate:\", err)\n",
    "print(\"Accuracy:\", acc)\n",
    "print(\"Recall:\", re) #sensitivity, true positive rate\n",
    "print(\"Specificity:\", sp) #true negative rate\n",
    "print(\"Precision:\", prec) #positive predictive value\n",
    "print(\"False positive rate:\", fpr)\n",
    "print(\"Mathews correlation coefficient:\", mcc)\n",
    "print(\"F1 score:\", F1)"
   ]
  },
  {
   "cell_type": "code",
   "execution_count": 17,
   "id": "c54e7acb",
   "metadata": {},
   "outputs": [
    {
     "name": "stdout",
     "output_type": "stream",
     "text": [
      "                   Feature  Importance\n",
      "14          rprompt60Bayes    0.231308\n",
      "1                  fprompt    0.192288\n",
      "18           mblikelihoodR    0.150281\n",
      "0                      qPE    0.122660\n",
      "13                nSCBayes    0.100650\n",
      "3                eventTime    0.039419\n",
      "17           mblikelihoodZ    0.034433\n",
      "5                   fmaxpe    0.031750\n",
      "7            chargetopring    0.016385\n",
      "19               timefit2X    0.015442\n",
      "9         chargebottomring    0.012244\n",
      "15           mblikelihoodX    0.012041\n",
      "10  chargesecondbottomring    0.010645\n",
      "16           mblikelihoodY    0.009417\n",
      "20               timefit2Y    0.005550\n",
      "22                  deltat    0.004898\n",
      "8         chargesecondring    0.004621\n",
      "21               timefit2Z    0.002189\n",
      "11   chargethirdbottomring    0.001632\n",
      "12      pulseindexfirstgar    0.001589\n",
      "4           numEarlyPulses    0.000561\n",
      "6                neckVetoN    0.000000\n",
      "2                subeventN    0.000000\n",
      "\n",
      "Total Importance: 0.9999999999999998\n"
     ]
    }
   ],
   "source": [
    "# Get the feature importances\n",
    "importance = boosted_tree.feature_importances_\n",
    "\n",
    "# Create a DataFrame to display the feature importances\n",
    "feature_importances_df = pd.DataFrame({'Feature': X.columns, 'Importance': importance})\n",
    "\n",
    "# Sort the DataFrame by importance in descending order\n",
    "feature_importances_df = feature_importances_df.sort_values(by='Importance', ascending=False)\n",
    "\n",
    "print(feature_importances_df)\n",
    "\n",
    "# Sum all the importance values\n",
    "total_importance = feature_importances_df.sum()\n",
    "print(\"\")\n",
    "print(f\"Total Importance: {total_importance['Importance']}\")"
   ]
  },
  {
   "cell_type": "code",
   "execution_count": 18,
   "id": "77f053a1",
   "metadata": {},
   "outputs": [
    {
     "data": {
      "image/png": "[encoded data removed]",
      "text/plain": [
       "<Figure size 576x432 with 1 Axes>"
      ]
     },
     "metadata": {
      "needs_background": "light"
     },
     "output_type": "display_data"
    }
   ],
   "source": [
    "# Get predicted probabilities for the positive class (1) on the test set\n",
    "y_prob = boosted_tree.predict_proba(X_test)[:, 1]\n",
    "\n",
    "# Compute the ROC curve\n",
    "fpr, tpr, thresholds = roc_curve(y_test, y_prob)\n",
    "roc_auc = auc(fpr, tpr)\n",
    "\n",
    "# Plot the ROC curve\n",
    "plt.figure(figsize=(8, 6))\n",
    "plt.plot(fpr, tpr, color='g', lw=2, label='ROC curve (area under the curve (AUC) = {:.2f})'.format(roc_auc))\n",
    "plt.plot([0, 1], [0, 1], color='gray', lw=1, linestyle='--')\n",
    "plt.xlim([0.0, 1.0])\n",
    "plt.ylim([0.0, 1.05])\n",
    "plt.xlabel('False Positive Rate (Positive label: multiple)')\n",
    "plt.ylabel('True Positive Rate (Positive label: multiple)')\n",
    "plt.title('Receiver Operating Characteristic (ROC) Curve for BDT Classifier')\n",
    "plt.legend(loc='lower right')\n",
    "plt.grid(True)\n",
    "plt.show()"
   ]
  },
  {
   "cell_type": "code",
   "execution_count": 23,
   "id": "169e9512",
   "metadata": {},
   "outputs": [
    {
     "name": "stdout",
     "output_type": "stream",
     "text": [
      "         qPE   fprompt  subeventN  eventTime  numEarlyPulses    fmaxpe  \\\n",
      "0    857.926  0.701599          1    2486.17               0  0.021070   \n",
      "1  29656.200  0.284198          1    2532.25               1  0.007631   \n",
      "2  23884.400  0.282665          1    2527.30               0  0.030040   \n",
      "3    586.764  0.675661          1    2500.16               0  0.026908   \n",
      "4  10354.300  0.279345          1    2496.65               0  0.039106   \n",
      "\n",
      "   neckVetoN  chargetopring  chargesecondring  chargebottomring  ...  \\\n",
      "0          0       19.53650          12.80940          12.98360  ...   \n",
      "1          0      348.41300         410.62800         641.72100  ...   \n",
      "2          0      278.72100         262.02100        1335.58000  ...   \n",
      "3          0        9.63026           3.99236           7.79631  ...   \n",
      "4          0      136.93600         117.88200         130.47500  ...   \n",
      "\n",
      "    nSCBayes  rprompt60Bayes  mblikelihoodX  mblikelihoodY  mblikelihoodZ  \\\n",
      "0    770.265        0.734012       461.2270      -188.1540        281.358   \n",
      "1  25893.600        0.264196       -96.7848       109.2000       -217.398   \n",
      "2  20848.000        0.262939       213.9840        40.8040       -615.168   \n",
      "3    558.633        0.673411       -58.4848       414.0890       -357.084   \n",
      "4   9021.540        0.261556       651.4680       -97.5897        314.149   \n",
      "\n",
      "   mblikelihoodR  timefit2X  timefit2Y  timefit2Z        deltat  \n",
      "0        572.097   501.3110  -189.9490    321.577  3.337980e+09  \n",
      "1        261.828  -147.0690   109.3880   -254.188  6.992430e+09  \n",
      "2        652.599   114.4390   791.6410    213.984  8.116450e+09  \n",
      "3        549.908   -61.8091   548.7940   -483.644  3.152000e+09  \n",
      "4        729.811   696.6180   -76.9007    363.576  1.188160e+10  \n",
      "\n",
      "[5 rows x 23 columns]\n"
     ]
    }
   ],
   "source": [
    "#pip install root-numpy #issue with root version ImportError: dynamic module does not define module export function (PyInit_libPyROOT)\n",
    "#save predicted multiple recoils to a .root file\n",
    "\n",
    "# Convert y_pred to a DataFrame with a column name\n",
    "y2_pred = pd.DataFrame(data = y_pred, index=X_test.index, columns = [var])\n",
    "\n",
    "prediction = pd.concat([X_test, y2_pred], axis=1)\n",
    "\n",
    "#keep only multiple recoils and drop that column\n",
    "prediction = prediction[prediction[var] == 1]\n",
    "prediction = prediction.drop([var], axis=1)\n",
    "\n",
    "#reset the indexes of prediction\n",
    "prediction.reset_index(drop=True, inplace=True)\n",
    "\n",
    "print(prediction.head())\n",
    "#save to csv\n",
    "#prediction.to_csv('prediction.csv', index=False)"
   ]
  },
  {
   "cell_type": "code",
   "execution_count": 24,
   "id": "8b060443",
   "metadata": {},
   "outputs": [
    {
     "name": "stdout",
     "output_type": "stream",
     "text": [
      "There are 389 events in strip1.\n",
      "There are 301 events in strip2.\n",
      "There are 101 events in strip3.\n",
      "There are 55 events in the R.o.I.\n",
      "There are 64 events in the PLR R.o.I.\n"
     ]
    },
    {
     "name": "stderr",
     "output_type": "stream",
     "text": [
      "Warning in <TFile::Init>: file new_blinding_boxes.root probably not closed, trying to recover\n",
      "Info in <TFile::Recover>: new_blinding_boxes.root, recovered key TGraph:roi_gr at address 242\n",
      "Info in <TFile::Recover>: new_blinding_boxes.root, recovered key TGraph:strip2_gr at address 3281\n",
      "Info in <TFile::Recover>: new_blinding_boxes.root, recovered key TGraph:strip1_gr at address 4352\n",
      "Warning in <TFile::Init>: successfully recovered 3 keys\n",
      "Warning in <TFile::Init>: no StreamerInfo found in new_blinding_boxes.root therefore preventing schema evolution when reading this file. The file was produced with version 5.34/36 of ROOT.\n"
     ]
    }
   ],
   "source": [
    "# Path to the .root file\n",
    "root_file_path = 'roi_802_days_11March2020_nsc_rp60_all_tops.root'\n",
    "root_file_path2 = 'new_blinding_boxes.root'\n",
    "root_file_path3 = 'save_roi_PLR.root'\n",
    "\n",
    "# Name of the TCutG you want to use\n",
    "strip1_name = 'strip1_gr'\n",
    "strip2_name = 'strip2_gr'\n",
    "strip3_name = 'roi_gr'\n",
    "roi_name = 'roi_top30_cut'\n",
    "roi_plr_name = 'roi_plr_gr'\n",
    "\n",
    "root_file = ROOT.TFile.Open(root_file_path)\n",
    "root_file2 = ROOT.TFile.Open(root_file_path2)\n",
    "root_file3 = ROOT.TFile.Open(root_file_path3)\n",
    "\n",
    "roi = root_file.Get(roi_name)\n",
    "strip1 = root_file2.Get(strip1_name)\n",
    "strip2 = root_file2.Get(strip2_name)\n",
    "strip3 = root_file2.Get(strip3_name)\n",
    "roi_plr = root_file3.Get(roi_plr_name)\n",
    "\n",
    "# Step 2: Define a function to evaluate the TCutG for each event in the DataFrame\n",
    "def apply_tcutg(df, cutg, cut_name):\n",
    "    # Create a new column to store the result of the TCutG evaluation\n",
    "    column_name = 'passes_cut' + cut_name\n",
    "    df[column_name] = False\n",
    "\n",
    "    # Evaluate the TCutG for each event in the DataFrame\n",
    "    for i in range(df.shape[0]):\n",
    "        if cutg.IsInside(df['qPE'][i], df['fprompt'][i]):\n",
    "            df.loc[i, column_name] = True\n",
    "\n",
    "apply_tcutg(prediction, strip1, '_strip1')\n",
    "apply_tcutg(prediction, strip2, '_strip2')\n",
    "apply_tcutg(prediction, strip3, '_strip3')\n",
    "apply_tcutg(prediction, roi, '_roi')\n",
    "apply_tcutg(prediction, roi_plr, '_roi_plr')\n",
    "\n",
    "passed_s1 = prediction['passes_cut_strip1'].value_counts()[1]\n",
    "passed_s2 = prediction['passes_cut_strip2'].value_counts()[1]\n",
    "passed_s3 = prediction['passes_cut_strip3'].value_counts()[1]\n",
    "passed_roi = prediction['passes_cut_roi'].value_counts()[1]\n",
    "passed_roi_plr = prediction['passes_cut_roi_plr'].value_counts()[1]\n",
    "\n",
    "print('There are', passed_s1, 'events in strip1.')\n",
    "print('There are', passed_s2, 'events in strip2.')\n",
    "print('There are', passed_s3, 'events in strip3.')\n",
    "print('There are', passed_roi, 'events in the R.o.I.')\n",
    "print('There are', passed_roi_plr, 'events in the PLR R.o.I.')\n",
    "# Step 3: Print the DataFrame after applying the cut\n",
    "#print(prediction)\n",
    "\n",
    "# Close the ROOT file\n",
    "root_file.Close()\n",
    "root_file2.Close()\n",
    "root_file3.Close()"
   ]
  },
  {
   "cell_type": "code",
   "execution_count": 73,
   "id": "764ce43b",
   "metadata": {},
   "outputs": [
    {
     "name": "stdout",
     "output_type": "stream",
     "text": [
      "Shape of answer df: (934, 23)\n",
      "Shape of test df: (1209, 23)\n"
     ]
    }
   ],
   "source": [
    "#Test the BDT with a different dataset\n",
    "\n",
    "#Prepare data from new dataset, one df will contain the actual number of multiple recoils\n",
    "#the test df will not, so that it resembles actual data\n",
    "\n",
    "path2 = ''\n",
    "file2 = 'RecoilsData.csv'\n",
    "\n",
    "#this df will have the actual number of events\n",
    "df_ans = pd.read_csv(path2 + file2)\n",
    "\n",
    "#drop events with no recoils at all\n",
    "df_ans = df_ans[df_ans['ar40recoils'] != 0]\n",
    "\n",
    "#drop rows with the value -99999, these are outliers, also float versions must be removed\n",
    "df_ans = df_ans.drop(index=df_ans[df_ans.eq(-99999).any(axis=1)].index)\n",
    "\n",
    "#drop the variable with the number of recoils but leave the flag for multiple recoils\n",
    "df_ans = df_ans.drop(['ar40recoils'], axis=1)\n",
    "\n",
    "#create test df without the multiple recoils flag\n",
    "df_test = df_ans.drop(['multiplerecoils'], axis=1)\n",
    "\n",
    "#remove single recoil from ans df\n",
    "df_ans = df_ans[df_ans[var] == 1]\n",
    "df_ans = df_ans.drop([var], axis=1)\n",
    "\n",
    "print('Shape of answer df:',df_ans.shape)\n",
    "print('Shape of test df:',df_test.shape)"
   ]
  },
  {
   "cell_type": "code",
   "execution_count": 57,
   "id": "acc27315",
   "metadata": {},
   "outputs": [
    {
     "name": "stdout",
     "output_type": "stream",
     "text": [
      "Number of predictions of 1s: 1060\n",
      "Lower limit on predictions of 1s: 1021\n",
      "Upper limit on predictions of 1s: 1110\n",
      "Number of predictions of 0s: 149\n",
      "Lower limit on predictions of 0s: 99\n",
      "Upper limit on predictions of 0s: 188\n",
      "Total predictions: 1209\n",
      "Total predictions (lower): 1209\n",
      "Total predictions (upper): 1209\n",
      "Are both predictions equal? True\n",
      "(1209,)\n"
     ]
    }
   ],
   "source": [
    "#make a prediction from the test data _exam\n",
    "\n",
    "#lower: the minimum amount of 1s, upper: the maximum amount of 1s. \n",
    "#for lower: subtract uncertainty from column of 1s and add to columns of 0s,\n",
    "#for upper: subtract uncertainty from column of 0s and add to column of 1s\n",
    "#then do argmax for each to obtain upper and lower predictions\n",
    "\n",
    "staged_probs_exam = boosted_tree.staged_predict_proba(df_test)\n",
    "\n",
    "# Calculate the uncertainty as the standard deviation of the staged probabilities\n",
    "uncertainty_exam = np.std(list(staged_probs_exam), axis=0)\n",
    "\n",
    "pred_prob_exam = boosted_tree.predict_proba(df_test)\n",
    "\n",
    "pred_prob_exam_lower = np.empty_like(pred_prob_exam)\n",
    "pred_prob_exam_upper = np.empty_like(pred_prob_exam)\n",
    "\n",
    "# lower limit on predictions of 1s\n",
    "for i in range(pred_prob_exam.shape[0]):\n",
    "    # Add uncertainty to the column of 0s \n",
    "    pred_prob_exam_lower[i, 0] = pred_prob_exam[i, 0] + uncertainty_exam[i][1]\n",
    "    \n",
    "    # Subtract uncertainty from the column of 1s \n",
    "    pred_prob_exam_lower[i, 1] = pred_prob_exam[i, 1] - uncertainty_exam[i][1]\n",
    "\n",
    "#upper limit on prediction of 1s    \n",
    "for i in range(pred_prob_exam.shape[0]):\n",
    "    # Subtract uncertainty from the column of 0s \n",
    "    pred_prob_exam_upper[i, 0] = pred_prob_exam[i, 0] - uncertainty_exam[i][1]\n",
    "    \n",
    "    # Add uncertainty to the column of 1s \n",
    "    pred_prob_exam_upper[i, 1] = pred_prob_exam[i, 1] + uncertainty_exam[i][1]    \n",
    "\n",
    "# Get the final predictions by considering the class with the highest probability\n",
    "y_pred_exam = np.argmax(pred_prob_exam, axis=1)\n",
    "y_pred_exam_lower = np.argmax(pred_prob_exam_lower, axis=1)\n",
    "y_pred_exam_upper = np.argmax(pred_prob_exam_upper, axis=1)\n",
    "    \n",
    "count_exam = np.count_nonzero(y_pred_exam == 1)\n",
    "count_exam_lower = np.count_nonzero(y_pred_exam_lower == 1)\n",
    "count_exam_upper = np.count_nonzero(y_pred_exam_upper == 1)\n",
    "\n",
    "countz_exam = np.count_nonzero(y_pred_exam == 0)\n",
    "count_exam_lowerz = np.count_nonzero(y_pred_exam_lower == 0)\n",
    "count_exam_upperz = np.count_nonzero(y_pred_exam_upper == 0)\n",
    "\n",
    "print(\"Number of predictions of 1s:\", count_exam)\n",
    "print(\"Lower limit on predictions of 1s:\", count_exam_lower)\n",
    "print(\"Upper limit on predictions of 1s:\", count_exam_upper)\n",
    "\n",
    "#inverted order for prediction of 0s\n",
    "print(\"Number of predictions of 0s:\", countz_exam)\n",
    "print(\"Lower limit on predictions of 0s:\", count_exam_upperz)\n",
    "print(\"Upper limit on predictions of 0s:\", count_exam_lowerz)\n",
    "    \n",
    "print(\"Total predictions:\", count_exam + countz_exam)\n",
    "print(\"Total predictions (lower):\", count_exam_lower + count_exam_lowerz)\n",
    "print(\"Total predictions (upper):\", count_exam_upper + count_exam_upperz) \n",
    "\n",
    "# Make predictions on the test set\n",
    "y_pred_conf_exam = boosted_tree.predict(df_test)\n",
    "\n",
    "#confirmation that both methods of prediction give the same result\n",
    "are_equal_exam = np.array_equal(y_pred_exam, y_pred_conf_exam)\n",
    "print('Are both predictions equal?',are_equal_exam)\n",
    "\n",
    "print(y_pred_exam.shape)"
   ]
  },
  {
   "cell_type": "code",
   "execution_count": 83,
   "id": "0c83f901",
   "metadata": {},
   "outputs": [
    {
     "name": "stdout",
     "output_type": "stream",
     "text": [
      "(1060, 23)\n",
      "(934, 24)\n"
     ]
    }
   ],
   "source": [
    "#merge predictions with the rest of data\n",
    "\n",
    "# Convert y_pred_exam to a DataFrame with a column name, the same for lower and upper\n",
    "y_pred_exam = pd.DataFrame(data = y_pred_exam, index=df_test.index, columns = [var])\n",
    "y_pred_exam_lower = pd.DataFrame(data = y_pred_exam_lower, index=df_test.index, columns = [var])\n",
    "y_pred_exam_upper = pd.DataFrame(data = y_pred_exam_upper, index=df_test.index, columns = [var])\n",
    "\n",
    "prediction_exam = pd.concat([df_test, y_pred_exam], axis=1)\n",
    "prediction_exam_lower = pd.concat([df_test, y_pred_exam_lower], axis=1)\n",
    "prediction_exam_upper = pd.concat([df_test, y_pred_exam_upper], axis=1)\n",
    "\n",
    "#keep only multiple recoils and drop that column, flag var = 1\n",
    "#is it of interest to predict single recoils at the regions?\n",
    "prediction_exam = prediction_exam[prediction_exam[var] == 1]\n",
    "prediction_exam = prediction_exam.drop([var], axis=1)\n",
    "prediction_exam_lower = prediction_exam_lower[prediction_exam_lower[var] == 1]\n",
    "prediction_exam_lower = prediction_exam_lower.drop([var], axis=1)\n",
    "prediction_exam_upper = prediction_exam_upper[prediction_exam_upper[var] == 1]\n",
    "prediction_exam_upper = prediction_exam_upper.drop([var], axis=1)\n",
    "\n",
    "#reset the indexes of predictions\n",
    "prediction_exam.reset_index(drop=True, inplace=True)\n",
    "prediction_exam_lower.reset_index(drop=True, inplace=True)\n",
    "prediction_exam_upper.reset_index(drop=True, inplace=True)\n",
    "df_ans.reset_index(drop=True, inplace=True)\n",
    "\n",
    "print(prediction_exam.shape)\n",
    "print(df_ans.shape)"
   ]
  },
  {
   "cell_type": "code",
   "execution_count": 84,
   "id": "9abc130c",
   "metadata": {},
   "outputs": [
    {
     "name": "stderr",
     "output_type": "stream",
     "text": [
      "Warning in <TFile::Init>: file new_blinding_boxes.root probably not closed, trying to recover\n",
      "Info in <TFile::Recover>: new_blinding_boxes.root, recovered key TGraph:roi_gr at address 242\n",
      "Info in <TFile::Recover>: new_blinding_boxes.root, recovered key TGraph:strip2_gr at address 3281\n",
      "Info in <TFile::Recover>: new_blinding_boxes.root, recovered key TGraph:strip1_gr at address 4352\n",
      "Warning in <TFile::Init>: successfully recovered 3 keys\n",
      "Warning in <TFile::Init>: no StreamerInfo found in new_blinding_boxes.root therefore preventing schema evolution when reading this file. The file was produced with version 5.34/36 of ROOT.\n"
     ]
    }
   ],
   "source": [
    "#filter with the regions, examn and answer, and compare counts\n",
    "\n",
    "# Path to the .root file\n",
    "root_file_path = 'roi_802_days_11March2020_nsc_rp60_all_tops.root'\n",
    "root_file_path2 = 'new_blinding_boxes.root'\n",
    "root_file_path3 = 'save_roi_PLR.root'\n",
    "\n",
    "# Name of the TCutG you want to use\n",
    "strip1_name = 'strip1_gr'\n",
    "strip2_name = 'strip2_gr'\n",
    "strip3_name = 'roi_gr'\n",
    "roi_name = 'roi_top30_cut'\n",
    "roi_plr_name = 'roi_plr_gr'\n",
    "\n",
    "root_file = ROOT.TFile.Open(root_file_path)\n",
    "root_file2 = ROOT.TFile.Open(root_file_path2)\n",
    "root_file3 = ROOT.TFile.Open(root_file_path3)\n",
    "\n",
    "roi = root_file.Get(roi_name)\n",
    "strip1 = root_file2.Get(strip1_name)\n",
    "strip2 = root_file2.Get(strip2_name)\n",
    "strip3 = root_file2.Get(strip3_name)\n",
    "roi_plr = root_file3.Get(roi_plr_name)\n",
    "\n",
    "# Step 2: Define a function to evaluate the TCutG for each event in the DataFrame\n",
    "def apply_tcutg(df, cutg, cut_name):\n",
    "    # Create a new column to store the result of the TCutG evaluation\n",
    "    column_name = 'passes_cut' + cut_name\n",
    "    df[column_name] = False\n",
    "\n",
    "    # Evaluate the TCutG for each event in the DataFrame\n",
    "    for i in range(df.shape[0]):\n",
    "        if cutg.IsInside(df['qPE'][i], df['fprompt'][i]):\n",
    "            df.loc[i, column_name] = True"
   ]
  },
  {
   "cell_type": "code",
   "execution_count": 85,
   "id": "450269e2",
   "metadata": {},
   "outputs": [
    {
     "name": "stdout",
     "output_type": "stream",
     "text": [
      "upper counts for s1, s2, s3, roi and roi_pl:  208 171 62 44 47\n",
      "lower counts for s1, s2, s3, roi and roi_pl:  182 149 49 33 36\n"
     ]
    }
   ],
   "source": [
    "apply_tcutg(prediction_exam, strip1, '_strip1')\n",
    "apply_tcutg(prediction_exam, strip2, '_strip2')\n",
    "apply_tcutg(prediction_exam, strip3, '_strip3')\n",
    "apply_tcutg(prediction_exam, roi, '_roi')\n",
    "apply_tcutg(prediction_exam, roi_plr, '_roi_plr')\n",
    "\n",
    "apply_tcutg(prediction_exam_lower, strip1, '_strip1')\n",
    "apply_tcutg(prediction_exam_lower, strip2, '_strip2')\n",
    "apply_tcutg(prediction_exam_lower, strip3, '_strip3')\n",
    "apply_tcutg(prediction_exam_lower, roi, '_roi')\n",
    "apply_tcutg(prediction_exam_lower, roi_plr, '_roi_plr')\n",
    "\n",
    "apply_tcutg(prediction_exam_upper, strip1, '_strip1')\n",
    "apply_tcutg(prediction_exam_upper, strip2, '_strip2')\n",
    "apply_tcutg(prediction_exam_upper, strip3, '_strip3')\n",
    "apply_tcutg(prediction_exam_upper, roi, '_roi')\n",
    "apply_tcutg(prediction_exam_upper, roi_plr, '_roi_plr')\n",
    "\n",
    "passed_s1 = prediction_exam['passes_cut_strip1'].value_counts()[1]\n",
    "passed_s2 = prediction_exam['passes_cut_strip2'].value_counts()[1]\n",
    "passed_s3 = prediction_exam['passes_cut_strip3'].value_counts()[1]\n",
    "passed_roi = prediction_exam['passes_cut_roi'].value_counts()[1]\n",
    "passed_roi_plr = prediction_exam['passes_cut_roi_plr'].value_counts()[1]\n",
    "\n",
    "passed_s1_lower = prediction_exam_lower['passes_cut_strip1'].value_counts()[1]\n",
    "passed_s2_lower = prediction_exam_lower['passes_cut_strip2'].value_counts()[1]\n",
    "passed_s3_lower = prediction_exam_lower['passes_cut_strip3'].value_counts()[1]\n",
    "passed_roi_lower = prediction_exam_lower['passes_cut_roi'].value_counts()[1]\n",
    "passed_roi_plr_lower = prediction_exam_lower['passes_cut_roi_plr'].value_counts()[1]\n",
    "\n",
    "passed_s1_upper = prediction_exam_upper['passes_cut_strip1'].value_counts()[1]\n",
    "passed_s2_upper = prediction_exam_upper['passes_cut_strip2'].value_counts()[1]\n",
    "passed_s3_upper = prediction_exam_upper['passes_cut_strip3'].value_counts()[1]\n",
    "passed_roi_upper = prediction_exam_upper['passes_cut_roi'].value_counts()[1]\n",
    "passed_roi_plr_upper = prediction_exam_upper['passes_cut_roi_plr'].value_counts()[1]\n",
    "\n",
    "print('upper counts for s1, s2, s3, roi and roi_pl: ',passed_s1_upper, passed_s2_upper, passed_s3_upper, passed_roi_upper, passed_roi_plr_upper)\n",
    "print('lower counts for s1, s2, s3, roi and roi_pl: ',passed_s1_lower, passed_s2_lower, passed_s3_lower, passed_roi_lower, passed_roi_plr_lower)\n",
    "\n",
    "#livetime could be obtained as equivalent time from MC using n/s from decay chain, or from the data runs analyzed"
   ]
  },
  {
   "cell_type": "code",
   "execution_count": 86,
   "id": "e583e748",
   "metadata": {},
   "outputs": [],
   "source": [
    "'''\n",
    "def apply_tcutg(df, cutg, cut_name):\n",
    "    # Create a new column to store the result of the TCutG evaluation\n",
    "    column_name = 'passes_cut' + cut_name\n",
    "    df[column_name] = False\n",
    "\n",
    "    # Evaluate the TCutG for each event in the DataFrame\n",
    "    for i in range(df.shape[0]):\n",
    "        if cutg.IsInside(df['qPE'][i], df['fprompt'][i]):\n",
    "            df.loc[i, column_name] = True\n",
    "\n",
    "\n",
    "#keys_method = df_ans.keys()\n",
    "#print(\"keys of df_ans:\", list(keys_method))\n",
    "#print(df_ans.shape[0])\n",
    "\n",
    "df3 = pd.read_csv(path + file)\n",
    "df3 = df3[df3[var] == 1]\n",
    "df3 = df3.drop(index=df3[df3.eq(-99999).any(axis=1)].index)\n",
    "df3 = df3.drop([var], axis=1)\n",
    "df3 = df3.drop(['ar40recoils'], axis=1)\n",
    "\n",
    "\n",
    "keys_method3 = df3.keys()\n",
    "print(\"keys of df3:\", list(keys_method3))\n",
    "print(df3.shape[0])\n",
    "\n",
    "'''\n",
    "apply_tcutg(df_ans, strip1, '_strip1')\n",
    "apply_tcutg(df_ans, strip2, '_strip2')\n",
    "apply_tcutg(df_ans, strip3, '_strip3')\n",
    "apply_tcutg(df_ans, roi, '_roi')\n",
    "apply_tcutg(df_ans, roi_plr, '_roi_plr')\n",
    "\n",
    "passed_s1_ans = df_ans['passes_cut_strip1'].value_counts()[1]\n",
    "passed_s2_ans = df_ans['passes_cut_strip2'].value_counts()[1]\n",
    "passed_s3_ans = df_ans['passes_cut_strip3'].value_counts()[1]\n",
    "passed_roi_ans = df_ans['passes_cut_roi'].value_counts()[1]\n",
    "passed_roi_plr_ans = df_ans['passes_cut_roi_plr'].value_counts()[1]\n",
    "\n",
    "# Close the ROOT file\n",
    "root_file.Close()\n",
    "root_file2.Close()\n",
    "root_file3.Close()"
   ]
  },
  {
   "cell_type": "code",
   "execution_count": 146,
   "id": "1e1a3d59",
   "metadata": {},
   "outputs": [
    {
     "name": "stdout",
     "output_type": "stream",
     "text": [
      "Strip1:        194 + 14 - 12 multiple recoil events. True value: 181.\n",
      "Strip2:        159 + 12 - 10 multiple recoil events. True value: 149.\n",
      "Strip3:        56  + 6  - 7  multiple recoil events. True value: 51.\n",
      "R.o.I.:        39  + 5  - 6  multiple recoil events. True value: 33.\n",
      "P.L.R. R.o.I.: 42  + 5  - 6  multiple recoil events. True value: 35.\n"
     ]
    }
   ],
   "source": [
    "ulims1 = passed_s1_upper-passed_s1\n",
    "dlims1 = passed_s1-passed_s1_lower\n",
    "ulims2 = passed_s2_upper-passed_s2\n",
    "dlims2 = passed_s2-passed_s2_lower\n",
    "ulims3 = passed_s3_upper-passed_s3\n",
    "dlims3 = passed_s3-passed_s3_lower\n",
    "ulimr = passed_roi_upper-passed_roi\n",
    "dlimr = passed_roi-passed_roi_lower\n",
    "ulimp = passed_roi_plr_upper-passed_roi_plr\n",
    "dlimp = passed_roi_plr-passed_roi_plr_lower\n",
    "\n",
    "print('Strip1:       ', passed_s1, '+', ulims1,'-', dlims1, 'multiple recoil events. True value: '+str(passed_s1_ans)+'.')\n",
    "print('Strip2:       ', passed_s2, '+', ulims2,'-', dlims2, 'multiple recoil events. True value: '+str(passed_s2_ans)+'.')\n",
    "print('Strip3:       ', passed_s3, ' +', ulims3,' -', dlims3, ' multiple recoil events. True value: '+str(passed_s3_ans)+'.')\n",
    "print('R.o.I.:       ', passed_roi, ' +', ulimr,' -', dlimr, ' multiple recoil events. True value: '+str(passed_roi_ans)+'.')\n",
    "print('P.L.R. R.o.I.:', passed_roi_plr, ' +', ulimp,' -', dlimp, ' multiple recoil events. True value: '+str(passed_roi_plr_ans)+'.')"
   ]
  },
  {
   "cell_type": "code",
   "execution_count": null,
   "id": "f4290f8c",
   "metadata": {},
   "outputs": [],
   "source": []
  }
 ],
 "metadata": {
  "kernelspec": {
   "display_name": "Python 3 (ipykernel)",
   "language": "python",
   "name": "python3"
  },
  "language_info": {
   "codemirror_mode": {
    "name": "ipython",
    "version": 3
   },
   "file_extension": ".py",
   "mimetype": "text/x-python",
   "name": "python",
   "nbconvert_exporter": "python",
   "pygments_lexer": "ipython3",
   "version": "3.9.7"
  }
 },
 "nbformat": 4,
 "nbformat_minor": 5
}
