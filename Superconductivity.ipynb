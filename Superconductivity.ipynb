{
 "cells": [
  {
   "cell_type": "code",
   "execution_count": 1,
   "id": "6d036434",
   "metadata": {},
   "outputs": [],
   "source": [
    "import pandas as pd\n",
    "import numpy as np\n",
    "import matplotlib.pyplot as plt\n",
    "from sklearn.linear_model import LinearRegression\n",
    "from sklearn.model_selection import train_test_split\n",
    "from sklearn.metrics import r2_score"
   ]
  },
  {
   "cell_type": "code",
   "execution_count": 17,
   "id": "b8d33cd8",
   "metadata": {},
   "outputs": [
    {
     "name": "stdout",
     "output_type": "stream",
     "text": [
      "R-squared score (1 is perfect, 0 is worst possible fit):  0.7376312737139219\n",
      "                 Variable  Coefficient\n",
      "15            entropy_fie  -100.622940\n",
      "75        entropy_Valence    72.874329\n",
      "76    wtd_entropy_Valence   -69.112974\n",
      "25  entropy_atomic_radius    63.880281\n",
      "16        wtd_entropy_fie    43.935971\n",
      "..                    ...          ...\n",
      "34      wtd_gmean_Density     0.001831\n",
      "37          range_Density    -0.001642\n",
      "33          gmean_Density     0.001584\n",
      "32       wtd_mean_Density     0.000432\n",
      "38      wtd_range_Density    -0.000216\n",
      "\n",
      "[81 rows x 2 columns]\n"
     ]
    }
   ],
   "source": [
    "path = ''\n",
    "file = 'train.csv'\n",
    "\n",
    "df = pd.read_csv(path + file)\n",
    "df = df.dropna()\n",
    "\n",
    "\n",
    "X = df.drop(['critical_temp'], axis=1) #it seems that this is unnecesary\n",
    "\n",
    "columns = X.columns\n",
    "\n",
    "# Select the dependent variable\n",
    "y = df['critical_temp'] \n",
    "\n",
    "# Split the data into training and test sets\n",
    "X_train, X_test, y_train, y_test = train_test_split(X, y, test_size=0.2, random_state=42)\n",
    "\n",
    "# Create an instance of the LinearRegression model\n",
    "model = LinearRegression()\n",
    "\n",
    "# Fit the model to the training data\n",
    "model.fit(X_train, y_train)\n",
    "\n",
    "# Make predictions on the test set\n",
    "y_pred = model.predict(X_test)\n",
    "\n",
    "# Calculate the R-squared score\n",
    "r2 = r2_score(y_test, y_pred)\n",
    "\n",
    "# Print the R-squared score\n",
    "print(\"R-squared score (1 is perfect, 0 is worst possible fit): \", r2)\n",
    "\n",
    "coefficients = model.coef_\n",
    "\n",
    "# Create a DataFrame to display the coefficients\n",
    "coefficients_df = pd.DataFrame({'Variable': columns, 'Coefficient': coefficients})\n",
    "\n",
    "# Sort the coefficients by magnitude\n",
    "coefficients_df = coefficients_df.reindex(coefficients_df['Coefficient'].abs().sort_values(ascending=False).index)\n",
    "\n",
    "# Print the coefficients\n",
    "print(coefficients_df)"
   ]
  },
  {
   "cell_type": "code",
   "execution_count": null,
   "id": "48d305a0",
   "metadata": {},
   "outputs": [],
   "source": []
  }
 ],
 "metadata": {
  "kernelspec": {
   "display_name": "Python 3 (ipykernel)",
   "language": "python",
   "name": "python3"
  },
  "language_info": {
   "codemirror_mode": {
    "name": "ipython",
    "version": 3
   },
   "file_extension": ".py",
   "mimetype": "text/x-python",
   "name": "python",
   "nbconvert_exporter": "python",
   "pygments_lexer": "ipython3",
   "version": "3.8.10"
  }
 },
 "nbformat": 4,
 "nbformat_minor": 5
}
