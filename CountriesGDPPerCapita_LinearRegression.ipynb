{
 "cells": [
  {
   "cell_type": "code",
   "execution_count": 2,
   "id": "acfe6c29",
   "metadata": {},
   "outputs": [],
   "source": [
    "#The goal of this example is to predict the GDP per capita of countries based on features such as Birth Rate,\n",
    "#Co2-Emissions, Unemployment rate, Gross Tertiary education enrollment, and others.\n",
    "#Countries data taken from https://www.kaggle.com/datasets/nelgiriyewithana/countries-of-the-world-2023\n",
    "#HDI data taken from https://hdr.undp.org/data-center/human-development-index#/indicies/HDI\n",
    "#For this, I use LinearRegression from sklearn.  This model will use features of type float.\n",
    "\n",
    "import pandas as pd\n",
    "import numpy as np\n",
    "import matplotlib.pyplot as plt\n",
    "from sklearn.linear_model import LinearRegression\n",
    "from sklearn.model_selection import train_test_split\n",
    "from sklearn.metrics import r2_score\n",
    "from sklearn.metrics import mean_squared_error"
   ]
  },
  {
   "cell_type": "code",
   "execution_count": 3,
   "id": "d63d24dd",
   "metadata": {},
   "outputs": [
    {
     "name": "stderr",
     "output_type": "stream",
     "text": [
      "/tmp/ipykernel_6211/261036445.py:19: FutureWarning: The default value of regex will change from True to False in a future version. In addition, single character regular expressions will *not* be treated as literal strings when regex=True.\n",
      "  df[i] = df[i].str.replace(',', '').str.replace('$', '').str.replace('.', '').str.replace(' ', '').str.replace('%', '').astype(float)\n"
     ]
    },
    {
     "name": "stdout",
     "output_type": "stream",
     "text": [
      "Density\\n(P/Km2)                             float64\n",
      "Agricultural Land( %)                        float64\n",
      "Land Area(Km2)                               float64\n",
      "Armed Forces size                            float64\n",
      "Birth Rate                                   float64\n",
      "Co2-Emissions                                float64\n",
      "CPI                                          float64\n",
      "CPI Change (%)                               float64\n",
      "Fertility Rate                               float64\n",
      "Forested Area (%)                            float64\n",
      "Gasoline Price                               float64\n",
      "GDP                                          float64\n",
      "Gross primary education enrollment (%)       float64\n",
      "Gross tertiary education enrollment (%)      float64\n",
      "Infant mortality                             float64\n",
      "Life expectancy                              float64\n",
      "Maternal mortality ratio                     float64\n",
      "Minimum wage                                 float64\n",
      "Out of pocket health expenditure             float64\n",
      "Physicians per thousand                      float64\n",
      "Population                                   float64\n",
      "Population: Labor force participation (%)    float64\n",
      "Tax revenue (%)                              float64\n",
      "Total tax rate                               float64\n",
      "Unemployment rate                            float64\n",
      "Urban_population                             float64\n",
      "Latitude                                     float64\n",
      "Longitude                                    float64\n",
      "dtype: object\n",
      "(110, 28)\n"
     ]
    }
   ],
   "source": [
    "path = ''\n",
    "file = 'world-data-2023.csv'\n",
    "\n",
    "df = pd.read_csv(path + file)\n",
    "\n",
    "#data cleaning\n",
    "df = df.dropna()\n",
    "df = df.drop(['Abbreviation', 'Calling Code', 'Capital/Major City', \n",
    "              'Largest city', 'Official language', 'Currency-Code'], axis=1)\n",
    "\n",
    "#change index to country names\n",
    "df = df.set_index('Country')\n",
    "\n",
    "#create an array with the names of type object columns\n",
    "object_columns = df.select_dtypes(include=object).columns.to_numpy()\n",
    "\n",
    "#iterate trough array and remove , . $ % and convert to float\n",
    "for i in object_columns:\n",
    "    df[i] = df[i].str.replace(',', '').str.replace('$', '').str.replace('.', '').str.replace(' ', '').str.replace('%', '').astype(float)\n",
    "\n",
    "#confirm that all remaining features are float    \n",
    "print(df.dtypes)\n",
    "\n",
    "print(df.shape)"
   ]
  },
  {
   "cell_type": "code",
   "execution_count": 4,
   "id": "1b11afb8",
   "metadata": {},
   "outputs": [
    {
     "name": "stdout",
     "output_type": "stream",
     "text": [
      "Index(['Density\\n(P/Km2)', 'Agricultural Land( %)', 'Land Area(Km2)',\n",
      "       'Armed Forces size', 'Birth Rate', 'Co2-Emissions', 'CPI',\n",
      "       'CPI Change (%)', 'Fertility Rate', 'Forested Area (%)',\n",
      "       'Gasoline Price', 'GDP', 'Gross primary education enrollment (%)',\n",
      "       'Gross tertiary education enrollment (%)', 'Infant mortality',\n",
      "       'Life expectancy', 'Maternal mortality ratio', 'Minimum wage',\n",
      "       'Out of pocket health expenditure', 'Physicians per thousand',\n",
      "       'Population', 'Population: Labor force participation (%)',\n",
      "       'Tax revenue (%)', 'Total tax rate', 'Unemployment rate',\n",
      "       'Urban_population', 'Latitude', 'Longitude', 'GDP Per Capita'],\n",
      "      dtype='object')\n"
     ]
    }
   ],
   "source": [
    "#Include a new column with GDP Per Capita by dividing GDP by Population\n",
    "df['GDP Per Capita'] = df['GDP'] / df['Population']\n",
    "\n",
    "print(df.keys())"
   ]
  },
  {
   "cell_type": "code",
   "execution_count": 5,
   "id": "352dbc6e",
   "metadata": {},
   "outputs": [
    {
     "name": "stdout",
     "output_type": "stream",
     "text": [
      "The correlation between the absolute value of Latitude and GDP Per Capita is: 0.4838009516574867\n",
      "The correlation between Physicians per thousand and GDP Per Capita is: 0.5097265610156401\n"
     ]
    }
   ],
   "source": [
    "#Explore some correlations\n",
    "\n",
    "c_absLat_GDPPC = abs(df['Latitude']).corr(df['GDP Per Capita'])\n",
    "c_PhysPT_GDPPC = df['Physicians per thousand'].corr(df['GDP Per Capita'])\n",
    "\n",
    "print('The correlation between the absolute value of Latitude and GDP Per Capita is: ' + str(c_absLat_GDPPC))\n",
    "print('The correlation between Physicians per thousand and GDP Per Capita is: ' + str(c_PhysPT_GDPPC))"
   ]
  },
  {
   "cell_type": "code",
   "execution_count": 6,
   "id": "a47b94db",
   "metadata": {},
   "outputs": [],
   "source": [
    "#regression with df to predict gdp per capita\n",
    "\n",
    "X = df.drop(['GDP Per Capita'], axis=1)\n",
    "\n",
    "# Select the dependent variable\n",
    "y = df['GDP Per Capita'] \n",
    "\n",
    "# Split the data into training and test sets\n",
    "X_train, X_test, y_train, y_test = train_test_split(X, y, test_size=0.2, random_state=42)"
   ]
  },
  {
   "cell_type": "code",
   "execution_count": 7,
   "id": "37f9890e",
   "metadata": {},
   "outputs": [
    {
     "name": "stdout",
     "output_type": "stream",
     "text": [
      "R-squared score (1 is perfect, 0 is worst possible fit):  0.6390303696603218\n"
     ]
    }
   ],
   "source": [
    "# Create an instance of the LinearRegression model\n",
    "model = LinearRegression()\n",
    "\n",
    "# Fit the model to the training data\n",
    "model.fit(X_train, y_train)\n",
    "\n",
    "# Make predictions on the test set\n",
    "y_pred = model.predict(X_test)\n",
    "\n",
    "# Calculate the R-squared score\n",
    "r2 = r2_score(y_test, y_pred)\n",
    "\n",
    "# Print the R-squared score\n",
    "print(\"R-squared score (1 is perfect, 0 is worst possible fit): \", r2)"
   ]
  },
  {
   "cell_type": "code",
   "execution_count": 8,
   "id": "cbb27302",
   "metadata": {},
   "outputs": [
    {
     "name": "stdout",
     "output_type": "stream",
     "text": [
      "                                     Variable   Coefficient\n",
      "8                              Fertility Rate  2.083457e+03\n",
      "19                    Physicians per thousand  9.735764e+02\n",
      "4                                  Birth Rate -3.743299e+02\n",
      "15                            Life expectancy -1.361187e+02\n",
      "14                           Infant mortality -4.648947e+01\n",
      "17                               Minimum wage  2.963839e+01\n",
      "10                             Gasoline Price -2.558868e+01\n",
      "27                                  Longitude -9.874740e+00\n",
      "0                            Density\\n(P/Km2)  6.889264e+00\n",
      "26                                   Latitude -5.916829e+00\n",
      "22                            Tax revenue (%) -1.746001e+00\n",
      "16                   Maternal mortality ratio  1.467526e+00\n",
      "24                          Unemployment rate -1.019335e+00\n",
      "13    Gross tertiary education enrollment (%)  7.212990e-01\n",
      "18           Out of pocket health expenditure -6.099957e-01\n",
      "1                       Agricultural Land( %) -5.915321e-01\n",
      "21  Population: Labor force participation (%)  5.200532e-01\n",
      "12     Gross primary education enrollment (%) -1.215719e-01\n",
      "9                           Forested Area (%) -3.622447e-02\n",
      "23                             Total tax rate  1.552841e-02\n",
      "6                                         CPI -1.490163e-02\n",
      "7                              CPI Change (%)  7.082487e-03\n",
      "3                           Armed Forces size -2.782430e-03\n",
      "5                               Co2-Emissions -2.217651e-03\n",
      "2                              Land Area(Km2)  2.739170e-04\n",
      "25                           Urban_population -6.166375e-05\n",
      "20                                 Population  2.506241e-05\n",
      "11                                        GDP  2.446182e-09\n"
     ]
    }
   ],
   "source": [
    "coefficients = model.coef_\n",
    "\n",
    "X_columns = X.columns.to_numpy()\n",
    "\n",
    "# Create a DataFrame to display the coefficients\n",
    "coefficients_df = pd.DataFrame({'Variable': X_columns, 'Coefficient': coefficients})\n",
    "\n",
    "# Sort the coefficients by magnitude\n",
    "coefficients_df = coefficients_df.reindex(coefficients_df['Coefficient'].abs().sort_values(ascending=False).index)\n",
    "\n",
    "\n",
    "# Print the coefficients to explore which features are more significant for this prediction\n",
    "print(coefficients_df)"
   ]
  }
 ],
 "metadata": {
  "kernelspec": {
   "display_name": "Python 3 (ipykernel)",
   "language": "python",
   "name": "python3"
  },
  "language_info": {
   "codemirror_mode": {
    "name": "ipython",
    "version": 3
   },
   "file_extension": ".py",
   "mimetype": "text/x-python",
   "name": "python",
   "nbconvert_exporter": "python",
   "pygments_lexer": "ipython3",
   "version": "3.8.10"
  }
 },
 "nbformat": 4,
 "nbformat_minor": 5
}
