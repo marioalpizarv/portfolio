{
 "cells": [
  {
   "cell_type": "code",
   "execution_count": 2,
   "id": "e958e909",
   "metadata": {},
   "outputs": [
    {
     "ename": "ImportError",
     "evalue": "Failed to import libcppyy3_8. Please check that ROOT has been built for Python 3.8",
     "output_type": "error",
     "traceback": [
      "\u001b[0;31m---------------------------------------------------------------------------\u001b[0m",
      "\u001b[0;31mModuleNotFoundError\u001b[0m                       Traceback (most recent call last)",
      "File \u001b[0;32m~/Documents/root_6_28_04/lib/cppyy/__init__.py:60\u001b[0m, in \u001b[0;36m<module>\u001b[0;34m\u001b[0m\n\u001b[1;32m     59\u001b[0m \u001b[38;5;28;01mtry\u001b[39;00m:\n\u001b[0;32m---> 60\u001b[0m     \u001b[43mimportlib\u001b[49m\u001b[38;5;241;43m.\u001b[39;49m\u001b[43mimport_module\u001b[49m\u001b[43m(\u001b[49m\u001b[43mlibcppyy_mod_name\u001b[49m\u001b[43m)\u001b[49m\n\u001b[1;32m     61\u001b[0m \u001b[38;5;28;01mexcept\u001b[39;00m \u001b[38;5;167;01mImportError\u001b[39;00m:\n",
      "File \u001b[0;32m/usr/lib/python3.8/importlib/__init__.py:127\u001b[0m, in \u001b[0;36mimport_module\u001b[0;34m(name, package)\u001b[0m\n\u001b[1;32m    126\u001b[0m         level \u001b[38;5;241m+\u001b[39m\u001b[38;5;241m=\u001b[39m \u001b[38;5;241m1\u001b[39m\n\u001b[0;32m--> 127\u001b[0m \u001b[38;5;28;01mreturn\u001b[39;00m \u001b[43m_bootstrap\u001b[49m\u001b[38;5;241;43m.\u001b[39;49m\u001b[43m_gcd_import\u001b[49m\u001b[43m(\u001b[49m\u001b[43mname\u001b[49m\u001b[43m[\u001b[49m\u001b[43mlevel\u001b[49m\u001b[43m:\u001b[49m\u001b[43m]\u001b[49m\u001b[43m,\u001b[49m\u001b[43m \u001b[49m\u001b[43mpackage\u001b[49m\u001b[43m,\u001b[49m\u001b[43m \u001b[49m\u001b[43mlevel\u001b[49m\u001b[43m)\u001b[49m\n",
      "File \u001b[0;32m<frozen importlib._bootstrap>:1014\u001b[0m, in \u001b[0;36m_gcd_import\u001b[0;34m(name, package, level)\u001b[0m\n",
      "File \u001b[0;32m<frozen importlib._bootstrap>:991\u001b[0m, in \u001b[0;36m_find_and_load\u001b[0;34m(name, import_)\u001b[0m\n",
      "File \u001b[0;32m<frozen importlib._bootstrap>:973\u001b[0m, in \u001b[0;36m_find_and_load_unlocked\u001b[0;34m(name, import_)\u001b[0m\n",
      "\u001b[0;31mModuleNotFoundError\u001b[0m: No module named 'libcppyy3_8'",
      "\nDuring handling of the above exception, another exception occurred:\n",
      "\u001b[0;31mImportError\u001b[0m                               Traceback (most recent call last)",
      "Input \u001b[0;32mIn [2]\u001b[0m, in \u001b[0;36m<module>\u001b[0;34m\u001b[0m\n\u001b[1;32m     19\u001b[0m \u001b[38;5;28;01mfrom\u001b[39;00m \u001b[38;5;21;01msklearn\u001b[39;00m\u001b[38;5;21;01m.\u001b[39;00m\u001b[38;5;21;01mmetrics\u001b[39;00m \u001b[38;5;28;01mimport\u001b[39;00m precision_score\n\u001b[1;32m     21\u001b[0m \u001b[38;5;66;03m#!pip install root-numpy\u001b[39;00m\n\u001b[0;32m---> 22\u001b[0m \u001b[38;5;28;01mimport\u001b[39;00m \u001b[38;5;21;01mROOT\u001b[39;00m\n",
      "File \u001b[0;32m~/Documents/root_6_28_04/lib/ROOT/__init__.py:25\u001b[0m, in \u001b[0;36m<module>\u001b[0;34m\u001b[0m\n\u001b[1;32m     22\u001b[0m \u001b[38;5;66;03m# Do setup specific to AddressSanitizer environments\u001b[39;00m\n\u001b[1;32m     23\u001b[0m \u001b[38;5;28;01mfrom\u001b[39;00m \u001b[38;5;21;01m.\u001b[39;00m \u001b[38;5;28;01mimport\u001b[39;00m _asan\n\u001b[0;32m---> 25\u001b[0m \u001b[38;5;28;01mimport\u001b[39;00m \u001b[38;5;21;01mcppyy\u001b[39;00m\n\u001b[1;32m     27\u001b[0m \u001b[38;5;66;03m# import libROOTPythonizations with Python version number\u001b[39;00m\n\u001b[1;32m     28\u001b[0m \u001b[38;5;28;01mimport\u001b[39;00m \u001b[38;5;21;01msys\u001b[39;00m\u001b[38;5;241m,\u001b[39m \u001b[38;5;21;01mimportlib\u001b[39;00m\n",
      "File \u001b[0;32m~/Documents/root_6_28_04/lib/cppyy/__init__.py:62\u001b[0m, in \u001b[0;36m<module>\u001b[0;34m\u001b[0m\n\u001b[1;32m     60\u001b[0m     importlib\u001b[38;5;241m.\u001b[39mimport_module(libcppyy_mod_name)\n\u001b[1;32m     61\u001b[0m \u001b[38;5;28;01mexcept\u001b[39;00m \u001b[38;5;167;01mImportError\u001b[39;00m:\n\u001b[0;32m---> 62\u001b[0m     \u001b[38;5;28;01mraise\u001b[39;00m \u001b[38;5;167;01mImportError\u001b[39;00m(\n\u001b[1;32m     63\u001b[0m             \u001b[38;5;124m'\u001b[39m\u001b[38;5;124mFailed to import \u001b[39m\u001b[38;5;132;01m{}\u001b[39;00m\u001b[38;5;124m. Please check that ROOT has been built for Python \u001b[39m\u001b[38;5;132;01m{}\u001b[39;00m\u001b[38;5;124m.\u001b[39m\u001b[38;5;132;01m{}\u001b[39;00m\u001b[38;5;124m'\u001b[39m\u001b[38;5;241m.\u001b[39mformat(\n\u001b[1;32m     64\u001b[0m                 libcppyy_mod_name, major, minor))\n\u001b[1;32m     66\u001b[0m \u001b[38;5;66;03m# ensure 'import libcppyy' will find the versioned module\u001b[39;00m\n\u001b[1;32m     67\u001b[0m sys\u001b[38;5;241m.\u001b[39mmodules[\u001b[38;5;124m'\u001b[39m\u001b[38;5;124mlibcppyy\u001b[39m\u001b[38;5;124m'\u001b[39m] \u001b[38;5;241m=\u001b[39m sys\u001b[38;5;241m.\u001b[39mmodules[libcppyy_mod_name]\n",
      "\u001b[0;31mImportError\u001b[0m: Failed to import libcppyy3_8. Please check that ROOT has been built for Python 3.8"
     ]
    }
   ],
   "source": [
    "import pandas as pd\n",
    "import numpy as np\n",
    "import matplotlib.pyplot as plt\n",
    "from sklearn.model_selection import train_test_split\n",
    "from sklearn.metrics import confusion_matrix\n",
    "from sklearn.metrics import plot_roc_curve\n",
    "from sklearn.metrics import roc_curve, auc\n",
    "import seaborn as sns\n",
    "import math\n",
    "\n",
    "#Import DecisionTree as a classifier\n",
    "from sklearn.ensemble import GradientBoostingClassifier\n",
    "from sklearn.model_selection import cross_val_score\n",
    "from sklearn.model_selection import cross_validate\n",
    "from sklearn.metrics import accuracy_score\n",
    "#https://scikit-learn.org/stable/modules/generated/sklearn.metrics.recall_score.html\n",
    "from sklearn.metrics import recall_score\n",
    "#https://scikit-learn.org/stable/modules/generated/sklearn.metrics.precision_score.html\n",
    "from sklearn.metrics import precision_score\n",
    "\n",
    "#!pip install root-numpy\n",
    "import ROOT"
   ]
  },
  {
   "cell_type": "code",
   "execution_count": 3,
   "id": "8fa78141",
   "metadata": {
    "scrolled": true
   },
   "outputs": [
    {
     "name": "stdout",
     "output_type": "stream",
     "text": [
      "(1209, 25)\n"
     ]
    }
   ],
   "source": [
    "path = ''\n",
    "file = 'RecoilsData.csv'\n",
    "#file = 'RecoilsData_AV_moreVar.csv'\n",
    "\n",
    "df = pd.read_csv(path + file)\n",
    "\n",
    "#drop events with no recoils at all\n",
    "df = df[df['ar40recoils'] != 0]\n",
    "\n",
    "#vars_to_drop = ['neckVetoN', 'subeventN']#,'nhit', 'nhit_5000', 'mblikelihoodE', 'lateNhit']\n",
    "#vars_to_drop = ['nhit', 'nhit_5000', 'mblikelihoodE', 'lateNhit']\n",
    "#drop irrelevant variables\n",
    "#df = df.drop(vars_to_drop, axis=1)\n",
    "\n",
    "#drop rows with the value -99999, these are outliers\n",
    "df = df.drop(index=df[df.eq(-99999).any(axis=1)].index)\n",
    "\n",
    "df.head()\n",
    "print(df.shape)"
   ]
  },
  {
   "cell_type": "code",
   "execution_count": 4,
   "id": "8e97e195",
   "metadata": {},
   "outputs": [
    {
     "name": "stdout",
     "output_type": "stream",
     "text": [
      "(1209, 24)\n"
     ]
    }
   ],
   "source": [
    "#drop the variable used to make the flags for multiple recoils\n",
    "df = df.drop(['ar40recoils'], axis=1) \n",
    "print(df.shape)"
   ]
  },
  {
   "cell_type": "code",
   "execution_count": 5,
   "id": "6eabf962",
   "metadata": {},
   "outputs": [
    {
     "name": "stdout",
     "output_type": "stream",
     "text": [
      "1    934\n",
      "0    275\n",
      "Name: multiplerecoils, dtype: int64\n",
      "1    934\n",
      "0    275\n",
      "Name: multiplerecoils, dtype: int64\n"
     ]
    }
   ],
   "source": [
    "# Count the occurrences of each value in multiplerecoils\n",
    "value_counts = df['multiplerecoils'].value_counts()\n",
    "print(value_counts)\n",
    "# Drop rows with multiplerecoils to make it more even between multiple and single\n",
    "#df = df.drop(df[df['multiplerecoils'] == 1].head(659).index) #50-50\n",
    "#df = df.drop(df[df['multiplerecoils'] == 1].head(300).index) #2-1\n",
    "# Count the occurrences of each value in multiplerecoils again\n",
    "value_counts = df['multiplerecoils'].value_counts()\n",
    "print(value_counts)"
   ]
  },
  {
   "cell_type": "code",
   "execution_count": 6,
   "id": "212a34ef",
   "metadata": {},
   "outputs": [],
   "source": [
    "# Get a random permutation of the DataFrame's index\n",
    "random_order = np.random.RandomState(seed=9).permutation(df.index)\n",
    "\n",
    "# Reorder the DataFrame randomly using the random permutation\n",
    "df = df.loc[random_order]"
   ]
  },
  {
   "cell_type": "code",
   "execution_count": 7,
   "id": "2cfb3e58",
   "metadata": {},
   "outputs": [
    {
     "name": "stdout",
     "output_type": "stream",
     "text": [
      "1    934\n",
      "0    275\n",
      "Name: multiplerecoils, dtype: int64\n"
     ]
    }
   ],
   "source": [
    "# Count the occurrences of each value in multiplerecoils again\n",
    "value_counts = df['multiplerecoils'].value_counts()\n",
    "print(value_counts)"
   ]
  },
  {
   "cell_type": "code",
   "execution_count": 8,
   "id": "f98df068",
   "metadata": {},
   "outputs": [
    {
     "name": "stdout",
     "output_type": "stream",
     "text": [
      "(1209, 23)\n",
      "(1209,)\n"
     ]
    }
   ],
   "source": [
    "#dependent variable that will be predicted\n",
    "var = 'multiplerecoils'\n",
    "\n",
    "X = df.drop([var], axis=1)\n",
    "\n",
    "# Select the dependent variable\n",
    "y = df[var] \n",
    "\n",
    "print(X.shape)\n",
    "print(y.shape)"
   ]
  },
  {
   "cell_type": "code",
   "execution_count": 9,
   "id": "088e2350",
   "metadata": {},
   "outputs": [
    {
     "name": "stdout",
     "output_type": "stream",
     "text": [
      "Created Boosted Decision Tree Classifier\n"
     ]
    }
   ],
   "source": [
    "# Create the GradientBoostingClassifier (Boosted Decision Tree)\n",
    "boosted_tree = GradientBoostingClassifier(n_estimators=100, learning_rate=0.1, random_state=42)\n",
    "\n",
    "print(\"Created Boosted Decision Tree Classifier\")"
   ]
  },
  {
   "cell_type": "code",
   "execution_count": 10,
   "id": "30235ec7",
   "metadata": {},
   "outputs": [
    {
     "name": "stdout",
     "output_type": "stream",
     "text": [
      "Cross-Validation Scores:\n",
      "Fold 1: 0.80\n",
      "Fold 2: 0.76\n",
      "Fold 3: 0.76\n",
      "Fold 4: 0.82\n",
      "Fold 5: 0.79\n",
      "Fold 6: 0.81\n",
      "Fold 7: 0.76\n",
      "Fold 8: 0.82\n",
      "Fold 9: 0.82\n",
      "Fold 10: 0.74\n",
      "\n",
      "Average Score: 0.79\n"
     ]
    }
   ],
   "source": [
    "# Perform cross-validation with 10 folds\n",
    "# 'cv' parameter specifies the number of folds\n",
    "# 'scoring' parameter specifies the evaluation metric (e.g., 'accuracy')\n",
    "cross_val_scores = cross_val_score(boosted_tree, X, y, cv=10, scoring='accuracy')\n",
    "\n",
    "# Print the cross-validation scores for each fold\n",
    "print(\"Cross-Validation Scores:\")\n",
    "for fold, score in enumerate(cross_val_scores, start=1):\n",
    "    print(f\"Fold {fold}: {score:.2f}\")\n",
    "\n",
    "# Calculate and print the average cross-validation score\n",
    "average_score = cross_val_scores.mean()\n",
    "print(f\"\\nAverage Score: {average_score:.2f}\")"
   ]
  },
  {
   "cell_type": "code",
   "execution_count": 127,
   "id": "3ae9a745",
   "metadata": {},
   "outputs": [
    {
     "data": {
      "text/plain": [
       "'\\nscores = cross_validate(boosted_tree, X, y, cv=10, scoring=\\'accuracy\\',return_train_score=True)\\n\\n# Print the cross-validation scores for each fold\\nprint(\"Cross-Validate Test Scores:\")\\nfor fold, score in enumerate(scores[\\'test_score\\'], start=1):\\n    print(f\"Fold {fold}: {score:.2f}\")\\n\\n# Calculate and print the average cross-validation score\\naverage_scoreval = scores[\\'test_score\\'].mean()\\nprint(f\"\\nAverage Test Score: {average_scoreval:.2f}\")\\n\\n# Print the cross-validation train scores for each fold\\nprint(\"\\nCross-Validate Train Scores:\")\\nfor fold, score in enumerate(scores[\\'train_score\\'], start=1):\\n    print(f\"Fold {fold}: {score:.2f}\")\\n\\n# Calculate and print the average cross-validation score\\naverage_scoreval = scores[\\'train_score\\'].mean()\\nprint(f\"\\nAverage Train Score: {average_scoreval:.2f}\")\\n\\n# Print the cross-validation fit times for each fold\\nprint(\"\\nFit Times (s):\")\\nfor fold, fit_time in enumerate(scores[\\'fit_time\\'], start=1):\\n    print(f\"Fold {fold}: {fit_time:.2f}\")\\n\\n# Calculate and print the average fit time\\naverage_fittime = scores[\\'fit_time\\'].mean()\\nprint(f\"\\nAverage fit time: {average_fittime:.2f}\")\\n\\n# Print the cross-validation score times for each fold\\nprint(\"\\nScore Times (s):\")\\nfor fold, score_time in enumerate(scores[\\'score_time\\'], start=1):\\n    print(f\"Fold {fold}: {score_time:.2f}\")\\n\\n# Calculate and print the average score time\\naverage_scoretime = scores[\\'score_time\\'].mean()\\nprint(f\"\\nAverage score time: {average_scoretime:.2f}\")\\n'"
      ]
     },
     "execution_count": 127,
     "metadata": {},
     "output_type": "execute_result"
    }
   ],
   "source": [
    "#optional\n",
    "#additional cross validation scores\n",
    "'''\n",
    "scores = cross_validate(boosted_tree, X, y, cv=10, scoring='accuracy',return_train_score=True)\n",
    "\n",
    "# Print the cross-validation scores for each fold\n",
    "print(\"Cross-Validate Test Scores:\")\n",
    "for fold, score in enumerate(scores['test_score'], start=1):\n",
    "    print(f\"Fold {fold}: {score:.2f}\")\n",
    "\n",
    "# Calculate and print the average cross-validation score\n",
    "average_scoreval = scores['test_score'].mean()\n",
    "print(f\"\\nAverage Test Score: {average_scoreval:.2f}\")\n",
    "\n",
    "# Print the cross-validation train scores for each fold\n",
    "print(\"\\nCross-Validate Train Scores:\")\n",
    "for fold, score in enumerate(scores['train_score'], start=1):\n",
    "    print(f\"Fold {fold}: {score:.2f}\")\n",
    "\n",
    "# Calculate and print the average cross-validation score\n",
    "average_scoreval = scores['train_score'].mean()\n",
    "print(f\"\\nAverage Train Score: {average_scoreval:.2f}\")\n",
    "\n",
    "# Print the cross-validation fit times for each fold\n",
    "print(\"\\nFit Times (s):\")\n",
    "for fold, fit_time in enumerate(scores['fit_time'], start=1):\n",
    "    print(f\"Fold {fold}: {fit_time:.2f}\")\n",
    "\n",
    "# Calculate and print the average fit time\n",
    "average_fittime = scores['fit_time'].mean()\n",
    "print(f\"\\nAverage fit time: {average_fittime:.2f}\")\n",
    "\n",
    "# Print the cross-validation score times for each fold\n",
    "print(\"\\nScore Times (s):\")\n",
    "for fold, score_time in enumerate(scores['score_time'], start=1):\n",
    "    print(f\"Fold {fold}: {score_time:.2f}\")\n",
    "\n",
    "# Calculate and print the average score time\n",
    "average_scoretime = scores['score_time'].mean()\n",
    "print(f\"\\nAverage score time: {average_scoretime:.2f}\")\n",
    "'''"
   ]
  },
  {
   "cell_type": "code",
   "execution_count": 128,
   "id": "501ab2f5",
   "metadata": {},
   "outputs": [
    {
     "name": "stdout",
     "output_type": "stream",
     "text": [
      "(1190, 21)\n",
      "(1190,)\n",
      "(298, 21)\n",
      "(298,)\n"
     ]
    }
   ],
   "source": [
    "# Splitting the dataset to Train and test\n",
    "X_train, X_test, y_train, y_test = train_test_split(X, y, test_size=0.2, random_state=0)\n",
    "\n",
    "print(X_train.shape)\n",
    "print(y_train.shape)\n",
    "print(X_test.shape)\n",
    "print(y_test.shape)"
   ]
  },
  {
   "cell_type": "code",
   "execution_count": 129,
   "id": "66b9a01e",
   "metadata": {},
   "outputs": [
    {
     "name": "stdout",
     "output_type": "stream",
     "text": [
      "Training set score: 0.916807\n",
      "Test set score: 0.795302\n"
     ]
    }
   ],
   "source": [
    "#Train DT\n",
    "boosted_tree.fit(X_train, y_train)\n",
    "print(\"Training set score: %f\" % boosted_tree.score(X_train, y_train))\n",
    "print(\"Test set score: %f\" % boosted_tree.score(X_test, y_test))"
   ]
  },
  {
   "cell_type": "code",
   "execution_count": 130,
   "id": "2a62c4b9",
   "metadata": {},
   "outputs": [],
   "source": [
    "# Make predictions on the test set\n",
    "y_pred = boosted_tree.predict(X_test)"
   ]
  },
  {
   "cell_type": "code",
   "execution_count": 131,
   "id": "a0c804f6",
   "metadata": {},
   "outputs": [
    {
     "name": "stdout",
     "output_type": "stream",
     "text": [
      "Accuracy: 0.79530\n"
     ]
    }
   ],
   "source": [
    "# Calculate the accuracy of the model\n",
    "accuracy = accuracy_score(y_test, y_pred)\n",
    "print(f\"Accuracy: {accuracy:.5f}\")"
   ]
  },
  {
   "cell_type": "code",
   "execution_count": 132,
   "id": "0148aace",
   "metadata": {},
   "outputs": [
    {
     "data": {
      "image/png": "[encoded data removed]",
      "text/plain": [
       "<Figure size 360x288 with 2 Axes>"
      ]
     },
     "metadata": {
      "needs_background": "light"
     },
     "output_type": "display_data"
    }
   ],
   "source": [
    "\n",
    "# Creating  a confusion matrix,which compares the y_test and y_pred\n",
    "cm = confusion_matrix(y_test, y_pred)\n",
    "\n",
    "# Define the class labels\n",
    "# Create a mapping dictionary to replace 0 with 'single' and 1 with 'multiple'\n",
    "#label_mapping = {0: 'single recoils', 1: 'multiple recoils'}\n",
    "\n",
    "# Replace the labels using the mapping dictionary\n",
    "#df[var] = df[var].replace(label_mapping)\n",
    "\n",
    "#class_labels = df[var].unique()\n",
    "#class_labels = ['single recoils', 'multiple recoils'] #negative, positive\n",
    "\n",
    "# Plot the confusion matrix\n",
    "plt.figure(figsize=(5, 4))\n",
    "sns.heatmap(cm, annot=True, cmap='Greens', fmt='d')\n",
    "\n",
    "# Add a legend\n",
    "tick_marks = np.arange(len(df[var].unique())) + 0.5\n",
    "plt.xticks(tick_marks, ['Single Recoils', 'Multiple Recoils'])\n",
    "plt.yticks(tick_marks, ['Single Recoils', 'Multiple Recoils'])\n",
    "plt.xlabel('Predicted')\n",
    "plt.ylabel('True')\n",
    "plt.title('Confusion Matrix for BDT Classifier')\n",
    "\n",
    "# Display the plot\n",
    "plt.show()"
   ]
  },
  {
   "cell_type": "code",
   "execution_count": 133,
   "id": "ffc4d2cf",
   "metadata": {},
   "outputs": [
    {
     "name": "stdout",
     "output_type": "stream",
     "text": [
      "The recall is:  0.9361702127659575\n",
      "The precision is:  0.8270676691729323\n",
      "The F1-score is:  0.8782435129740519\n",
      "\n",
      "The weighted recall is:  0.7953020134228188\n",
      "The weighted precision is:  0.7645290344148963\n",
      "The weighted F1-score is:  0.7796119730187986\n"
     ]
    }
   ],
   "source": [
    "#calculate recall, precision and F1 score\n",
    "\n",
    "rec = recall_score(y_test, y_pred)#, average='binary')\n",
    "#The recall is intuitively the ability of the classifier to find all the positive samples.\n",
    "pres = precision_score(y_test, y_pred)#, average='binary')\n",
    "#The precision is intuitively the ability of the classifier not to label as positive a sample that is negative.\n",
    "F1_score = 2/((1/rec) + (1/pres))\n",
    "#F1 is the harmmonic mean between recall and precision\n",
    "\n",
    "#weighted metrics\n",
    "wrec = recall_score(y_test, y_pred, average='weighted')\n",
    "wpres = precision_score(y_test, y_pred, average='weighted')\n",
    "wF1_score = 2/((1/wrec) + (1/wpres))\n",
    "\n",
    "print(\"The recall is: \", rec)\n",
    "print(\"The precision is: \", pres)\n",
    "print(\"The F1-score is: \", F1_score)\n",
    "\n",
    "print(\"\\nThe weighted recall is: \", wrec)\n",
    "print(\"The weighted precision is: \", wpres)\n",
    "print(\"The weighted F1-score is: \", wF1_score)"
   ]
  },
  {
   "cell_type": "code",
   "execution_count": 134,
   "id": "2c4ed3ce",
   "metadata": {},
   "outputs": [
    {
     "name": "stdout",
     "output_type": "stream",
     "text": [
      "True Negative: 17\n",
      "False Positive: 46\n",
      "False Negative: 15\n",
      "True Positive: 220\n",
      "\n",
      "Error rate: 0.20469798657718122\n",
      "Accuracy: 0.7953020134228188\n",
      "Recall: 0.9361702127659575\n",
      "Specificity: 0.2698412698412698\n",
      "Precision: 0.8270676691729323\n",
      "False positive rate: 0.7301587301587301\n",
      "Mathews correlation coefficient: 0.2705450449061114\n",
      "F1 score: 0.8782435129740519\n"
     ]
    }
   ],
   "source": [
    "#metrics by hand\n",
    "\n",
    "tn, fp, fn, tp = cm.ravel()\n",
    "\n",
    "err = (fp + fn)/(fp + fn + tn + tp)\n",
    "acc = (tp + tn)/(fp + fn + tn + tp)\n",
    "re = tp/(tp + fn)\n",
    "sp = tn/(tn + fp)\n",
    "prec = tp/(tp + fp)\n",
    "fpr = fp/(tn + fp)\n",
    "mcc = ((tp*tn) - (fp*fn))/math.sqrt((tp + fp)*(tp + tn)*(tn + fp)*(tn + fn))\n",
    "F1 = 2/((1/re) + (1/prec))\n",
    "\n",
    "print(\"True Negative:\", tn)\n",
    "print(\"False Positive:\", fp)\n",
    "print(\"False Negative:\", fn)\n",
    "print(\"True Positive:\", tp)\n",
    "print(\"\\nError rate:\", err)\n",
    "print(\"Accuracy:\", acc)\n",
    "print(\"Recall:\", re) #sensitivity, true positive rate\n",
    "print(\"Specificity:\", sp) #true negative rate\n",
    "print(\"Precision:\", prec) #positive predictive value\n",
    "print(\"False positive rate:\", fpr)\n",
    "print(\"Mathews correlation coefficient:\", mcc)\n",
    "print(\"F1 score:\", F1)"
   ]
  },
  {
   "cell_type": "code",
   "execution_count": 135,
   "id": "c54e7acb",
   "metadata": {},
   "outputs": [
    {
     "name": "stdout",
     "output_type": "stream",
     "text": [
      "                   Feature  Importance\n",
      "12          rprompt60Bayes    0.188403\n",
      "1                  fprompt    0.175993\n",
      "4                   fmaxpe    0.135550\n",
      "16           mblikelihoodR    0.051615\n",
      "15           mblikelihoodZ    0.050386\n",
      "8   chargesecondbottomring    0.046229\n",
      "11                nSCBayes    0.045484\n",
      "18               timefit2Y    0.041596\n",
      "5            chargetopring    0.037453\n",
      "14           mblikelihoodY    0.032838\n",
      "9    chargethirdbottomring    0.027037\n",
      "6         chargesecondring    0.023137\n",
      "2                eventTime    0.023039\n",
      "10      pulseindexfirstgar    0.022335\n",
      "20                  deltat    0.021550\n",
      "0                      qPE    0.020666\n",
      "19               timefit2Z    0.020185\n",
      "13           mblikelihoodX    0.014477\n",
      "7         chargebottomring    0.010499\n",
      "17               timefit2X    0.009360\n",
      "3           numEarlyPulses    0.002167\n",
      "\n",
      "Total Importance: 0.9999999999999996\n"
     ]
    }
   ],
   "source": [
    "# Get the feature importances\n",
    "importance = boosted_tree.feature_importances_\n",
    "\n",
    "# Create a DataFrame to display the feature importances\n",
    "feature_importances_df = pd.DataFrame({'Feature': X.columns, 'Importance': importance})\n",
    "\n",
    "# Sort the DataFrame by importance in descending order\n",
    "feature_importances_df = feature_importances_df.sort_values(by='Importance', ascending=False)\n",
    "\n",
    "print(feature_importances_df)\n",
    "\n",
    "# Sum all the importance values\n",
    "total_importance = feature_importances_df.sum()\n",
    "print(\"\")\n",
    "print(f\"Total Importance: {total_importance['Importance']}\")"
   ]
  },
  {
   "cell_type": "code",
   "execution_count": 136,
   "id": "77f053a1",
   "metadata": {},
   "outputs": [
    {
     "data": {
      "image/png": "[encoded data removed]",
      "text/plain": [
       "<Figure size 576x432 with 1 Axes>"
      ]
     },
     "metadata": {
      "needs_background": "light"
     },
     "output_type": "display_data"
    }
   ],
   "source": [
    "# Get predicted probabilities for the positive class (1) on the test set\n",
    "y_prob = boosted_tree.predict_proba(X_test)[:, 1]\n",
    "\n",
    "# Compute the ROC curve\n",
    "fpr, tpr, thresholds = roc_curve(y_test, y_prob)\n",
    "roc_auc = auc(fpr, tpr)\n",
    "\n",
    "# Plot the ROC curve\n",
    "plt.figure(figsize=(8, 6))\n",
    "plt.plot(fpr, tpr, color='g', lw=2, label='ROC curve (area under the curve (AUC) = {:.2f})'.format(roc_auc))\n",
    "plt.plot([0, 1], [0, 1], color='gray', lw=1, linestyle='--')\n",
    "plt.xlim([0.0, 1.0])\n",
    "plt.ylim([0.0, 1.05])\n",
    "plt.xlabel('False Positive Rate (Positive label: multiple)')\n",
    "plt.ylabel('True Positive Rate (Positive label: multiple)')\n",
    "plt.title('Receiver Operating Characteristic (ROC) Curve for BDT Classifier')\n",
    "plt.legend(loc='lower right')\n",
    "plt.grid(True)\n",
    "plt.show()"
   ]
  },
  {
   "cell_type": "code",
   "execution_count": 40,
   "id": "b4757d4e",
   "metadata": {},
   "outputs": [
    {
     "name": "stdout",
     "output_type": "stream",
     "text": [
      "          qPE   fprompt  eventTime  numEarlyPulses    fmaxpe  chargetopring  \\\n",
      "0     60.9802  0.559862    2467.23               0  0.045019         1.8328   \n",
      "1  16519.6000  0.277253    2502.45               0  0.048636       166.0620   \n",
      "2  11684.6000  0.307023    2505.10               1  0.024145       123.7850   \n",
      "3  30444.1000  0.272028    2532.87               1  0.044508       370.8210   \n",
      "4  18898.1000  0.277293    2521.83               0  0.037808       227.8460   \n",
      "\n",
      "   chargesecondring  chargebottomring  chargesecondbottomring  \\\n",
      "0          0.913071             0.000                0.878396   \n",
      "1        209.693000           262.459              275.934000   \n",
      "2        122.137000           276.884              307.636000   \n",
      "3        358.412000           464.779              422.160000   \n",
      "4        226.994000           252.538              249.938000   \n",
      "\n",
      "   chargethirdbottomring  ...  mblikelihoodX  mblikelihoodY  mblikelihoodZ  \\\n",
      "0                 1.0473  ...      -599.4120        221.057      140.90600   \n",
      "1               228.9790  ...       663.7850       -251.793     -193.93100   \n",
      "2               291.1130  ...      -339.4040       -289.935     -427.63500   \n",
      "3               443.8510  ...        57.7135        724.301        9.02311   \n",
      "4               238.0160  ...      -399.7970       -495.889      350.43000   \n",
      "\n",
      "   mblikelihoodR  timefit2X  timefit2Y  timefit2Z      deltat  lateNhit  \\\n",
      "0        654.229  -644.8190    208.863    92.5695           0        27   \n",
      "1        735.948   652.0940   -242.133  -179.9970   358133000       253   \n",
      "2        618.165  -635.5710   -154.710  -497.6510   375329000       253   \n",
      "3        726.652    71.2121    710.994    62.1198   426357000       253   \n",
      "4        727.011  -408.9250   -480.436   343.2100  1096320000       253   \n",
      "\n",
      "   mblikelihoodE  \n",
      "0        60.1731  \n",
      "1     14253.2000  \n",
      "2      9976.4000  \n",
      "3     26784.5000  \n",
      "4     16471.6000  \n",
      "\n",
      "[5 rows x 23 columns]\n"
     ]
    }
   ],
   "source": [
    "#pip install root-numpy #issue with root version ImportError: dynamic module does not define module export function (PyInit_libPyROOT)\n",
    "#save predicted multiple recoils to a .root file\n",
    "\n",
    "# Convert y_pred to a DataFrame with a column name\n",
    "y2_pred = pd.DataFrame(data = y_pred, index=X_test.index, columns = [var])\n",
    "\n",
    "prediction = pd.concat([X_test, y2_pred], axis=1)\n",
    "\n",
    "#keep only multiple recoils and drop that column\n",
    "prediction = prediction[prediction[var] == 1]\n",
    "prediction = prediction.drop([var], axis=1)\n",
    "\n",
    "#reset the indexes of prediction\n",
    "prediction.reset_index(drop=True, inplace=True)\n",
    "\n",
    "print(prediction.head())\n",
    "#save to csv\n",
    "#prediction.to_csv('prediction.csv', index=False)"
   ]
  },
  {
   "cell_type": "code",
   "execution_count": 41,
   "id": "a31998f9",
   "metadata": {},
   "outputs": [
    {
     "name": "stdout",
     "output_type": "stream",
     "text": [
      "There are 44 events in strip1.\n",
      "There are 35 events in strip2.\n",
      "There are 11 events in strip3.\n",
      "There are 7 events in the R.o.I.\n",
      "There are 7 events in the PLR R.o.I.\n"
     ]
    },
    {
     "name": "stderr",
     "output_type": "stream",
     "text": [
      "Warning in <TFile::Init>: file new_blinding_boxes.root probably not closed, trying to recover\n",
      "Info in <TFile::Recover>: new_blinding_boxes.root, recovered key TGraph:roi_gr at address 242\n",
      "Info in <TFile::Recover>: new_blinding_boxes.root, recovered key TGraph:strip2_gr at address 3281\n",
      "Info in <TFile::Recover>: new_blinding_boxes.root, recovered key TGraph:strip1_gr at address 4352\n",
      "Warning in <TFile::Init>: successfully recovered 3 keys\n",
      "Warning in <TFile::Init>: no StreamerInfo found in new_blinding_boxes.root therefore preventing schema evolution when reading this file. The file was produced with version 5.34/36 of ROOT.\n"
     ]
    }
   ],
   "source": [
    "# Path to the .root file\n",
    "root_file_path = 'roi_802_days_11March2020_nsc_rp60_all_tops.root'\n",
    "root_file_path2 = 'new_blinding_boxes.root'\n",
    "root_file_path3 = 'save_roi_PLR.root'\n",
    "\n",
    "# Name of the TCutG you want to use\n",
    "strip1_name = 'strip1_gr'\n",
    "strip2_name = 'strip2_gr'\n",
    "strip3_name = 'roi_gr'\n",
    "roi_name = 'roi_top30_cut'\n",
    "roi_plr_name = 'roi_plr_gr'\n",
    "\n",
    "root_file = ROOT.TFile.Open(root_file_path)\n",
    "root_file2 = ROOT.TFile.Open(root_file_path2)\n",
    "root_file3 = ROOT.TFile.Open(root_file_path3)\n",
    "\n",
    "roi = root_file.Get(roi_name)\n",
    "strip1 = root_file2.Get(strip1_name)\n",
    "strip2 = root_file2.Get(strip2_name)\n",
    "strip3 = root_file2.Get(strip3_name)\n",
    "roi_plr = root_file3.Get(roi_plr_name)\n",
    "\n",
    "# Step 2: Define a function to evaluate the TCutG for each event in the DataFrame\n",
    "def apply_tcutg(df, cutg, cut_name):\n",
    "    # Create a new column to store the result of the TCutG evaluation\n",
    "    column_name = 'passes_cut' + cut_name\n",
    "    df[column_name] = False\n",
    "\n",
    "    # Evaluate the TCutG for each event in the DataFrame\n",
    "    for i in range(df.shape[0]):\n",
    "        if cutg.IsInside(df['qPE'][i], df['fprompt'][i]):\n",
    "            df.loc[i, column_name] = True\n",
    "\n",
    "apply_tcutg(prediction, strip1, '_strip1')\n",
    "apply_tcutg(prediction, strip2, '_strip2')\n",
    "apply_tcutg(prediction, strip3, '_strip3')\n",
    "apply_tcutg(prediction, roi, '_roi')\n",
    "apply_tcutg(prediction, roi_plr, '_roi_plr')\n",
    "\n",
    "passed_s1 = prediction['passes_cut_strip1'].value_counts()[1]\n",
    "passed_s2 = prediction['passes_cut_strip2'].value_counts()[1]\n",
    "passed_s3 = prediction['passes_cut_strip3'].value_counts()[1]\n",
    "passed_roi = prediction['passes_cut_roi'].value_counts()[1]\n",
    "passed_roi_plr = prediction['passes_cut_roi_plr'].value_counts()[1]\n",
    "\n",
    "print('There are', passed_s1, 'events in strip1.')\n",
    "print('There are', passed_s2, 'events in strip2.')\n",
    "print('There are', passed_s3, 'events in strip3.')\n",
    "print('There are', passed_roi, 'events in the R.o.I.')\n",
    "print('There are', passed_roi_plr, 'events in the PLR R.o.I.')\n",
    "# Step 3: Print the DataFrame after applying the cut\n",
    "#print(prediction)\n",
    "\n",
    "# Close the ROOT file\n",
    "root_file.Close()\n",
    "root_file2.Close()\n",
    "root_file3.Close()"
   ]
  },
  {
   "cell_type": "code",
   "execution_count": null,
   "id": "acc27315",
   "metadata": {},
   "outputs": [],
   "source": []
  }
 ],
 "metadata": {
  "kernelspec": {
   "display_name": "Python 3 (ipykernel)",
   "language": "python",
   "name": "python3"
  },
  "language_info": {
   "codemirror_mode": {
    "name": "ipython",
    "version": 3
   },
   "file_extension": ".py",
   "mimetype": "text/x-python",
   "name": "python",
   "nbconvert_exporter": "python",
   "pygments_lexer": "ipython3",
   "version": "3.8.10"
  }
 },
 "nbformat": 4,
 "nbformat_minor": 5
}
