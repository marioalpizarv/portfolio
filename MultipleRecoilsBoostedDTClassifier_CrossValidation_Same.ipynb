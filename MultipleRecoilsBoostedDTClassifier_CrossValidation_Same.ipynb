{
 "cells": [
  {
   "cell_type": "code",
   "execution_count": 81,
   "id": "e958e909",
   "metadata": {},
   "outputs": [],
   "source": [
    "import pandas as pd\n",
    "import numpy as np\n",
    "import matplotlib.pyplot as plt\n",
    "from sklearn.model_selection import train_test_split\n",
    "from sklearn.metrics import confusion_matrix\n",
    "from sklearn.metrics import plot_roc_curve\n",
    "from sklearn.metrics import roc_curve, auc\n",
    "import seaborn as sns\n",
    "import math\n",
    "\n",
    "#Import DecisionTree as a classifier\n",
    "from sklearn.ensemble import GradientBoostingClassifier\n",
    "from sklearn.model_selection import cross_val_score\n",
    "from sklearn.model_selection import cross_validate\n",
    "from sklearn.metrics import accuracy_score\n",
    "#https://scikit-learn.org/stable/modules/generated/sklearn.metrics.recall_score.html\n",
    "from sklearn.metrics import recall_score\n",
    "#https://scikit-learn.org/stable/modules/generated/sklearn.metrics.precision_score.html\n",
    "from sklearn.metrics import precision_score\n",
    "\n",
    "import tensorflow as tf"
   ]
  },
  {
   "cell_type": "code",
   "execution_count": 82,
   "id": "8fa78141",
   "metadata": {
    "scrolled": true
   },
   "outputs": [
    {
     "name": "stdout",
     "output_type": "stream",
     "text": [
      "(1209, 25)\n"
     ]
    }
   ],
   "source": [
    "path = '/home/malpizar/Documents/MultipleScattering/backup/'\n",
    "file = 'RecoilsData.csv'\n",
    "\n",
    "df = pd.read_csv(path + file)\n",
    "\n",
    "#drop events with no recoils at all\n",
    "df = df[df['ar40recoils'] != 0]\n",
    "\n",
    "#drop rows with the value -99999, these are outliers\n",
    "df = df.drop(index=df[df.eq(-99999).any(axis=1)].index)\n",
    "\n",
    "df.head()\n",
    "print(df.shape)"
   ]
  },
  {
   "cell_type": "code",
   "execution_count": 83,
   "id": "8e97e195",
   "metadata": {},
   "outputs": [
    {
     "name": "stdout",
     "output_type": "stream",
     "text": [
      "(1209, 24)\n"
     ]
    }
   ],
   "source": [
    "#drop the variable used to make the flags for multiple recoils\n",
    "df = df.drop(['ar40recoils'], axis=1) \n",
    "print(df.shape)"
   ]
  },
  {
   "cell_type": "code",
   "execution_count": 84,
   "id": "6eabf962",
   "metadata": {},
   "outputs": [
    {
     "name": "stdout",
     "output_type": "stream",
     "text": [
      "1    934\n",
      "0    275\n",
      "Name: multiplerecoils, dtype: int64\n",
      "1    934\n",
      "0    275\n",
      "Name: multiplerecoils, dtype: int64\n"
     ]
    }
   ],
   "source": [
    "# Count the occurrences of each value in multiplerecoils\n",
    "value_counts = df['multiplerecoils'].value_counts()\n",
    "print(value_counts)\n",
    "# Drop rows with multiplerecoils to make it more even between multiple and single\n",
    "#df = df.drop(df[df['multiplerecoils'] == 1].head(659).index) #50-50\n",
    "#df = df.drop(df[df['multiplerecoils'] == 1].head(659).index)\n",
    "# Count the occurrences of each value in multiplerecoils again\n",
    "value_counts = df['multiplerecoils'].value_counts()\n",
    "print(value_counts)"
   ]
  },
  {
   "cell_type": "code",
   "execution_count": 85,
   "id": "212a34ef",
   "metadata": {},
   "outputs": [],
   "source": [
    "# Get a random permutation of the DataFrame's index\n",
    "random_order = np.random.RandomState(seed=9).permutation(df.index)\n",
    "\n",
    "# Reorder the DataFrame randomly using the random permutation\n",
    "df = df.loc[random_order]"
   ]
  },
  {
   "cell_type": "code",
   "execution_count": 86,
   "id": "2cfb3e58",
   "metadata": {},
   "outputs": [
    {
     "name": "stdout",
     "output_type": "stream",
     "text": [
      "1    934\n",
      "0    275\n",
      "Name: multiplerecoils, dtype: int64\n"
     ]
    }
   ],
   "source": [
    "# Count the occurrences of each value in multiplerecoils again\n",
    "value_counts = df['multiplerecoils'].value_counts()\n",
    "print(value_counts)"
   ]
  },
  {
   "cell_type": "code",
   "execution_count": 87,
   "id": "f98df068",
   "metadata": {},
   "outputs": [
    {
     "name": "stdout",
     "output_type": "stream",
     "text": [
      "(1209, 23)\n",
      "(1209,)\n"
     ]
    }
   ],
   "source": [
    "#dependent variable that will be predicted\n",
    "var = 'multiplerecoils'\n",
    "\n",
    "X = df.drop([var], axis=1)\n",
    "\n",
    "# Select the dependent variable\n",
    "y = df[var] \n",
    "\n",
    "print(X.shape)\n",
    "print(y.shape)"
   ]
  },
  {
   "cell_type": "code",
   "execution_count": 88,
   "id": "088e2350",
   "metadata": {},
   "outputs": [
    {
     "name": "stdout",
     "output_type": "stream",
     "text": [
      "Created Boosted Decision Tree Classifier\n"
     ]
    }
   ],
   "source": [
    "# Create the GradientBoostingClassifier (Boosted Decision Tree)\n",
    "boosted_tree = GradientBoostingClassifier(n_estimators=100, learning_rate=0.1, random_state=42)\n",
    "\n",
    "print(\"Created Boosted Decision Tree Classifier\")"
   ]
  },
  {
   "cell_type": "code",
   "execution_count": 89,
   "id": "30235ec7",
   "metadata": {},
   "outputs": [
    {
     "name": "stdout",
     "output_type": "stream",
     "text": [
      "Cross-Validation Scores:\n",
      "Fold 1: 0.80\n",
      "Fold 2: 0.76\n",
      "Fold 3: 0.76\n",
      "Fold 4: 0.82\n",
      "Fold 5: 0.79\n",
      "Fold 6: 0.81\n",
      "Fold 7: 0.76\n",
      "Fold 8: 0.82\n",
      "Fold 9: 0.82\n",
      "Fold 10: 0.74\n",
      "\n",
      "Average Score: 0.79\n"
     ]
    }
   ],
   "source": [
    "# Perform cross-validation with 10 folds\n",
    "# 'cv' parameter specifies the number of folds\n",
    "# 'scoring' parameter specifies the evaluation metric (e.g., 'accuracy')\n",
    "cross_val_scores = cross_val_score(boosted_tree, X, y, cv=10, scoring='accuracy')\n",
    "\n",
    "# Print the cross-validation scores for each fold\n",
    "print(\"Cross-Validation Scores:\")\n",
    "for fold, score in enumerate(cross_val_scores, start=1):\n",
    "    print(f\"Fold {fold}: {score:.2f}\")\n",
    "\n",
    "# Calculate and print the average cross-validation score\n",
    "average_score = cross_val_scores.mean()\n",
    "print(f\"\\nAverage Score: {average_score:.2f}\")"
   ]
  },
  {
   "cell_type": "code",
   "execution_count": 90,
   "id": "3ae9a745",
   "metadata": {},
   "outputs": [
    {
     "name": "stdout",
     "output_type": "stream",
     "text": [
      "Cross-Validate Test Scores:\n",
      "Fold 1: 0.80\n",
      "Fold 2: 0.76\n",
      "Fold 3: 0.76\n",
      "Fold 4: 0.82\n",
      "Fold 5: 0.79\n",
      "Fold 6: 0.81\n",
      "Fold 7: 0.76\n",
      "Fold 8: 0.82\n",
      "Fold 9: 0.82\n",
      "Fold 10: 0.74\n",
      "\n",
      "Average Test Score: 0.79\n",
      "\n",
      "Cross-Validate Train Scores:\n",
      "Fold 1: 0.93\n",
      "Fold 2: 0.92\n",
      "Fold 3: 0.93\n",
      "Fold 4: 0.94\n",
      "Fold 5: 0.92\n",
      "Fold 6: 0.93\n",
      "Fold 7: 0.93\n",
      "Fold 8: 0.94\n",
      "Fold 9: 0.93\n",
      "Fold 10: 0.93\n",
      "\n",
      "Average Train Score: 0.93\n",
      "\n",
      "Fit Times (s):\n",
      "Fold 1: 0.44\n",
      "Fold 2: 0.55\n",
      "Fold 3: 0.42\n",
      "Fold 4: 0.48\n",
      "Fold 5: 0.63\n",
      "Fold 6: 0.40\n",
      "Fold 7: 0.38\n",
      "Fold 8: 0.38\n",
      "Fold 9: 0.42\n",
      "Fold 10: 0.42\n",
      "\n",
      "Average fit time: 0.45\n",
      "\n",
      "Score Times (s):\n",
      "Fold 1: 0.00\n",
      "Fold 2: 0.00\n",
      "Fold 3: 0.00\n",
      "Fold 4: 0.00\n",
      "Fold 5: 0.00\n",
      "Fold 6: 0.00\n",
      "Fold 7: 0.00\n",
      "Fold 8: 0.00\n",
      "Fold 9: 0.00\n",
      "Fold 10: 0.00\n",
      "\n",
      "Average score time: 0.00\n"
     ]
    }
   ],
   "source": [
    "scores = cross_validate(boosted_tree, X, y, cv=10, scoring='accuracy',return_train_score=True)\n",
    "\n",
    "# Print the cross-validation scores for each fold\n",
    "print(\"Cross-Validate Test Scores:\")\n",
    "for fold, score in enumerate(scores['test_score'], start=1):\n",
    "    print(f\"Fold {fold}: {score:.2f}\")\n",
    "\n",
    "# Calculate and print the average cross-validation score\n",
    "average_scoreval = scores['test_score'].mean()\n",
    "print(f\"\\nAverage Test Score: {average_scoreval:.2f}\")\n",
    "\n",
    "# Print the cross-validation train scores for each fold\n",
    "print(\"\\nCross-Validate Train Scores:\")\n",
    "for fold, score in enumerate(scores['train_score'], start=1):\n",
    "    print(f\"Fold {fold}: {score:.2f}\")\n",
    "\n",
    "# Calculate and print the average cross-validation score\n",
    "average_scoreval = scores['train_score'].mean()\n",
    "print(f\"\\nAverage Train Score: {average_scoreval:.2f}\")\n",
    "\n",
    "# Print the cross-validation fit times for each fold\n",
    "print(\"\\nFit Times (s):\")\n",
    "for fold, fit_time in enumerate(scores['fit_time'], start=1):\n",
    "    print(f\"Fold {fold}: {fit_time:.2f}\")\n",
    "\n",
    "# Calculate and print the average fit time\n",
    "average_fittime = scores['fit_time'].mean()\n",
    "print(f\"\\nAverage fit time: {average_fittime:.2f}\")\n",
    "\n",
    "# Print the cross-validation score times for each fold\n",
    "print(\"\\nScore Times (s):\")\n",
    "for fold, score_time in enumerate(scores['score_time'], start=1):\n",
    "    print(f\"Fold {fold}: {score_time:.2f}\")\n",
    "\n",
    "# Calculate and print the average score time\n",
    "average_scoretime = scores['score_time'].mean()\n",
    "print(f\"\\nAverage score time: {average_scoretime:.2f}\")"
   ]
  },
  {
   "cell_type": "code",
   "execution_count": 91,
   "id": "501ab2f5",
   "metadata": {},
   "outputs": [
    {
     "name": "stdout",
     "output_type": "stream",
     "text": [
      "(967, 23)\n",
      "(967,)\n",
      "(242, 23)\n",
      "(242,)\n"
     ]
    }
   ],
   "source": [
    "# Splitting the dataset to Train and test\n",
    "X_train, X_test, y_train, y_test = train_test_split(X, y, test_size=0.2, random_state=0)\n",
    "\n",
    "print(X_train.shape)\n",
    "print(y_train.shape)\n",
    "print(X_test.shape)\n",
    "print(y_test.shape)"
   ]
  },
  {
   "cell_type": "code",
   "execution_count": 92,
   "id": "66b9a01e",
   "metadata": {},
   "outputs": [
    {
     "name": "stdout",
     "output_type": "stream",
     "text": [
      "Training set score: 0.927611\n",
      "Test set score: 0.814050\n"
     ]
    }
   ],
   "source": [
    "#Train DT\n",
    "boosted_tree.fit(X_train, y_train)\n",
    "print(\"Training set score: %f\" % boosted_tree.score(X_train, y_train))\n",
    "print(\"Test set score: %f\" % boosted_tree.score(X_test, y_test))"
   ]
  },
  {
   "cell_type": "code",
   "execution_count": 93,
   "id": "2a62c4b9",
   "metadata": {},
   "outputs": [],
   "source": [
    "# Make predictions on the test set\n",
    "y_pred = boosted_tree.predict(X_test)"
   ]
  },
  {
   "cell_type": "code",
   "execution_count": 94,
   "id": "a0c804f6",
   "metadata": {},
   "outputs": [
    {
     "name": "stdout",
     "output_type": "stream",
     "text": [
      "Accuracy: 0.81405\n"
     ]
    }
   ],
   "source": [
    "# Calculate the accuracy of the model\n",
    "accuracy = accuracy_score(y_test, y_pred)\n",
    "print(f\"Accuracy: {accuracy:.5f}\")"
   ]
  },
  {
   "cell_type": "code",
   "execution_count": 95,
   "id": "0148aace",
   "metadata": {},
   "outputs": [
    {
     "data": {
      "image/png": "[encoded data removed]",
      "text/plain": [
       "<Figure size 360x288 with 2 Axes>"
      ]
     },
     "metadata": {
      "needs_background": "light"
     },
     "output_type": "display_data"
    }
   ],
   "source": [
    "# Creating  a confusion matrix,which compares the y_test and y_pred\n",
    "cm = confusion_matrix(y_test, y_pred)\n",
    "\n",
    "# Define the class labels\n",
    "# Create a mapping dictionary to replace 0 with 'single' and 1 with 'multiple'\n",
    "label_mapping = {0: 'single recoils', 1: 'multiple recoils'}\n",
    "\n",
    "# Replace the labels using the mapping dictionary\n",
    "df[var] = df[var].replace(label_mapping)\n",
    "\n",
    "class_labels = df[var].unique()\n",
    "#class_labels = ['single recoils', 'multiple recoils']\n",
    "\n",
    "#print(df[var].unique())\n",
    "\n",
    "# Plot the confusion matrix\n",
    "plt.figure(figsize=(5, 4))\n",
    "sns.heatmap(cm, annot=True, cmap='Greens', fmt='d')\n",
    "\n",
    "# Add a legend\n",
    "plt.xticks(ticks=np.arange(len(class_labels)) + 0.5, labels=class_labels)\n",
    "plt.yticks(ticks=np.arange(len(class_labels)) + 0.5, labels=class_labels)\n",
    "plt.xlabel('Predicted')\n",
    "plt.ylabel('True')\n",
    "plt.title('Confusion Matrix')\n",
    "\n",
    "# Display the plot\n",
    "plt.show()"
   ]
  },
  {
   "cell_type": "code",
   "execution_count": 96,
   "id": "ffc4d2cf",
   "metadata": {},
   "outputs": [
    {
     "name": "stdout",
     "output_type": "stream",
     "text": [
      "The recall is:  0.9567567567567568\n",
      "The precision is:  0.8271028037383178\n",
      "The F1-score is:  0.8872180451127819\n",
      "\n",
      "The weighted recall is:  0.8140495867768595\n",
      "The weighted precision is:  0.8005301834953493\n",
      "The weighted F1-score is:  0.8072332839484601\n"
     ]
    }
   ],
   "source": [
    "#calculate recall, precision and F1 score\n",
    "\n",
    "rec = recall_score(y_test, y_pred)#, average='binary')\n",
    "#The recall is intuitively the ability of the classifier to find all the positive samples.\n",
    "pres = precision_score(y_test, y_pred)#, average='binary')\n",
    "#The precision is intuitively the ability of the classifier not to label as positive a sample that is negative.\n",
    "F1_score = 2/((1/rec) + (1/pres))\n",
    "#F1 is the harmmonic mean between recall and precision\n",
    "\n",
    "#weighted metrics\n",
    "wrec = recall_score(y_test, y_pred, average='weighted')\n",
    "wpres = precision_score(y_test, y_pred, average='weighted')\n",
    "wF1_score = 2/((1/wrec) + (1/wpres))\n",
    "\n",
    "print(\"The recall is: \", rec)\n",
    "print(\"The precision is: \", pres)\n",
    "print(\"The F1-score is: \", F1_score)\n",
    "\n",
    "print(\"\\nThe weighted recall is: \", wrec)\n",
    "print(\"The weighted precision is: \", wpres)\n",
    "print(\"The weighted F1-score is: \", wF1_score)"
   ]
  },
  {
   "cell_type": "code",
   "execution_count": 97,
   "id": "9923e4e0",
   "metadata": {},
   "outputs": [
    {
     "name": "stdout",
     "output_type": "stream",
     "text": [
      "True Negative: 20\n",
      "False Positive: 37\n",
      "False Negative: 8\n",
      "True Positive: 177\n",
      "\n",
      "Error rate: 0.1859504132231405\n",
      "Accuracy: 0.8140495867768595\n",
      "Recall: 0.9567567567567568\n",
      "Specificity: 0.3508771929824561\n",
      "Precision: 0.8271028037383178\n",
      "False positive rate: 0.6491228070175439\n",
      "Mathews correlation coefficient: 0.3954798878038077\n",
      "F1 score: 0.8872180451127819\n"
     ]
    }
   ],
   "source": [
    "#metrics by hand\n",
    "\n",
    "tn, fp, fn, tp = cm.ravel()\n",
    "\n",
    "err = (fp + fn)/(fp + fn + tn + tp)\n",
    "acc = (tp + tn)/(fp + fn + tn + tp)\n",
    "re = tp/(tp + fn)\n",
    "sp = tn/(tn + fp)\n",
    "prec = tp/(tp + fp)\n",
    "fpr = fp/(tn + fp)\n",
    "mcc = ((tp*tn) - (fp*fn))/math.sqrt((tp + fp)*(tp + tn)*(tn + fp)*(tn + fn))\n",
    "F1 = 2/((1/re) + (1/prec))\n",
    "\n",
    "print(\"True Negative:\", tn)\n",
    "print(\"False Positive:\", fp)\n",
    "print(\"False Negative:\", fn)\n",
    "print(\"True Positive:\", tp)\n",
    "print(\"\\nError rate:\", err)\n",
    "print(\"Accuracy:\", acc)\n",
    "print(\"Recall:\", re) #sensitivity, true positive rate\n",
    "print(\"Specificity:\", sp) #true negative rate\n",
    "print(\"Precision:\", prec) #positive predictive value\n",
    "print(\"False positive rate:\", fpr)\n",
    "print(\"Mathews correlation coefficient:\", mcc)\n",
    "print(\"F1 score:\", F1)\n",
    "\n",
    "\n"
   ]
  },
  {
   "cell_type": "code",
   "execution_count": 98,
   "id": "c54e7acb",
   "metadata": {},
   "outputs": [
    {
     "name": "stdout",
     "output_type": "stream",
     "text": [
      "                   Feature  Importance\n",
      "14          rprompt60Bayes    0.167773\n",
      "1                  fprompt    0.147616\n",
      "5                   fmaxpe    0.102000\n",
      "7            chargetopring    0.069379\n",
      "13                nSCBayes    0.064147\n",
      "17           mblikelihoodZ    0.063141\n",
      "18           mblikelihoodR    0.057841\n",
      "3                eventTime    0.047502\n",
      "0                      qPE    0.036011\n",
      "16           mblikelihoodY    0.033645\n",
      "10  chargesecondbottomring    0.029615\n",
      "11   chargethirdbottomring    0.028005\n",
      "12      pulseindexfirstgar    0.025253\n",
      "20               timefit2Y    0.024059\n",
      "8         chargesecondring    0.021808\n",
      "22                  deltat    0.021399\n",
      "15           mblikelihoodX    0.018589\n",
      "9         chargebottomring    0.017443\n",
      "19               timefit2X    0.012830\n",
      "21               timefit2Z    0.007597\n",
      "4           numEarlyPulses    0.004189\n",
      "2                subeventN    0.000158\n",
      "6                neckVetoN    0.000000\n",
      "\n",
      "Total Importance: 0.9999999999999998\n"
     ]
    }
   ],
   "source": [
    "# Get the feature importances\n",
    "importance = boosted_tree.feature_importances_\n",
    "\n",
    "# Create a DataFrame to display the feature importances\n",
    "feature_importances_df = pd.DataFrame({'Feature': X.columns, 'Importance': importance})\n",
    "\n",
    "# Sort the DataFrame by importance in descending order\n",
    "feature_importances_df = feature_importances_df.sort_values(by='Importance', ascending=False)\n",
    "\n",
    "print(feature_importances_df)\n",
    "\n",
    "# Sum all the importance values\n",
    "total_importance = feature_importances_df.sum()\n",
    "print(\"\")\n",
    "print(f\"Total Importance: {total_importance['Importance']}\")"
   ]
  },
  {
   "cell_type": "code",
   "execution_count": 99,
   "id": "77f053a1",
   "metadata": {},
   "outputs": [
    {
     "data": {
      "image/png": "[encoded data removed]",
      "text/plain": [
       "<Figure size 576x432 with 1 Axes>"
      ]
     },
     "metadata": {
      "needs_background": "light"
     },
     "output_type": "display_data"
    }
   ],
   "source": [
    "# Get predicted probabilities for the positive class (1) on the test set\n",
    "y_prob = boosted_tree.predict_proba(X_test)[:, 1]\n",
    "\n",
    "# Compute the ROC curve\n",
    "fpr, tpr, thresholds = roc_curve(y_test, y_prob)\n",
    "roc_auc = auc(fpr, tpr)\n",
    "\n",
    "# Plot the ROC curve\n",
    "plt.figure(figsize=(8, 6))\n",
    "plt.plot(fpr, tpr, color='g', lw=2, label='ROC curve (area under the curve (AUC) = {:.2f})'.format(roc_auc))\n",
    "plt.plot([0, 1], [0, 1], color='gray', lw=1, linestyle='--')\n",
    "plt.xlim([0.0, 1.0])\n",
    "plt.ylim([0.0, 1.05])\n",
    "plt.xlabel('False Positive Rate (Positive label: multiple)')\n",
    "plt.ylabel('True Positive Rate (Positive label: multiple)')\n",
    "plt.title('Receiver Operating Characteristic (ROC) Curve')\n",
    "plt.legend(loc='lower right')\n",
    "plt.grid(True)\n",
    "plt.show()"
   ]
  },
  {
   "cell_type": "code",
   "execution_count": null,
   "id": "0942b2f4",
   "metadata": {},
   "outputs": [],
   "source": []
  }
 ],
 "metadata": {
  "kernelspec": {
   "display_name": "Python 3 (ipykernel)",
   "language": "python",
   "name": "python3"
  },
  "language_info": {
   "codemirror_mode": {
    "name": "ipython",
    "version": 3
   },
   "file_extension": ".py",
   "mimetype": "text/x-python",
   "name": "python",
   "nbconvert_exporter": "python",
   "pygments_lexer": "ipython3",
   "version": "3.8.10"
  }
 },
 "nbformat": 4,
 "nbformat_minor": 5
}
