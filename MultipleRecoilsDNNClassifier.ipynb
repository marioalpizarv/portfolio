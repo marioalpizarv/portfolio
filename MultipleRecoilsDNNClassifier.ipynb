{
 "cells": [
  {
   "cell_type": "code",
   "execution_count": 26,
   "id": "e958e909",
   "metadata": {},
   "outputs": [],
   "source": [
    "import pandas as pd\n",
    "import numpy as np\n",
    "import matplotlib.pyplot as plt\n",
    "from sklearn.model_selection import train_test_split\n",
    "from sklearn.metrics import confusion_matrix\n",
    "from sklearn.metrics import plot_roc_curve\n",
    "from sklearn.metrics import roc_curve, auc\n",
    "import seaborn as sns\n",
    "import math\n",
    "\n",
    "#Import Neural Network as a classifier\n",
    "from sklearn.preprocessing import StandardScaler\n",
    "from tensorflow.keras import layers, models\n",
    "from sklearn.model_selection import KFold\n",
    "from sklearn.model_selection import cross_val_score\n",
    "from sklearn.model_selection import cross_validate\n",
    "from sklearn.metrics import accuracy_score\n",
    "#https://scikit-learn.org/stable/modules/generated/sklearn.metrics.recall_score.html\n",
    "from sklearn.metrics import recall_score\n",
    "#https://scikit-learn.org/stable/modules/generated/sklearn.metrics.precision_score.html\n",
    "from sklearn.metrics import precision_score"
   ]
  },
  {
   "cell_type": "code",
   "execution_count": 27,
   "id": "8fa78141",
   "metadata": {
    "scrolled": true
   },
   "outputs": [
    {
     "name": "stdout",
     "output_type": "stream",
     "text": [
      "(1209, 25)\n"
     ]
    }
   ],
   "source": [
    "path = '/home/malpizar/Documents/MultipleScattering/backup/'\n",
    "file = 'RecoilsData.csv'\n",
    "\n",
    "df = pd.read_csv(path + file)\n",
    "\n",
    "#drop events with no recoils at all\n",
    "df = df[df['ar40recoils'] != 0]\n",
    "\n",
    "#drop rows with the value -99999, these are outliers\n",
    "df = df.drop(index=df[df.eq(-99999).any(axis=1)].index)\n",
    "\n",
    "df.head()\n",
    "print(df.shape)"
   ]
  },
  {
   "cell_type": "code",
   "execution_count": 28,
   "id": "8e97e195",
   "metadata": {},
   "outputs": [
    {
     "name": "stdout",
     "output_type": "stream",
     "text": [
      "(1209, 24)\n"
     ]
    }
   ],
   "source": [
    "#drop the variable used to make the flags for multiple recoils\n",
    "df = df.drop(['ar40recoils'], axis=1) \n",
    "print(df.shape)"
   ]
  },
  {
   "cell_type": "code",
   "execution_count": 29,
   "id": "6eabf962",
   "metadata": {},
   "outputs": [
    {
     "name": "stdout",
     "output_type": "stream",
     "text": [
      "1    934\n",
      "0    275\n",
      "Name: multiplerecoils, dtype: int64\n",
      "Df shuffled.\n"
     ]
    }
   ],
   "source": [
    "# Count the occurrences of each value in multiplerecoils\n",
    "value_counts = df['multiplerecoils'].value_counts()\n",
    "print(value_counts)\n",
    "\n",
    "# Drop rows with multiplerecoils to make it more even between multiple and single\n",
    "#df = df.drop(df[df['multiplerecoils'] == 1].head(659).index) #50-50\n",
    "#df = df.drop(df[df['multiplerecoils'] == 1].head(659).index)\n",
    "\n",
    "# Get a random permutation of the DataFrame's index\n",
    "random_order = np.random.RandomState(seed=42).permutation(df.index)\n",
    "\n",
    "# Reorder the DataFrame randomly using the random permutation\n",
    "df = df.loc[random_order]\n",
    "\n",
    "print(\"Df shuffled.\")"
   ]
  },
  {
   "cell_type": "code",
   "execution_count": 30,
   "id": "f98df068",
   "metadata": {},
   "outputs": [
    {
     "name": "stdout",
     "output_type": "stream",
     "text": [
      "(1209, 23)\n",
      "(1209,)\n"
     ]
    }
   ],
   "source": [
    "#dependent variable that will be predicted\n",
    "var = 'multiplerecoils'\n",
    "\n",
    "X = df.drop([var], axis=1)\n",
    "\n",
    "# Select the dependent variable\n",
    "y = df[var] \n",
    "\n",
    "print(X.shape)\n",
    "print(y.shape)"
   ]
  },
  {
   "cell_type": "code",
   "execution_count": 31,
   "id": "f6b2d052",
   "metadata": {},
   "outputs": [
    {
     "name": "stdout",
     "output_type": "stream",
     "text": [
      "(967, 23)\n",
      "(967,)\n",
      "(242, 23)\n",
      "(242,)\n"
     ]
    }
   ],
   "source": [
    "# Splitting the dataset to Train and test\n",
    "X_train, X_test, y_train, y_test = train_test_split(X, y, test_size=0.2, random_state=0)\n",
    "\n",
    "print(X_train.shape)\n",
    "print(y_train.shape)\n",
    "print(X_test.shape)\n",
    "print(y_test.shape)"
   ]
  },
  {
   "cell_type": "code",
   "execution_count": 32,
   "id": "832a6116",
   "metadata": {},
   "outputs": [],
   "source": [
    "# Standardize the features (optional but recommended for neural networks)\n",
    "#scaler = StandardScaler()\n",
    "#X_train = scaler.fit_transform(X_train)\n",
    "#X_test = scaler.transform(X_test)"
   ]
  },
  {
   "cell_type": "code",
   "execution_count": 33,
   "id": "12c352e2",
   "metadata": {},
   "outputs": [
    {
     "name": "stdout",
     "output_type": "stream",
     "text": [
      "Model: \"sequential_3\"\n",
      "_________________________________________________________________\n",
      " Layer (type)                Output Shape              Param #   \n",
      "=================================================================\n",
      " dense_6 (Dense)             (None, 64)                1536      \n",
      "                                                                 \n",
      " dense_7 (Dense)             (None, 32)                2080      \n",
      "                                                                 \n",
      " dense_8 (Dense)             (None, 1)                 33        \n",
      "                                                                 \n",
      "=================================================================\n",
      "Total params: 3,649\n",
      "Trainable params: 3,649\n",
      "Non-trainable params: 0\n",
      "_________________________________________________________________\n",
      "Epoch 1/20\n",
      "28/28 [==============================] - 1s 11ms/step - loss: 3458066.2500 - accuracy: 0.6471 - val_loss: 323825.0000 - val_accuracy: 0.7629\n",
      "Epoch 2/20\n",
      "28/28 [==============================] - 0s 5ms/step - loss: 1391164.3750 - accuracy: 0.6931 - val_loss: 2020379.3750 - val_accuracy: 0.3196\n",
      "Epoch 3/20\n",
      "28/28 [==============================] - 0s 5ms/step - loss: 2535508.5000 - accuracy: 0.6747 - val_loss: 2716896.5000 - val_accuracy: 0.7732\n",
      "Epoch 4/20\n",
      "28/28 [==============================] - 0s 5ms/step - loss: 1536399.8750 - accuracy: 0.6701 - val_loss: 1369024.8750 - val_accuracy: 0.7835\n",
      "Epoch 5/20\n",
      "28/28 [==============================] - 0s 5ms/step - loss: 2033756.0000 - accuracy: 0.7000 - val_loss: 180136.0156 - val_accuracy: 0.3299\n",
      "Epoch 6/20\n",
      "28/28 [==============================] - 0s 4ms/step - loss: 1049393.7500 - accuracy: 0.6920 - val_loss: 106797.5156 - val_accuracy: 0.7216\n",
      "Epoch 7/20\n",
      "28/28 [==============================] - 0s 4ms/step - loss: 701109.6250 - accuracy: 0.6540 - val_loss: 485799.2500 - val_accuracy: 0.7732\n",
      "Epoch 8/20\n",
      "28/28 [==============================] - 0s 5ms/step - loss: 1724640.2500 - accuracy: 0.7046 - val_loss: 2085365.5000 - val_accuracy: 0.7835\n",
      "Epoch 9/20\n",
      "28/28 [==============================] - 0s 5ms/step - loss: 1563889.6250 - accuracy: 0.6644 - val_loss: 1503842.0000 - val_accuracy: 0.7835\n",
      "Epoch 10/20\n",
      "28/28 [==============================] - 0s 4ms/step - loss: 1246414.7500 - accuracy: 0.7057 - val_loss: 1678717.2500 - val_accuracy: 0.2887\n",
      "Epoch 11/20\n",
      "28/28 [==============================] - 0s 4ms/step - loss: 1688707.3750 - accuracy: 0.6897 - val_loss: 1846669.5000 - val_accuracy: 0.3299\n",
      "Epoch 12/20\n",
      "28/28 [==============================] - 0s 5ms/step - loss: 1978120.0000 - accuracy: 0.6690 - val_loss: 1275294.8750 - val_accuracy: 0.7732\n",
      "Epoch 13/20\n",
      "28/28 [==============================] - 0s 5ms/step - loss: 1648365.8750 - accuracy: 0.6460 - val_loss: 3165159.0000 - val_accuracy: 0.7629\n",
      "Epoch 14/20\n",
      "28/28 [==============================] - 0s 5ms/step - loss: 2583810.7500 - accuracy: 0.6851 - val_loss: 958663.7500 - val_accuracy: 0.7526\n",
      "Epoch 15/20\n",
      "28/28 [==============================] - 0s 4ms/step - loss: 1125294.1250 - accuracy: 0.7034 - val_loss: 86487.2812 - val_accuracy: 0.7835\n",
      "Epoch 16/20\n",
      "28/28 [==============================] - 0s 3ms/step - loss: 1091320.8750 - accuracy: 0.6839 - val_loss: 1887541.0000 - val_accuracy: 0.7526\n",
      "Epoch 17/20\n",
      "28/28 [==============================] - 0s 5ms/step - loss: 2322786.5000 - accuracy: 0.6644 - val_loss: 1695480.2500 - val_accuracy: 0.7835\n",
      "Epoch 18/20\n",
      "28/28 [==============================] - 0s 6ms/step - loss: 932318.4375 - accuracy: 0.7023 - val_loss: 502362.3125 - val_accuracy: 0.7629\n",
      "Epoch 19/20\n",
      "28/28 [==============================] - 0s 5ms/step - loss: 1545324.1250 - accuracy: 0.7046 - val_loss: 775761.8750 - val_accuracy: 0.7629\n",
      "Epoch 20/20\n",
      "28/28 [==============================] - 0s 5ms/step - loss: 1536169.2500 - accuracy: 0.6529 - val_loss: 1627516.3750 - val_accuracy: 0.7835\n",
      "8/8 [==============================] - 0s 2ms/step - loss: 2542334.5000 - accuracy: 0.7769\n",
      "Test Accuracy: 0.7769\n"
     ]
    }
   ],
   "source": [
    "# Create the Dense neural network model\n",
    "model = models.Sequential()\n",
    "model.add(layers.Dense(64, activation='relu', input_shape=(X_train.shape[1],)))\n",
    "model.add(layers.Dense(32, activation='relu'))\n",
    "model.add(layers.Dense(1, activation='sigmoid'))  # Output layer for binary classification\n",
    "\n",
    "# Compile the model\n",
    "model.compile(optimizer='adam', loss='binary_crossentropy', metrics=['accuracy'])\n",
    "\n",
    "# Print the model summary\n",
    "model.summary()\n",
    "\n",
    "# Train the model\n",
    "history = model.fit(X_train, y_train, epochs=20, batch_size=32, validation_split=0.1)\n",
    "\n",
    "# Evaluate the model on the test set\n",
    "test_loss, test_accuracy = model.evaluate(X_test, y_test)\n",
    "print(f\"Test Accuracy: {test_accuracy:.4f}\")\n",
    "\n",
    "# Make predictions on new data\n",
    "#new_data = np.random.rand(5, 24)\n",
    "#new_data = scaler.transform(new_data)\n",
    "#predictions = model.predict(new_data)\n",
    "#print(\"Predictions:\")\n",
    "#print(predictions)"
   ]
  },
  {
   "cell_type": "code",
   "execution_count": 34,
   "id": "2a62c4b9",
   "metadata": {},
   "outputs": [
    {
     "name": "stdout",
     "output_type": "stream",
     "text": [
      "8/8 [==============================] - 0s 2ms/step\n"
     ]
    }
   ],
   "source": [
    "# Make predictions on the test set\n",
    "y_pred_probs = model.predict(X_test)\n",
    "y_pred = (y_pred_probs > 0.5).astype(int)"
   ]
  },
  {
   "cell_type": "code",
   "execution_count": 35,
   "id": "a0c804f6",
   "metadata": {},
   "outputs": [
    {
     "name": "stdout",
     "output_type": "stream",
     "text": [
      "Accuracy: 0.77686\n"
     ]
    }
   ],
   "source": [
    "# Calculate the accuracy of the model\n",
    "accuracy = accuracy_score(y_test, y_pred)\n",
    "print(f\"Accuracy: {accuracy:.5f}\")"
   ]
  },
  {
   "cell_type": "code",
   "execution_count": 52,
   "id": "0148aace",
   "metadata": {},
   "outputs": [
    {
     "data": {
      "image/png": "[encoded data removed]",
      "text/plain": [
       "<Figure size 360x288 with 2 Axes>"
      ]
     },
     "metadata": {
      "needs_background": "light"
     },
     "output_type": "display_data"
    },
    {
     "name": "stdout",
     "output_type": "stream",
     "text": [
      "[0 1]\n"
     ]
    }
   ],
   "source": [
    "# Creating  a confusion matrix,which compares the y_test and y_pred\n",
    "cm = confusion_matrix(y_test, y_pred)\n",
    "\n",
    "# Define the class labels\n",
    "#class_labels = df[var].unique()\n",
    "#class_labels = ['multiple recoils', 'single recoils']\n",
    "\n",
    "#print(df[var].unique())\n",
    "\n",
    "# Plot the confusion matrix\n",
    "plt.figure(figsize=(5, 4))\n",
    "sns.heatmap(cm, annot=True, cmap='Greens', fmt='d')\n",
    "\n",
    "# Add a legend\n",
    "#plt.xticks(ticks=np.arange(len(class_labels)) + 0.5, labels=class_labels)\n",
    "#plt.yticks(ticks=np.arange(len(class_labels)) + 0.5, labels=class_labels)\n",
    "tick_marks = np.arange(len(df[var].unique())) + 0.5\n",
    "plt.xticks(tick_marks, ['Single Recoils', 'Multiple Recoils'])\n",
    "plt.yticks(tick_marks, ['Single Recoils', 'Multiple Recoils'])\n",
    "plt.xlabel('Predicted')\n",
    "plt.ylabel('True')\n",
    "plt.title('Confusion Matrix for DNN Classifier')\n",
    "\n",
    "# Display the plot\n",
    "plt.show()\n",
    "print(np.arange(2))"
   ]
  },
  {
   "cell_type": "code",
   "execution_count": 37,
   "id": "ffc4d2cf",
   "metadata": {},
   "outputs": [
    {
     "name": "stdout",
     "output_type": "stream",
     "text": [
      "The recall is:  0.9631578947368421\n",
      "The precision is:  0.7956521739130434\n",
      "The F1-score is:  0.8714285714285714\n",
      "\n",
      "The weighted recall is:  0.7768595041322314\n",
      "The weighted precision is:  0.7142172715295244\n",
      "The weighted F1-score is:  0.7442225436806964\n"
     ]
    }
   ],
   "source": [
    "#calculate recall, precision and F1 score\n",
    "\n",
    "rec = recall_score(y_test, y_pred)#, average='binary')\n",
    "#The recall is intuitively the ability of the classifier to find all the positive samples.\n",
    "pres = precision_score(y_test, y_pred)#, average='binary')\n",
    "#The precision is intuitively the ability of the classifier not to label as positive a sample that is negative.\n",
    "F1_score = 2/((1/rec) + (1/pres))\n",
    "#F1 is the harmmonic mean between recall and precision\n",
    "\n",
    "#weighted metrics\n",
    "wrec = recall_score(y_test, y_pred, average='weighted')\n",
    "wpres = precision_score(y_test, y_pred, average='weighted')\n",
    "wF1_score = 2/((1/wrec) + (1/wpres))\n",
    "\n",
    "print(\"The recall is: \", rec)\n",
    "print(\"The precision is: \", pres)\n",
    "print(\"The F1-score is: \", F1_score)\n",
    "\n",
    "print(\"\\nThe weighted recall is: \", wrec)\n",
    "print(\"The weighted precision is: \", wpres)\n",
    "print(\"The weighted F1-score is: \", wF1_score)"
   ]
  },
  {
   "cell_type": "code",
   "execution_count": 38,
   "id": "77f053a1",
   "metadata": {},
   "outputs": [
    {
     "name": "stdout",
     "output_type": "stream",
     "text": [
      "True Negative: 5\n",
      "False Positive: 47\n",
      "False Negative: 7\n",
      "True Positive: 183\n",
      "\n",
      "Error rate: 0.2231404958677686\n",
      "Accuracy: 0.7768595041322314\n",
      "Recall: 0.9631578947368421\n",
      "Specificity: 0.09615384615384616\n",
      "Precision: 0.7956521739130434\n",
      "False positive rate: 0.9038461538461539\n",
      "Mathews correlation coefficient: 0.1128138650361989\n",
      "F1 score: 0.8714285714285714\n"
     ]
    }
   ],
   "source": [
    "#metrics by hand\n",
    "\n",
    "tn, fp, fn, tp = cm.ravel()\n",
    "\n",
    "err = (fp + fn)/(fp + fn + tn + tp)\n",
    "acc = (tp + tn)/(fp + fn + tn + tp)\n",
    "re = tp/(tp + fn)\n",
    "sp = tn/(tn + fp)\n",
    "prec = tp/(tp + fp)\n",
    "fpr = fp/(tn + fp)\n",
    "mcc = ((tp*tn) - (fp*fn))/math.sqrt((tp + fp)*(tp + tn)*(tn + fp)*(tn + fn))\n",
    "F1 = 2/((1/re) + (1/prec))\n",
    "\n",
    "print(\"True Negative:\", tn)\n",
    "print(\"False Positive:\", fp)\n",
    "print(\"False Negative:\", fn)\n",
    "print(\"True Positive:\", tp)\n",
    "print(\"\\nError rate:\", err)\n",
    "print(\"Accuracy:\", acc)\n",
    "print(\"Recall:\", re) #sensitivity, true positive rate\n",
    "print(\"Specificity:\", sp) #true negative rate\n",
    "print(\"Precision:\", prec) #positive predictive value\n",
    "print(\"False positive rate:\", fpr)\n",
    "print(\"Mathews correlation coefficient:\", mcc)\n",
    "print(\"F1 score:\", F1)"
   ]
  },
  {
   "cell_type": "code",
   "execution_count": 43,
   "id": "42119360",
   "metadata": {},
   "outputs": [
    {
     "data": {
      "image/png": "[encoded data removed]",
      "text/plain": [
       "<Figure size 576x432 with 1 Axes>"
      ]
     },
     "metadata": {
      "needs_background": "light"
     },
     "output_type": "display_data"
    }
   ],
   "source": [
    "# Compute the ROC curve\n",
    "fpr, tpr, thresholds = roc_curve(y_test, y_pred_probs)\n",
    "roc_auc = auc(fpr, tpr)\n",
    "\n",
    "# Plot the ROC curve\n",
    "plt.figure(figsize=(8, 6))\n",
    "plt.plot(fpr, tpr, color='g', lw=2, label='ROC curve (area under the curve (AUC) = {:.2f})'.format(roc_auc))\n",
    "plt.plot([0, 1], [0, 1], color='gray', lw=1, linestyle='--')\n",
    "plt.xlim([0.0, 1.0])\n",
    "plt.ylim([0.0, 1.05])\n",
    "plt.xlabel('False Positive Rate (Positive label: multiple)')\n",
    "plt.ylabel('True Positive Rate (Positive label: multiple)')\n",
    "plt.title('Receiver Operating Characteristic (ROC) Curve for DNN Classifier')\n",
    "plt.legend(loc='lower right')\n",
    "plt.grid(True)\n",
    "plt.show()"
   ]
  },
  {
   "cell_type": "code",
   "execution_count": null,
   "id": "a2235377",
   "metadata": {},
   "outputs": [],
   "source": []
  }
 ],
 "metadata": {
  "kernelspec": {
   "display_name": "Python 3 (ipykernel)",
   "language": "python",
   "name": "python3"
  },
  "language_info": {
   "codemirror_mode": {
    "name": "ipython",
    "version": 3
   },
   "file_extension": ".py",
   "mimetype": "text/x-python",
   "name": "python",
   "nbconvert_exporter": "python",
   "pygments_lexer": "ipython3",
   "version": "3.8.10"
  }
 },
 "nbformat": 4,
 "nbformat_minor": 5
}
