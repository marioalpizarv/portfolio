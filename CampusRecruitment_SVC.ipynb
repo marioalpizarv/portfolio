{
 "cells": [
  {
   "cell_type": "code",
   "execution_count": null,
   "id": "5eb47049",
   "metadata": {},
   "outputs": [],
   "source": [
    "#In this example, support vector classifier is used as for multivariable classification\n",
    "#https://www.analyticsvidhya.com/blog/2021/06/confusion-matrix-for-multi-class-classification/\n",
    "import pandas as pd\n",
    "import numpy as np\n",
    "import matplotlib.pyplot as plt\n",
    "from sklearn.model_selection import train_test_split\n",
    "from sklearn.metrics import confusion_matrix\n",
    "import seaborn as sns\n",
    "\n",
    "#We use Support Vector classifier as a classifier\n",
    "from sklearn.svm import SVC\n",
    "#https://scikit-learn.org/stable/modules/generated/sklearn.metrics.recall_score.html\n",
    "from sklearn.metrics import recall_score\n",
    "#https://scikit-learn.org/stable/modules/generated/sklearn.metrics.precision_score.html\n",
    "from sklearn.metrics import precision_score"
   ]
  },
  {
   "cell_type": "code",
   "execution_count": null,
   "id": "2ac4b9dd",
   "metadata": {},
   "outputs": [],
   "source": [
    "path = ''\n",
    "file = 'Placement_Data_Full_Class.csv'\n",
    "\n",
    "df = pd.read_csv(path + file)\n",
    "df = df.dropna()\n",
    "df.head()"
   ]
  },
  {
   "cell_type": "code",
   "execution_count": null,
   "id": "27b67f70",
   "metadata": {},
   "outputs": [],
   "source": [
    "#dependent variable that will be predicted\n",
    "var = 'hsc_s'\n",
    "\n",
    "X = df.drop([var], axis=1)\n",
    "X = pd.get_dummies(X) #this is necessary because otherwise the SVC can not convert string to float\n",
    "\n",
    "# Select the dependent variable\n",
    "y = df[var] \n",
    "\n",
    "# print(X.head())\n",
    "print(X.shape)\n",
    "# print(y.head())\n",
    "print(y.shape)"
   ]
  },
  {
   "cell_type": "code",
   "execution_count": null,
   "id": "0801b2bf",
   "metadata": {},
   "outputs": [],
   "source": [
    "# Splitting the dataset to Train and test\n",
    "X_train, X_test, y_train, y_test = train_test_split(X, y, test_size=0.2, random_state=0)"
   ]
  },
  {
   "cell_type": "code",
   "execution_count": null,
   "id": "c8a54b3b",
   "metadata": {},
   "outputs": [],
   "source": [
    "#training the classifier using X_Train and y_train \n",
    "clf = SVC(kernel = 'linear').fit(X_train,y_train)"
   ]
  },
  {
   "cell_type": "code",
   "execution_count": null,
   "id": "2e382458",
   "metadata": {},
   "outputs": [],
   "source": [
    "#Testing the model using X_test and storing the output in y_pred\n",
    "y_pred = clf.predict(X_test)"
   ]
  },
  {
   "cell_type": "code",
   "execution_count": null,
   "id": "c923dd2f",
   "metadata": {},
   "outputs": [],
   "source": [
    "#calculate recall, precision and F1 score\n",
    "\n",
    "rec = recall_score(y_test, y_pred, average='weighted')\n",
    "pres = precision_score(y_test, y_pred, average='weighted')\n",
    "\n",
    "F1_score = 2/((1/rec) + (1/pres))\n",
    "\n",
    "print(\"The recall is: \", rec)\n",
    "print(\"The precision is: \", pres)\n",
    "print(\"The F1-score is: \", F1_score)"
   ]
  },
  {
   "cell_type": "code",
   "execution_count": null,
   "id": "9ee9fd68",
   "metadata": {},
   "outputs": [],
   "source": [
    "# Creating  a confusion matrix,which compares the y_test and y_pred\n",
    "cm = confusion_matrix(y_test, y_pred)\n",
    "\n",
    "# Define the class labels\n",
    "class_labels = df[var].unique()\n",
    "print(class_labels.dtype)\n",
    "\n",
    "# Plot the confusion matrix\n",
    "plt.figure(figsize=(5, 4))\n",
    "sns.heatmap(cm, annot=True, cmap='Greens')\n",
    "\n",
    "# Add a legend\n",
    "plt.xticks(ticks=np.arange(len(class_labels)) + 0.5, labels=class_labels)\n",
    "plt.yticks(ticks=np.arange(len(class_labels)) + 0.5, labels=class_labels)\n",
    "plt.xlabel('Predicted')\n",
    "plt.ylabel('True')\n",
    "plt.title('Confusion Matrix')\n",
    "\n",
    "# Display the plot\n",
    "plt.show()"
   ]
  },
  {
   "cell_type": "code",
   "execution_count": null,
   "id": "29954aad",
   "metadata": {},
   "outputs": [],
   "source": []
  }
 ],
 "metadata": {
  "kernelspec": {
   "display_name": "Python 3 (ipykernel)",
   "language": "python",
   "name": "python3"
  },
  "language_info": {
   "codemirror_mode": {
    "name": "ipython",
    "version": 3
   },
   "file_extension": ".py",
   "mimetype": "text/x-python",
   "name": "python",
   "nbconvert_exporter": "python",
   "pygments_lexer": "ipython3",
   "version": "3.8.10"
  }
 },
 "nbformat": 4,
 "nbformat_minor": 5
}
