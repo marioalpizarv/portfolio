{
 "cells": [
  {
   "cell_type": "code",
   "execution_count": 8,
   "id": "04c9d014",
   "metadata": {},
   "outputs": [],
   "source": [
    "import pandas as pd\n",
    "import numpy as np\n",
    "import matplotlib.pyplot as plt\n",
    "from sklearn.linear_model import LinearRegression\n",
    "from sklearn.model_selection import train_test_split\n",
    "from sklearn.metrics import r2_score\n",
    "from sklearn.svm import SVR\n",
    "from sklearn.preprocessing import PolynomialFeatures\n",
    "from sklearn.metrics import mean_squared_error\n",
    "from sklearn.preprocessing import StandardScaler"
   ]
  },
  {
   "cell_type": "code",
   "execution_count": 18,
   "id": "9617d35d",
   "metadata": {},
   "outputs": [
    {
     "name": "stdout",
     "output_type": "stream",
     "text": [
      "R-squared score (1 is perfect, 0 is worst possible fit):  0.8167489604602886\n",
      "                           Variable  Coefficient\n",
      "9                under-five deaths    -11.300849\n",
      "3                     infant deaths    11.128252\n",
      "19                        Schooling     2.700695\n",
      "13                         HIV/AIDS    -2.655394\n",
      "2                   Adult Mortality    -2.030576\n",
      "18  Income composition of resources     1.735949\n",
      "4                           Alcohol    -0.603975\n",
      "5            percentage expenditure     0.603232\n",
      "8                              BMI      0.516976\n",
      "0                              Year    -0.462923\n",
      "1                            Status     0.329680\n",
      "12                      Diphtheria      0.307269\n",
      "11                Total expenditure     0.243819\n",
      "17               thinness 5-9 years    -0.218194\n",
      "16             thinness  1-19 years    -0.183872\n",
      "10                            Polio     0.177899\n",
      "6                       Hepatitis B    -0.153183\n",
      "14                              GDP     0.132871\n",
      "7                          Measles     -0.094914\n",
      "15                       Population     0.037658\n"
     ]
    }
   ],
   "source": [
    "path = ''\n",
    "file = 'Life Expectancy Data.csv'\n",
    "\n",
    "df = pd.read_csv(path + file)\n",
    "df = df.dropna()\n",
    "df = df.rename(columns={'Life expectancy ': 'Life expectancy'})\n",
    "df['Status'] = df['Status'].replace('Developed', 1.0)\n",
    "df['Status'] = df['Status'].replace('Developing', 0.0)\n",
    "\n",
    "X = df.drop(['Life expectancy', 'Country'], axis=1)\n",
    "\n",
    "# Standardize features\n",
    "scaler = StandardScaler()\n",
    "X = scaler.fit_transform(X)\n",
    "\n",
    "# Select the dependent variable\n",
    "y = df['Life expectancy'] \n",
    "\n",
    "# Split the data into training and test sets\n",
    "X_train, X_test, y_train, y_test = train_test_split(X, y, test_size=0.2, random_state=42)\n",
    "\n",
    "# Create an instance of the LinearRegression model\n",
    "model = LinearRegression()\n",
    "\n",
    "# Fit the model to the training data\n",
    "model.fit(X_train, y_train)\n",
    "\n",
    "# Make predictions on the test set\n",
    "y_pred = model.predict(X_test)\n",
    "\n",
    "# Calculate the R-squared score\n",
    "r2 = r2_score(y_test, y_pred)\n",
    "\n",
    "# Calculate RMSE\n",
    "rmse = np.sqrt(mean_squared_error(y_test, y_pred))\n",
    "\n",
    "# Print the R-squared score and RMSE\n",
    "print(\"R-squared score (1 is perfect, 0 is worst possible fit): \", r2)\n",
    "\n",
    "\n",
    "coefficients = model.coef_\n",
    "\n",
    "# Create a DataFrame to display the coefficients\n",
    "coefficients_df = pd.DataFrame({'Variable': ['Year', 'Status', 'Adult Mortality',\n",
    "       'infant deaths', 'Alcohol', 'percentage expenditure', 'Hepatitis B',\n",
    "       'Measles ', ' BMI ', 'under-five deaths ', 'Polio', 'Total expenditure',\n",
    "       'Diphtheria ', ' HIV/AIDS', 'GDP', 'Population',\n",
    "       ' thinness  1-19 years', ' thinness 5-9 years',\n",
    "       'Income composition of resources', 'Schooling'], 'Coefficient': coefficients})\n",
    "\n",
    "# Sort the coefficients by magnitude\n",
    "coefficients_df = coefficients_df.reindex(coefficients_df['Coefficient'].abs().sort_values(ascending=False).index)\n",
    "\n",
    "# Print the coefficients\n",
    "print(coefficients_df)"
   ]
  },
  {
   "cell_type": "code",
   "execution_count": null,
   "id": "1bb3e7d3",
   "metadata": {},
   "outputs": [],
   "source": []
  }
 ],
 "metadata": {
  "kernelspec": {
   "display_name": "Python 3 (ipykernel)",
   "language": "python",
   "name": "python3"
  },
  "language_info": {
   "codemirror_mode": {
    "name": "ipython",
    "version": 3
   },
   "file_extension": ".py",
   "mimetype": "text/x-python",
   "name": "python",
   "nbconvert_exporter": "python",
   "pygments_lexer": "ipython3",
   "version": "3.8.10"
  }
 },
 "nbformat": 4,
 "nbformat_minor": 5
}
