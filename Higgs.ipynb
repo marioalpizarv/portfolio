{
 "cells": [
  {
   "cell_type": "code",
   "execution_count": 2,
   "id": "1c46ec21",
   "metadata": {},
   "outputs": [],
   "source": [
    "#In this example, support vector classifier is used as for multivariable classification\n",
    "#https://www.analyticsvidhya.com/blog/2021/06/confusion-matrix-for-multi-class-classification/\n",
    "import pandas as pd\n",
    "import numpy as np\n",
    "import matplotlib.pyplot as plt\n",
    "from sklearn.model_selection import train_test_split\n",
    "from sklearn.metrics import confusion_matrix\n",
    "import seaborn as sns\n",
    "\n",
    "#We use Support Vector classifier as a classifier\n",
    "from sklearn.svm import SVC\n",
    "#https://scikit-learn.org/stable/modules/generated/sklearn.metrics.recall_score.html\n",
    "from sklearn.metrics import recall_score\n",
    "#https://scikit-learn.org/stable/modules/generated/sklearn.metrics.precision_score.html\n",
    "from sklearn.metrics import precision_score"
   ]
  },
  {
   "cell_type": "code",
   "execution_count": 3,
   "id": "cf630d47",
   "metadata": {},
   "outputs": [
    {
     "data": {
      "text/plain": [
       "class                         int64\n",
       "lepton_pT                   float64\n",
       "lepton_eta                  float64\n",
       "lepton_phi                  float64\n",
       "missing_energy_magnitude    float64\n",
       "missing_energy_phi          float64\n",
       "jet1pt                      float64\n",
       "jet1eta                     float64\n",
       "jet1phi                     float64\n",
       "jet1b.tag                   float64\n",
       "jet2pt                      float64\n",
       "jet2eta                     float64\n",
       "jet2phi                     float64\n",
       "jet2b.tag                   float64\n",
       "jet3pt                      float64\n",
       "jet3eta                     float64\n",
       "jet3phi                     float64\n",
       "jet3b.tag                   float64\n",
       "jet4pt                      float64\n",
       "jet4eta                     float64\n",
       "jet4phi                     float64\n",
       "jet4b.tag                   float64\n",
       "m_jj                        float64\n",
       "m_jjj                       float64\n",
       "m_lv                        float64\n",
       "m_jlv                       float64\n",
       "m_bb                        float64\n",
       "m_wbb                       float64\n",
       "m_wwbb                      float64\n",
       "id                            int64\n",
       "dtype: object"
      ]
     },
     "execution_count": 3,
     "metadata": {},
     "output_type": "execute_result"
    }
   ],
   "source": [
    "path = ''\n",
    "file = 'train_Higgs.csv'\n",
    "file2 = 'test_Higgs.csv'\n",
    "\n",
    "df = pd.read_csv(path + file)\n",
    "df = df.dropna()\n",
    "\n",
    "df2 = pd.read_csv(path + file2)\n",
    "df2 = df2.dropna()\n",
    "#df2 = pd.get_dummies(df2)\n",
    "#df1.dtypes\n",
    "#df2.dtypes #df2 is the one that has strings as ?\n",
    "\n",
    "#df2 = df2[df2.applymap(lambda x: isinstance(x, object)).sum(axis=1) == 0]\n",
    "#there is a problem with df2, it has string values that are unable to be one hot encoded with get_dummies\n",
    "#using df only\n",
    "\n",
    "\n",
    "df.dtypes"
   ]
  },
  {
   "cell_type": "code",
   "execution_count": 4,
   "id": "533a20fa",
   "metadata": {},
   "outputs": [
    {
     "name": "stdout",
     "output_type": "stream",
     "text": [
      "(6864, 30)\n"
     ]
    }
   ],
   "source": [
    "fraction = 0.1  # Fraction of rows to select\n",
    "df = df.sample(frac=fraction, random_state=42)\n",
    "\n",
    "print(df.shape)"
   ]
  },
  {
   "cell_type": "code",
   "execution_count": 5,
   "id": "da557471",
   "metadata": {},
   "outputs": [
    {
     "name": "stdout",
     "output_type": "stream",
     "text": [
      "(6864, 29)\n",
      "(6864,)\n"
     ]
    }
   ],
   "source": [
    "#dependent variable that will be predicted\n",
    "var = 'class'\n",
    "\n",
    "#drop the dependent variable\n",
    "X = df.drop([var], axis=1)\n",
    "\n",
    "# Select the dependent variable\n",
    "y = df[var] \n",
    "\n",
    "# print(X.head())\n",
    "print(X.shape)\n",
    "# print(y.head())\n",
    "print(y.shape)\n",
    "\n",
    "#there is a problem, the next cell is not working"
   ]
  },
  {
   "cell_type": "code",
   "execution_count": null,
   "id": "6febed86",
   "metadata": {},
   "outputs": [],
   "source": [
    "# Splitting the dataset to Train and test\n",
    "X_train, X_test, y_train, y_test = train_test_split(X, y, test_size=0.2, random_state=0)\n",
    "\n",
    "#training the classifier using X_Train and y_train \n",
    "clf = SVC(kernel = 'linear').fit(X_train,y_train)\n",
    "\n",
    "#Testing the model using X_test and storing the output in y_pred\n",
    "y_pred = clf.predict(X_test)"
   ]
  },
  {
   "cell_type": "code",
   "execution_count": null,
   "id": "783cd160",
   "metadata": {},
   "outputs": [],
   "source": [
    "# Creating  a confusion matrix,which compares the y_test and y_pred\n",
    "cm = confusion_matrix(y_test, y_pred)\n",
    "\n",
    "# Define the class labels\n",
    "class_labels = df[var].unique()\n",
    "\n",
    "# Plot the confusion matrix\n",
    "plt.figure(figsize=(5, 4))\n",
    "sns.heatmap(cm, annot=True, cmap='Greens')\n",
    "\n",
    "# Add a legend\n",
    "plt.xticks(ticks=np.arange(len(class_labels)) + 0.5, labels=class_labels)\n",
    "plt.yticks(ticks=np.arange(len(class_labels)) + 0.5, labels=class_labels)\n",
    "plt.xlabel('Predicted')\n",
    "plt.ylabel('True')\n",
    "plt.title('Confusion Matrix')\n",
    "\n",
    "# Display the plot\n",
    "plt.show()"
   ]
  }
 ],
 "metadata": {
  "kernelspec": {
   "display_name": "Python 3 (ipykernel)",
   "language": "python",
   "name": "python3"
  },
  "language_info": {
   "codemirror_mode": {
    "name": "ipython",
    "version": 3
   },
   "file_extension": ".py",
   "mimetype": "text/x-python",
   "name": "python",
   "nbconvert_exporter": "python",
   "pygments_lexer": "ipython3",
   "version": "3.8.10"
  }
 },
 "nbformat": 4,
 "nbformat_minor": 5
}
