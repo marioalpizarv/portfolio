{
 "cells": [
  {
   "cell_type": "code",
   "execution_count": 3,
   "id": "a0ce1e32",
   "metadata": {},
   "outputs": [],
   "source": [
    "#In this example, a PyTorch fully connected neural network is used as for multivariable classification\n",
    "import pandas as pd\n",
    "import numpy as np\n",
    "import matplotlib.pyplot as plt\n",
    "from sklearn.model_selection import train_test_split\n",
    "from sklearn.metrics import confusion_matrix\n",
    "import seaborn as sns\n",
    "\n",
    "#!pip install torch\n",
    "import torch\n",
    "import torch.nn as nn\n",
    "import torch.optim as optim\n",
    "\n",
    "from sklearn.preprocessing import LabelEncoder\n",
    "from sklearn.datasets import load_iris"
   ]
  },
  {
   "cell_type": "code",
   "execution_count": 4,
   "id": "0bcd8d4a",
   "metadata": {},
   "outputs": [],
   "source": [
    "#load the iris dataset, this time from sklearn datasets\n",
    "data = load_iris() \n",
    "\n",
    "X =data.data\n",
    "y = data.target"
   ]
  },
  {
   "cell_type": "code",
   "execution_count": 5,
   "id": "d4ffb554",
   "metadata": {},
   "outputs": [],
   "source": [
    "# Convert labels to one-hot encoded format\n",
    "label_encoder = LabelEncoder()\n",
    "y = label_encoder.fit_transform(y)\n",
    "y = torch.tensor(y, dtype=torch.float32)\n",
    "\n",
    "# Split the dataset into train and test sets\n",
    "X_train, X_test, y_train, y_test = train_test_split(X, y, test_size=0.2, random_state=42)\n",
    "\n",
    "# Convert data to PyTorch tensors, a format optimized for neural networks in PyTorch\n",
    "X_train = torch.tensor(X_train, dtype=torch.float32)\n",
    "X_test = torch.tensor(X_test, dtype=torch.float32)\n",
    "y_train = y_train.view(-1, 1)\n",
    "y_test = y_test.view(-1, 1)"
   ]
  },
  {
   "cell_type": "code",
   "execution_count": 12,
   "id": "a4457e11-ed8f-4199-9851-36ee9cc70aae",
   "metadata": {},
   "outputs": [],
   "source": [
    "#Define the neural network using a class, for module structure and easier use\n",
    "\n",
    "#Layers:\n",
    "#fc1: fully connected layer with input_size input features and hidden_size1 output features\n",
    "#relu1: rectified linear unit (ReLU) activation function to intriduce non-linearity into the network\n",
    "#fc2: fully connected layer with hidden_size1 input and hidden_size2 output\n",
    "#relu2: second ReLU activation function\n",
    "#fc3: fully connected layer with hidden_size2 input and num_clases output\n",
    "\n",
    "class NeuralNetwork(nn.Module):\n",
    "    def __init__(self, input_size, hidden_size1, hidden_size2, num_classes):\n",
    "        super(NeuralNetwork, self).__init__()\n",
    "        self.fc1 = nn.Linear(input_size, hidden_size1)\n",
    "        self.relu1 = nn.ReLU()\n",
    "        self.fc2 = nn.Linear(hidden_size1, hidden_size2)\n",
    "        self.relu2 = nn.ReLU()\n",
    "        self.fc3 = nn.Linear(hidden_size2, num_classes)\n",
    "    \n",
    "    def forward(self, x):\n",
    "        out = self.fc1(x)\n",
    "        out = self.relu1(out)\n",
    "        out = self.fc2(out)\n",
    "        out = self.relu2(out)\n",
    "        out = self.fc3(out)\n",
    "        return out"
   ]
  },
  {
   "cell_type": "code",
   "execution_count": 21,
   "id": "ff6cdae9-1a31-4368-a444-970fdfe85516",
   "metadata": {},
   "outputs": [],
   "source": [
    "input_size = 4  # Number of features in the input\n",
    "hidden_size1 = 64  # Number of neurons in the first hidden layer\n",
    "hidden_size2 = 32  # Number of neurons in the second hidden layer\n",
    "num_classes = 3  # Number of classes in the output\n",
    "\n",
    "model = NeuralNetwork(input_size, hidden_size1, hidden_size2, num_classes)"
   ]
  },
  {
   "cell_type": "code",
   "execution_count": 22,
   "id": "734d9dd2",
   "metadata": {},
   "outputs": [],
   "source": [
    "# Define loss function and optimizer\n",
    "#criterion or loss function: Cross Entropy Loss for multiple class clasification, combines softmax and loglikelihood loss\n",
    "#optimizer: adam optimizer to minimize loss function, with learning rate of 0.001\n",
    "criterion = nn.CrossEntropyLoss()\n",
    "optimizer = optim.Adam(model.parameters(), lr=0.001)"
   ]
  },
  {
   "cell_type": "code",
   "execution_count": 26,
   "id": "08e5c7ce",
   "metadata": {},
   "outputs": [
    {
     "name": "stdout",
     "output_type": "stream",
     "text": [
      "Epoch [100/1000], Loss: 0.0572\n",
      "Epoch [200/1000], Loss: 0.0554\n",
      "Epoch [300/1000], Loss: 0.0540\n",
      "Epoch [400/1000], Loss: 0.0527\n",
      "Epoch [500/1000], Loss: 0.0514\n",
      "Epoch [600/1000], Loss: 0.0504\n",
      "Epoch [700/1000], Loss: 0.0494\n",
      "Epoch [800/1000], Loss: 0.0486\n",
      "Epoch [900/1000], Loss: 0.0480\n",
      "Epoch [1000/1000], Loss: 0.0476\n"
     ]
    }
   ],
   "source": [
    "# Training loop using 500 epochs or iterations trough the dataset\n",
    "# Print the loss function every 100 epochs, to verify that it is indeed decreasing\n",
    "num_epochs = 1000\n",
    "for epoch in range(num_epochs):\n",
    "    optimizer.zero_grad()\n",
    "    outputs = model(X_train)\n",
    "    loss = criterion(outputs, y_train.squeeze().long())\n",
    "    loss.backward()\n",
    "    optimizer.step()\n",
    "    if (epoch+1) % 100 == 0: \n",
    "        print(f'Epoch [{epoch+1}/{num_epochs}], Loss: {loss.item():.4f}')\n"
   ]
  },
  {
   "cell_type": "code",
   "execution_count": 27,
   "id": "e9933bd6",
   "metadata": {},
   "outputs": [
    {
     "name": "stdout",
     "output_type": "stream",
     "text": [
      "Accuracy on test set: 1.0000\n"
     ]
    }
   ],
   "source": [
    "# Evaluate the trained NN\n",
    "with torch.no_grad(): #disable gradiend calculation since it is not needed in evaluation\n",
    "    model.eval() #use evaluation behavior in all layers\n",
    "    test_outputs = model(X_test) #predict on the test data\n",
    "    _, predicted = torch.max(test_outputs, 1) #find maximum value corresponding to predicted class\n",
    "    accuracy = torch.sum(predicted == y_test.squeeze().long()).item() / y_test.size(0) #calculate accuracy as classes predicted correctly\n",
    "    print(f'Accuracy on test set: {accuracy:.4f}')                                     #divided by total classes"
   ]
  },
  {
   "cell_type": "code",
   "execution_count": 28,
   "id": "83e13677",
   "metadata": {},
   "outputs": [
    {
     "data": {
      "image/png": "[encoded data removed]",
      "text/plain": [
       "<Figure size 500x400 with 2 Axes>"
      ]
     },
     "metadata": {},
     "output_type": "display_data"
    }
   ],
   "source": [
    "# Creating  a confusion matrix,which compares the y_test and y_pred\n",
    "\n",
    "# Convert predicted tensor to numpy array\n",
    "y_pred_np = predicted.numpy()\n",
    "\n",
    "# Convert labels back to original class labels\n",
    "y_test_np = y_test.squeeze().numpy()\n",
    "\n",
    "cm = confusion_matrix(y_test_np, y_pred_np)\n",
    "\n",
    "class_labels = ['setosa', 'versicolor', 'virginica']\n",
    "\n",
    "# Plot the confusion matrix\n",
    "plt.figure(figsize=(5, 4))\n",
    "sns.heatmap(cm, annot=True, cmap='Greens')\n",
    "\n",
    "# Add a legend\n",
    "plt.xticks(ticks=np.arange(len(class_labels)) + 0.5, labels=class_labels)\n",
    "plt.yticks(ticks=np.arange(len(class_labels)) + 0.5, labels=class_labels)\n",
    "plt.xlabel('Predicted')\n",
    "plt.ylabel('True')\n",
    "plt.title('Confusion Matrix for PyTorch FCNN')\n",
    "\n",
    "# Display the plot\n",
    "plt.show()"
   ]
  },
  {
   "cell_type": "code",
   "execution_count": null,
   "id": "b2419c3d",
   "metadata": {},
   "outputs": [],
   "source": []
  }
 ],
 "metadata": {
  "kernelspec": {
   "display_name": "Python 3 (ipykernel)",
   "language": "python",
   "name": "python3"
  },
  "language_info": {
   "codemirror_mode": {
    "name": "ipython",
    "version": 3
   },
   "file_extension": ".py",
   "mimetype": "text/x-python",
   "name": "python",
   "nbconvert_exporter": "python",
   "pygments_lexer": "ipython3",
   "version": "3.8.10"
  }
 },
 "nbformat": 4,
 "nbformat_minor": 5
}
