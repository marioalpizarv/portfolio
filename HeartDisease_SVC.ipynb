{
 "cells": [
  {
   "cell_type": "code",
   "execution_count": 60,
   "id": "3fddc5f4",
   "metadata": {},
   "outputs": [],
   "source": [
    "#In this example, support vector classifier is used for binary classification. I perform\n",
    "#cross validation, and include confusion matrix, ROC and PR curves, as well as metrics \n",
    "#such as recall, accuracy, specificity and mathew's correlation coefficient to evaluate\n",
    "#the classifier's performance.\n",
    "\n",
    "import pandas as pd\n",
    "import numpy as np\n",
    "import matplotlib.pyplot as plt\n",
    "from sklearn.model_selection import train_test_split\n",
    "from sklearn.metrics import confusion_matrix\n",
    "from sklearn.metrics import roc_curve, auc\n",
    "from sklearn.metrics import precision_recall_curve, auc\n",
    "import seaborn as sns\n",
    "import math\n",
    "\n",
    "#Use Support Vector classifier as a classifier\n",
    "from sklearn.svm import SVC\n",
    "#https://scikit-learn.org/stable/modules/generated/sklearn.metrics.recall_score.html\n",
    "from sklearn.metrics import recall_score\n",
    "#https://scikit-learn.org/stable/modules/generated/sklearn.metrics.precision_score.html\n",
    "from sklearn.metrics import precision_score\n",
    "\n",
    "from sklearn.model_selection import cross_val_score\n",
    "from sklearn.metrics import accuracy_score\n",
    "#https://scikit-learn.org/stable/modules/generated/sklearn.metrics.recall_score.html\n",
    "from sklearn.metrics import recall_score\n",
    "#https://scikit-learn.org/stable/modules/generated/sklearn.metrics.precision_score.html\n",
    "from sklearn.metrics import precision_score"
   ]
  },
  {
   "cell_type": "code",
   "execution_count": 61,
   "id": "7750f058",
   "metadata": {},
   "outputs": [
    {
     "name": "stdout",
     "output_type": "stream",
     "text": [
      "Index(['age', 'sex', 'cp', 'trestbps', 'chol', 'fbs', 'restecg', 'thalach',\n",
      "       'exang', 'oldpeak', 'slope', 'ca', 'thal', 'target'],\n",
      "      dtype='object')\n"
     ]
    }
   ],
   "source": [
    "path = ''\n",
    "file = 'heart.csv'\n",
    "\n",
    "df = pd.read_csv(path + file)\n",
    "df = df.dropna()\n",
    "df.head()\n",
    "print(df.keys())"
   ]
  },
  {
   "cell_type": "code",
   "execution_count": 62,
   "id": "22bdfcb2",
   "metadata": {},
   "outputs": [
    {
     "name": "stdout",
     "output_type": "stream",
     "text": [
      "(1025, 13)\n",
      "(1025,)\n"
     ]
    }
   ],
   "source": [
    "#dependent variable that will be predicted\n",
    "var = 'target'\n",
    "\n",
    "X = df.drop([var], axis=1)\n",
    "X = pd.get_dummies(X) #this is necessary because otherwise the SVC can not convert string to float\n",
    "\n",
    "# Select the dependent variable\n",
    "y = df[var] \n",
    "\n",
    "# print(X.head())\n",
    "print(X.shape)\n",
    "# print(y.head())\n",
    "print(y.shape)"
   ]
  },
  {
   "cell_type": "code",
   "execution_count": 63,
   "id": "4a3f4a36",
   "metadata": {},
   "outputs": [],
   "source": [
    "#initialize the classifier\n",
    "clf = SVC(kernel = 'linear')"
   ]
  },
  {
   "cell_type": "code",
   "execution_count": 56,
   "id": "2e63355a",
   "metadata": {},
   "outputs": [
    {
     "name": "stdout",
     "output_type": "stream",
     "text": [
      "Cross-Validation Scores:\n",
      "Fold 1: 0.85\n",
      "Fold 2: 0.90\n",
      "Fold 3: 0.87\n",
      "Fold 4: 0.83\n",
      "Fold 5: 0.86\n",
      "Fold 6: 0.87\n",
      "Fold 7: 0.80\n",
      "Fold 8: 0.82\n",
      "Fold 9: 0.77\n",
      "Fold 10: 0.81\n",
      "\n",
      "Average Score: 0.84\n"
     ]
    }
   ],
   "source": [
    "# Perform cross-validation with 10 folds\n",
    "# 'cv' parameter specifies the number of folds\n",
    "# 'scoring' parameter specifies the evaluation metric (e.g., 'accuracy')\n",
    "\n",
    "#aprox runtime: 1 minute\n",
    "\n",
    "cross_val_scores = cross_val_score(clf, X, y, cv=10, scoring='accuracy')\n",
    "\n",
    "# Print the cross-validation scores for each fold\n",
    "print(\"Cross-Validation Scores:\")\n",
    "for fold, score in enumerate(cross_val_scores, start=1):\n",
    "    print(f\"Fold {fold}: {score:.2f}\")\n",
    "\n",
    "# Calculate and print the average cross-validation score\n",
    "average_score = cross_val_scores.mean()\n",
    "print(f\"\\nAverage Score: {average_score:.2f}\")"
   ]
  },
  {
   "cell_type": "code",
   "execution_count": 64,
   "id": "94eb16f0",
   "metadata": {},
   "outputs": [
    {
     "name": "stdout",
     "output_type": "stream",
     "text": [
      "Accuracy: 0.83902\n"
     ]
    }
   ],
   "source": [
    "# Splitting the dataset to Train and test\n",
    "X_train, X_test, y_train, y_test = train_test_split(X, y, test_size=0.2, random_state=0)\n",
    "\n",
    "#training the classifier using X_Train and y_train \n",
    "clf.fit(X_train,y_train)\n",
    "\n",
    "#Testing the model using X_test and storing the output in y_pred\n",
    "y_pred = clf.predict(X_test)\n",
    "\n",
    "# Calculate the accuracy of the model\n",
    "accuracy = accuracy_score(y_test, y_pred)\n",
    "print(f\"Accuracy: {accuracy:.5f}\")"
   ]
  },
  {
   "cell_type": "code",
   "execution_count": 65,
   "id": "50e721a5",
   "metadata": {},
   "outputs": [
    {
     "name": "stdout",
     "output_type": "stream",
     "text": [
      "The weighted recall is:  0.8390243902439024\n",
      "The weighted precision is:  0.8454844568196819\n",
      "The weighted F1-score is:  0.842242036401788\n"
     ]
    }
   ],
   "source": [
    "#calculate recall, precision and F1 score\n",
    "\n",
    "rec = recall_score(y_test, y_pred, average='weighted')\n",
    "pres = precision_score(y_test, y_pred, average='weighted')\n",
    "\n",
    "F1_score = 2/((1/rec) + (1/pres))\n",
    "\n",
    "print(\"The weighted recall is: \", rec)\n",
    "print(\"The weighted precision is: \", pres)\n",
    "print(\"The weighted F1-score is: \", F1_score)"
   ]
  },
  {
   "cell_type": "code",
   "execution_count": 66,
   "id": "e6b535eb",
   "metadata": {},
   "outputs": [
    {
     "data": {
      "image/png": "[encoded data removed]",
      "text/plain": [
       "<Figure size 360x288 with 2 Axes>"
      ]
     },
     "metadata": {
      "needs_background": "light"
     },
     "output_type": "display_data"
    }
   ],
   "source": [
    "# Creating  a confusion matrix,which compares the y_test and y_pred\n",
    "cm = confusion_matrix(y_test, y_pred)\n",
    "\n",
    "# Define the class labels\n",
    "class_labels = ['no disease', 'disease']\n",
    "\n",
    "# Plot the confusion matrix\n",
    "plt.figure(figsize=(5, 4))\n",
    "sns.heatmap(cm, annot=True, cmap='Greens')\n",
    "\n",
    "# Add a legend\n",
    "plt.xticks(ticks=np.arange(len(class_labels)) + 0.5, labels=class_labels)\n",
    "plt.yticks(ticks=np.arange(len(class_labels)) + 0.5, labels=class_labels)\n",
    "plt.xlabel('Predicted')\n",
    "plt.ylabel('True')\n",
    "plt.title('Confusion Matrix')\n",
    "\n",
    "# Display the plot\n",
    "plt.show()"
   ]
  },
  {
   "cell_type": "code",
   "execution_count": 67,
   "id": "bcbf8b0a",
   "metadata": {},
   "outputs": [
    {
     "name": "stdout",
     "output_type": "stream",
     "text": [
      "True Positive: 74\n",
      "False Negative: 24\n",
      "False Positive: 9\n",
      "True Negative: 98\n",
      "\n",
      "Error rate: 0.16097560975609757\n",
      "Accuracy: 0.8390243902439024\n",
      "True positive rate: 0.7551020408163265\n",
      "Specificity: 0.9158878504672897\n",
      "Precision: 0.891566265060241\n",
      "False positive rate: 0.08411214953271028\n",
      "Mathews correlation coefficient: 0.5154075273269925\n",
      "Normalized Mathews correlation coefficient: 0.7577037636634962\n",
      "F1 score: 0.8176795580110496\n"
     ]
    }
   ],
   "source": [
    "#metrics by hand\n",
    "\n",
    "tp, fn, fp, tn = cm.ravel()\n",
    "\n",
    "err = (fp + fn)/(fp + fn + tn + tp)\n",
    "acc = (tp + tn)/(fp + fn + tn + tp)\n",
    "re = tp/(tp + fn)\n",
    "sp = tn/(tn + fp)\n",
    "prec = tp/(tp + fp)\n",
    "fpr = fp/(tn + fp)\n",
    "mcc = ((tp*tn) - (fp*fn))/math.sqrt((tp + fp)*(tp + tn)*(tn + fp)*(tn + fn))\n",
    "nmcc = (mcc + 1)/2\n",
    "F1 = 2/((1/re) + (1/prec))\n",
    "\n",
    "print(\"True Positive:\", tp)\n",
    "print(\"False Negative:\", fn)\n",
    "print(\"False Positive:\", fp)\n",
    "print(\"True Negative:\", tn)\n",
    "print(\"\\nError rate:\", err)\n",
    "print(\"Accuracy:\", acc)\n",
    "print(\"True positive rate:\", re) #sensitivity, recall\n",
    "print(\"Specificity:\", sp) #true negative rate\n",
    "print(\"Precision:\", prec) #positive predictive value\n",
    "print(\"False positive rate:\", fpr)\n",
    "print(\"Mathews correlation coefficient:\", mcc) #depends on al 4 cm values, ranges from +1 to -1, 0 is random\n",
    "print(\"Normalized Mathews correlation coefficient:\", nmcc) #depends on al 4 cm values,ranges from 0 to 1, 1/2 is random\n",
    "print(\"F1 score:\", F1)"
   ]
  },
  {
   "cell_type": "code",
   "execution_count": 50,
   "id": "63d12b59",
   "metadata": {},
   "outputs": [
    {
     "data": {
      "image/png": "[encoded data removed]",
      "text/plain": [
       "<Figure size 576x432 with 1 Axes>"
      ]
     },
     "metadata": {
      "needs_background": "light"
     },
     "output_type": "display_data"
    }
   ],
   "source": [
    "# Compute the ROC curve\n",
    "fpr, tpr, thresholds = roc_curve(y_test, y_pred)\n",
    "roc_auc = auc(fpr, tpr)\n",
    "\n",
    "# Plot the ROC curve\n",
    "plt.figure(figsize=(8, 6))\n",
    "plt.plot(fpr, tpr, color='g', lw=2, label='ROC curve, area under the curve (AUC) = {:.2f}'.format(roc_auc))\n",
    "plt.plot([0, 1], [0, 1], color='gray', lw=1, linestyle='--')\n",
    "plt.xlim([0.0, 1.0])\n",
    "plt.ylim([0.0, 1.05])\n",
    "#plt.xlabel('False Positive Rate (Positive label: multiple recoil)')\n",
    "#plt.ylabel('True Positive Rate (Positive label: multiple recoil)')\n",
    "plt.xlabel('False Positive Rate')\n",
    "plt.ylabel('True Positive Rate')\n",
    "plt.title('Receiver Operating Characteristic (ROC) Curve for SVC Classifier')\n",
    "plt.legend(loc='lower right')\n",
    "plt.grid(True)\n",
    "plt.show()"
   ]
  },
  {
   "cell_type": "code",
   "execution_count": 51,
   "id": "9c1aa017",
   "metadata": {},
   "outputs": [
    {
     "data": {
      "image/png": "[encoded data removed]",
      "text/plain": [
       "<Figure size 576x432 with 1 Axes>"
      ]
     },
     "metadata": {
      "needs_background": "light"
     },
     "output_type": "display_data"
    }
   ],
   "source": [
    "# Do a Precision-Recall curve\n",
    "\n",
    "# Compute precision and recall\n",
    "precision, recall, _ = precision_recall_curve(y_test, y_pred)\n",
    "\n",
    "# Calculate the AUC for the precision-recall curve\n",
    "pr_auc = auc(recall, precision)\n",
    "\n",
    "# Plot the precision-recall curve\n",
    "plt.figure(figsize=(8, 6))\n",
    "plt.step(recall, precision, color='g', where='post', label='PR curve, area under the curve (AUC) = {:.2f}'.format(pr_auc))\n",
    "#plt.fill_between(recall, precision, step='post', alpha=0.2, color='b')\n",
    "plt.plot([0, 1], [1, 0], color='gray', lw=1, linestyle='--')\n",
    "plt.xlabel('Recall')\n",
    "plt.ylabel('Precision')\n",
    "plt.ylim([0.0, 1.05])\n",
    "plt.xlim([0.0, 1.0])\n",
    "plt.title('Precision-Recall (PR) Curve for SVC Classifier')\n",
    "plt.legend(loc='lower right')\n",
    "plt.grid(True)\n",
    "plt.show()"
   ]
  },
  {
   "cell_type": "code",
   "execution_count": null,
   "id": "5aadcc57",
   "metadata": {},
   "outputs": [],
   "source": []
  }
 ],
 "metadata": {
  "kernelspec": {
   "display_name": "Python 3 (ipykernel)",
   "language": "python",
   "name": "python3"
  },
  "language_info": {
   "codemirror_mode": {
    "name": "ipython",
    "version": 3
   },
   "file_extension": ".py",
   "mimetype": "text/x-python",
   "name": "python",
   "nbconvert_exporter": "python",
   "pygments_lexer": "ipython3",
   "version": "3.8.10"
  }
 },
 "nbformat": 4,
 "nbformat_minor": 5
}
